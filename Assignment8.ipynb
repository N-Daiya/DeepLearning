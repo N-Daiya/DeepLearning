{
  "nbformat": 4,
  "nbformat_minor": 0,
  "metadata": {
    "colab": {
      "name": "Assignment8.ipynb",
      "provenance": [],
      "authorship_tag": "ABX9TyMwlUo89EQmwxw3Bu8FSF28",
      "include_colab_link": true
    },
    "kernelspec": {
      "name": "python3",
      "display_name": "Python 3"
    }
  },
  "cells": [
    {
      "cell_type": "markdown",
      "metadata": {
        "id": "view-in-github",
        "colab_type": "text"
      },
      "source": [
        "<a href=\"https://colab.research.google.com/github/N-Daiya/DeepLearning/blob/HW/Assignment8.ipynb\" target=\"_parent\"><img src=\"https://colab.research.google.com/assets/colab-badge.svg\" alt=\"Open In Colab\"/></a>"
      ]
    },
    {
      "cell_type": "code",
      "metadata": {
        "id": "CYIjyCSEMLm8"
      },
      "source": [
        "from bs4 import BeautifulSoup\n",
        "import numpy as np\n",
        "import requests\n",
        "import cv2\n",
        "import PIL.Image\n",
        "import urllib\n",
        "import os\n",
        "import pandas as pd"
      ],
      "execution_count": 1,
      "outputs": []
    },
    {
      "cell_type": "code",
      "metadata": {
        "id": "zBBZBazYMi-C"
      },
      "source": [
        "ie_page = requests.get(\"http://www.image-net.org/api/text/imagenet.synset.geturls?wnid=n02504013\")    #indian elephant\n",
        "ie_soup = BeautifulSoup(ie_page.content, 'html.parser') "
      ],
      "execution_count": 2,
      "outputs": []
    },
    {
      "cell_type": "code",
      "metadata": {
        "id": "I2FaXxoEMoMA"
      },
      "source": [
        "ae_page = requests.get(\"http://www.image-net.org/api/text/imagenet.synset.geturls?wnid=n02504458\")    #african elephant synset\n",
        "ae_soup = BeautifulSoup(ae_page.content, 'html.parser')"
      ],
      "execution_count": 3,
      "outputs": []
    },
    {
      "cell_type": "code",
      "metadata": {
        "id": "q8yLS-prMsXQ"
      },
      "source": [
        "t_page = requests.get(\"http://www.image-net.org/api/text/imagenet.synset.geturls?wnid=n01871265\")   #tuskers synset\n",
        "t_soup = BeautifulSoup(t_page.content, 'html.parser')"
      ],
      "execution_count": 4,
      "outputs": []
    },
    {
      "cell_type": "code",
      "metadata": {
        "id": "wOqOOLg6MyNE",
        "outputId": "b607ea80-3974-4cb9-856c-ad19db0a27cb",
        "colab": {
          "base_uri": "https://localhost:8080/"
        }
      },
      "source": [
        "ie_str_soup=str(ie_soup)    \n",
        "type(ie_str_soup)\n",
        "ie_split_urls=ie_str_soup.split('\\r\\n')     \n",
        "print(len(ie_split_urls))"
      ],
      "execution_count": 5,
      "outputs": [
        {
          "output_type": "stream",
          "text": [
            "1650\n"
          ],
          "name": "stdout"
        }
      ]
    },
    {
      "cell_type": "code",
      "metadata": {
        "id": "mfncvo7DM2n8",
        "outputId": "77c6e65a-4c20-4dca-e319-38c0342a9ca9",
        "colab": {
          "base_uri": "https://localhost:8080/"
        }
      },
      "source": [
        "ae_str_soup=str(ae_soup)      \n",
        "type(ae_str_soup)\n",
        "ae_split_urls=ae_str_soup.split('\\r\\n')     \n",
        "print(len(ae_split_urls))"
      ],
      "execution_count": 6,
      "outputs": [
        {
          "output_type": "stream",
          "text": [
            "2278\n"
          ],
          "name": "stdout"
        }
      ]
    },
    {
      "cell_type": "code",
      "metadata": {
        "id": "834qyfS5M54_",
        "outputId": "5b76d91d-a353-4e3d-b326-5968aa34b351",
        "colab": {
          "base_uri": "https://localhost:8080/"
        }
      },
      "source": [
        "t_str_soup=str(t_soup)      #convert soup to string so it can be split\n",
        "type(t_str_soup)\n",
        "t_split_urls=t_str_soup.split('\\r\\n')     #split so each url is a different possition on a list\n",
        "print(len(t_split_urls))"
      ],
      "execution_count": 7,
      "outputs": [
        {
          "output_type": "stream",
          "text": [
            "1065\n"
          ],
          "name": "stdout"
        }
      ]
    },
    {
      "cell_type": "code",
      "metadata": {
        "id": "yVS2OtpnNOUh"
      },
      "source": [
        "#check if all the images where stored on the files system\n",
        "!mkdir /content/train \n",
        "!mkdir /content/train/Indian_Elephant    \n",
        "!mkdir /content/train/African_Alephant    \n",
        "!mkdir /content/train/Tuskers    \n",
        "\n",
        "!mkdir /content/validation\n",
        "!mkdir /content/validation/Indian_Elephant \n",
        "!mkdir /content/validation/African_Alephant \n",
        "!mkdir /content/validation/Tuskers \n",
        "\n",
        "!mkdir /content/test/ \n",
        "!mkdir /content/test/test "
      ],
      "execution_count": 8,
      "outputs": []
    },
    {
      "cell_type": "code",
      "metadata": {
        "id": "LhVQVFnKNTjq"
      },
      "source": [
        "img_rows, img_cols = 32, 32     \n",
        "input_shape = (img_rows, img_cols, 3)   \n",
        "\n",
        "def url_to_image(url):\n",
        "\t\n",
        "\tresp = urllib.request.urlopen(url)\n",
        "\timage = np.asarray(bytearray(resp.read()), dtype=\"uint8\")\n",
        "\timage = cv2.imdecode(image, cv2.IMREAD_COLOR)\n",
        " \n",
        "\t# return the image\n",
        "\treturn image"
      ],
      "execution_count": 9,
      "outputs": []
    },
    {
      "cell_type": "code",
      "metadata": {
        "id": "5Uu81xzNNkjP",
        "outputId": "62d483f0-874f-4f72-d9e1-c610056df459",
        "colab": {
          "base_uri": "https://localhost:8080/"
        }
      },
      "source": [
        "n_of_training_images=150    #the number of training images to use\n",
        "\n",
        "for progress in range(n_of_training_images):    #store all the images on a directory\n",
        "    # Print out progress whenever progress is a multiple of 20 so we can follow the\n",
        "    # (relatively slow) progress\n",
        "    if(progress%20==0):\n",
        "        print(progress)\n",
        "    if not ie_split_urls[progress] == None:\n",
        "      try:\n",
        "        I = url_to_image(ie_split_urls[progress])\n",
        "        if (len(I.shape))==3:    #check if the image has width, length and channels\n",
        "          save_path = '/content/train/Indian_Elephant/img'+str(progress)+'.jpg'      #create a name of each image\n",
        "          cv2.imwrite(save_path,I)\n",
        "\n",
        "      except:\n",
        "        None"
      ],
      "execution_count": 10,
      "outputs": [
        {
          "output_type": "stream",
          "text": [
            "0\n",
            "20\n",
            "40\n",
            "60\n",
            "80\n",
            "100\n",
            "120\n",
            "140\n"
          ],
          "name": "stdout"
        }
      ]
    },
    {
      "cell_type": "code",
      "metadata": {
        "id": "7EpqA3rYNs2K",
        "outputId": "6eac29e0-df44-418c-8333-dc378cc39cc5",
        "colab": {
          "base_uri": "https://localhost:8080/"
        }
      },
      "source": [
        "for progress in range(n_of_training_images):\n",
        "    \n",
        "    if(progress%20==0):\n",
        "        print(progress)\n",
        "    if not ae_split_urls[progress] == None:\n",
        "      try:\n",
        "        I = url_to_image(ae_split_urls[progress])\n",
        "        if (len(I.shape))==3: \n",
        "          save_path = '/content/train/African_Alephant/img'+str(progress)+'.jpg'\n",
        "          cv2.imwrite(save_path,I)\n",
        "\n",
        "      except:\n",
        "        None"
      ],
      "execution_count": 11,
      "outputs": [
        {
          "output_type": "stream",
          "text": [
            "0\n",
            "20\n",
            "40\n",
            "60\n",
            "80\n",
            "100\n",
            "120\n",
            "140\n"
          ],
          "name": "stdout"
        }
      ]
    },
    {
      "cell_type": "code",
      "metadata": {
        "id": "hCH6q55PN71P",
        "outputId": "8bf6d223-31db-434b-93b7-ffa143a96f77",
        "colab": {
          "base_uri": "https://localhost:8080/"
        }
      },
      "source": [
        "\n",
        "for progress in range(n_of_training_images):\n",
        "    if(progress%20==0):\n",
        "        print(progress)\n",
        "    if not t_split_urls[progress] == None:\n",
        "      try:\n",
        "        I = url_to_image(t_split_urls[progress])\n",
        "        if (len(I.shape))==3: \n",
        "          save_path = '/content/train/Tuskers/img'+str(progress)+'.jpg'\n",
        "          cv2.imwrite(save_path,I)\n",
        "\n",
        "      except:\n",
        "        None"
      ],
      "execution_count": 12,
      "outputs": [
        {
          "output_type": "stream",
          "text": [
            "0\n",
            "20\n",
            "40\n",
            "60\n",
            "80\n",
            "100\n",
            "120\n",
            "140\n"
          ],
          "name": "stdout"
        }
      ]
    },
    {
      "cell_type": "code",
      "metadata": {
        "id": "rXLA89ezOLfV",
        "outputId": "e236aa1f-14be-4a1b-9285-9ed116f23e5f",
        "colab": {
          "base_uri": "https://localhost:8080/"
        }
      },
      "source": [
        "for progress in range(50):      \n",
        "    if(progress%10==0):\n",
        "        print(progress)\n",
        "    if not ie_split_urls[n_of_training_images+progress] == None:\n",
        "      try:\n",
        "        I = url_to_image(ie_split_urls[n_of_training_images+progress])      \n",
        "        if (len(I.shape))==3:      \n",
        "          save_path = '/content/validation/Indian_Elephant/img'+str(progress)+'.jpg'      \n",
        "          cv2.imwrite(save_path,I)\n",
        "\n",
        "      except:\n",
        "        None"
      ],
      "execution_count": 13,
      "outputs": [
        {
          "output_type": "stream",
          "text": [
            "0\n",
            "10\n",
            "20\n",
            "30\n",
            "40\n"
          ],
          "name": "stdout"
        }
      ]
    },
    {
      "cell_type": "code",
      "metadata": {
        "id": "B1XmnL-ROYcB",
        "outputId": "0fc44fdb-a359-476f-e1c3-e3ba9dea109e",
        "colab": {
          "base_uri": "https://localhost:8080/"
        }
      },
      "source": [
        "for progress in range(50):    #store all the images on a directory\n",
        "    # Print out progress whenever progress is a multiple of 10 so we can follow the\n",
        "    # (relatively slow) progress\n",
        "    if(progress%10==0):\n",
        "        print(progress)\n",
        "    if not ae_split_urls[n_of_training_images+progress] == None:\n",
        "      try:\n",
        "        I = url_to_image(ae_split_urls[n_of_training_images+progress])   #get images that are different from the ones used for training\n",
        "        if (len(I.shape))==3:     #check if the image has width, length and channels\n",
        "          save_path = '/content/validation/African_Alephant/img'+str(progress)+'.jpg'   #create a name of each image\n",
        "          cv2.imwrite(save_path,I)\n",
        "\n",
        "      except:\n",
        "        None"
      ],
      "execution_count": 14,
      "outputs": [
        {
          "output_type": "stream",
          "text": [
            "0\n",
            "10\n",
            "20\n",
            "30\n",
            "40\n"
          ],
          "name": "stdout"
        }
      ]
    },
    {
      "cell_type": "code",
      "metadata": {
        "id": "MP0qXPtWOlTY",
        "outputId": "79473b27-695e-4503-c2a0-e5fd00695aa2",
        "colab": {
          "base_uri": "https://localhost:8080/"
        }
      },
      "source": [
        "for progress in range(50):    \n",
        "    \n",
        "    if(progress%10==0):\n",
        "        print(progress)\n",
        "    if not t_split_urls[progress] == None:\n",
        "      try:\n",
        "        I = url_to_image(t_split_urls[n_of_training_images+progress])   \n",
        "        if (len(I.shape))==3:      \n",
        "          save_path = '/content/validation/Tuskers/img'+str(progress)+'.jpg'    \n",
        "          cv2.imwrite(save_path,I)\n",
        "\n",
        "      except:\n",
        "        None"
      ],
      "execution_count": 15,
      "outputs": [
        {
          "output_type": "stream",
          "text": [
            "0\n",
            "10\n",
            "20\n",
            "30\n",
            "40\n"
          ],
          "name": "stdout"
        }
      ]
    },
    {
      "cell_type": "code",
      "metadata": {
        "id": "iJgpJ7uiO1DR",
        "outputId": "0150d290-eced-42c6-dfa5-7a5eb037f671",
        "colab": {
          "base_uri": "https://localhost:8080/"
        }
      },
      "source": [
        "print(\"\\nTRAIN:\\n\")          \n",
        "print(\"\\nlist the files inside Indian_Elephant directory:\\n\")        \n",
        "!ls /content/train/Indian_Elephant    \n",
        "print(\"\\nlist the files inside African_Alephant directory:\\n\")\n",
        "!ls /content/train/African_Alephant    \n",
        "print(\"\\nlist the files inside Tuskers directory:\\n\")\n",
        "!ls /content/train/Tuskers   \n",
        "\n",
        "print(\"\\nVALIDATION:\\n\")\n",
        "print(\"\\nlist the files inside Indian_Elephant directory:\\n\")        \n",
        "!ls /content/validation/Indian_Elephant     \n",
        "print(\"\\nlist the files inside African_Alephant directory:\\n\")\n",
        "!ls /content/validation/African_Alephant     \n",
        "print(\"\\nlist the files inside Tuskers directory:\\n\")\n",
        "!ls /content/validation/Tuskers    "
      ],
      "execution_count": 16,
      "outputs": [
        {
          "output_type": "stream",
          "text": [
            "\n",
            "TRAIN:\n",
            "\n",
            "\n",
            "list the files inside Indian_Elephant directory:\n",
            "\n",
            "img0.jpg    img115.jpg\timg131.jpg  img25.jpg  img48.jpg  img70.jpg  img87.jpg\n",
            "img100.jpg  img117.jpg\timg133.jpg  img2.jpg   img51.jpg  img71.jpg  img88.jpg\n",
            "img103.jpg  img119.jpg\timg139.jpg  img30.jpg  img52.jpg  img74.jpg  img91.jpg\n",
            "img104.jpg  img11.jpg\timg145.jpg  img31.jpg  img54.jpg  img76.jpg  img92.jpg\n",
            "img105.jpg  img121.jpg\timg148.jpg  img35.jpg  img55.jpg  img77.jpg  img94.jpg\n",
            "img106.jpg  img122.jpg\timg15.jpg   img3.jpg   img57.jpg  img78.jpg  img95.jpg\n",
            "img107.jpg  img123.jpg\timg17.jpg   img41.jpg  img5.jpg   img79.jpg  img97.jpg\n",
            "img108.jpg  img125.jpg\timg18.jpg   img44.jpg  img60.jpg  img7.jpg   img98.jpg\n",
            "img110.jpg  img127.jpg\timg1.jpg    img45.jpg  img63.jpg  img80.jpg  img9.jpg\n",
            "img112.jpg  img12.jpg\timg20.jpg   img46.jpg  img64.jpg  img82.jpg\n",
            "img114.jpg  img130.jpg\timg22.jpg   img47.jpg  img65.jpg  img83.jpg\n",
            "\n",
            "list the files inside African_Alephant directory:\n",
            "\n",
            "img0.jpg    img125.jpg\timg144.jpg  img27.jpg  img46.jpg  img67.jpg  img82.jpg\n",
            "img101.jpg  img126.jpg\timg145.jpg  img28.jpg  img47.jpg  img68.jpg  img85.jpg\n",
            "img105.jpg  img127.jpg\timg146.jpg  img2.jpg   img49.jpg  img69.jpg  img86.jpg\n",
            "img106.jpg  img129.jpg\timg147.jpg  img30.jpg  img4.jpg   img6.jpg   img87.jpg\n",
            "img107.jpg  img12.jpg\timg149.jpg  img31.jpg  img50.jpg  img70.jpg  img8.jpg\n",
            "img108.jpg  img130.jpg\timg14.jpg   img32.jpg  img52.jpg  img71.jpg  img90.jpg\n",
            "img109.jpg  img131.jpg\timg17.jpg   img34.jpg  img54.jpg  img72.jpg  img92.jpg\n",
            "img112.jpg  img132.jpg\timg19.jpg   img35.jpg  img55.jpg  img73.jpg  img93.jpg\n",
            "img113.jpg  img134.jpg\timg1.jpg    img36.jpg  img58.jpg  img75.jpg  img95.jpg\n",
            "img115.jpg  img135.jpg\timg20.jpg   img37.jpg  img59.jpg  img76.jpg  img96.jpg\n",
            "img116.jpg  img137.jpg\timg21.jpg   img39.jpg  img5.jpg   img77.jpg  img97.jpg\n",
            "img119.jpg  img138.jpg\timg22.jpg   img3.jpg   img61.jpg  img78.jpg  img98.jpg\n",
            "img120.jpg  img13.jpg\timg23.jpg   img40.jpg  img62.jpg  img79.jpg  img99.jpg\n",
            "img121.jpg  img140.jpg\timg24.jpg   img41.jpg  img63.jpg  img7.jpg   img9.jpg\n",
            "img122.jpg  img142.jpg\timg25.jpg   img43.jpg  img64.jpg  img80.jpg\n",
            "img123.jpg  img143.jpg\timg26.jpg   img45.jpg  img65.jpg  img81.jpg\n",
            "\n",
            "list the files inside Tuskers directory:\n",
            "\n",
            "img0.jpg    img124.jpg\timg141.jpg  img27.jpg  img46.jpg  img73.jpg  img88.jpg\n",
            "img100.jpg  img125.jpg\timg142.jpg  img28.jpg  img49.jpg  img74.jpg  img89.jpg\n",
            "img101.jpg  img126.jpg\timg145.jpg  img29.jpg  img52.jpg  img75.jpg  img91.jpg\n",
            "img102.jpg  img127.jpg\timg148.jpg  img2.jpg   img53.jpg  img76.jpg  img92.jpg\n",
            "img105.jpg  img128.jpg\timg149.jpg  img32.jpg  img56.jpg  img77.jpg  img94.jpg\n",
            "img109.jpg  img12.jpg\timg14.jpg   img33.jpg  img57.jpg  img78.jpg  img95.jpg\n",
            "img110.jpg  img130.jpg\timg16.jpg   img34.jpg  img61.jpg  img79.jpg  img96.jpg\n",
            "img112.jpg  img131.jpg\timg17.jpg   img35.jpg  img62.jpg  img7.jpg   img97.jpg\n",
            "img114.jpg  img132.jpg\timg18.jpg   img36.jpg  img64.jpg  img81.jpg  img98.jpg\n",
            "img115.jpg  img134.jpg\timg19.jpg   img38.jpg  img65.jpg  img82.jpg  img99.jpg\n",
            "img118.jpg  img136.jpg\timg1.jpg    img39.jpg  img66.jpg  img83.jpg  img9.jpg\n",
            "img11.jpg   img137.jpg\timg21.jpg   img42.jpg  img69.jpg  img84.jpg\n",
            "img120.jpg  img139.jpg\timg23.jpg   img44.jpg  img6.jpg   img85.jpg\n",
            "img121.jpg  img13.jpg\timg24.jpg   img45.jpg  img71.jpg  img87.jpg\n",
            "\n",
            "VALIDATION:\n",
            "\n",
            "\n",
            "list the files inside Indian_Elephant directory:\n",
            "\n",
            "img0.jpg   img13.jpg  img20.jpg  img27.jpg  img34.jpg  img44.jpg  img5.jpg\n",
            "img10.jpg  img15.jpg  img22.jpg  img28.jpg  img38.jpg  img46.jpg  img6.jpg\n",
            "img11.jpg  img18.jpg  img24.jpg  img29.jpg  img3.jpg   img47.jpg  img7.jpg\n",
            "img12.jpg  img19.jpg  img25.jpg  img2.jpg   img42.jpg  img4.jpg   img9.jpg\n",
            "\n",
            "list the files inside African_Alephant directory:\n",
            "\n",
            "img0.jpg   img16.jpg  img24.jpg  img30.jpg  img39.jpg  img46.jpg  img9.jpg\n",
            "img10.jpg  img17.jpg  img25.jpg  img31.jpg  img3.jpg   img48.jpg\n",
            "img11.jpg  img19.jpg  img26.jpg  img33.jpg  img41.jpg  img49.jpg\n",
            "img12.jpg  img1.jpg   img27.jpg  img36.jpg  img43.jpg  img4.jpg\n",
            "img13.jpg  img21.jpg  img28.jpg  img37.jpg  img44.jpg  img5.jpg\n",
            "img15.jpg  img23.jpg  img29.jpg  img38.jpg  img45.jpg  img6.jpg\n",
            "\n",
            "list the files inside Tuskers directory:\n",
            "\n",
            "img10.jpg  img17.jpg  img23.jpg  img2.jpg   img38.jpg  img45.jpg  img6.jpg\n",
            "img11.jpg  img18.jpg  img24.jpg  img31.jpg  img39.jpg  img46.jpg  img8.jpg\n",
            "img12.jpg  img19.jpg  img26.jpg  img32.jpg  img40.jpg  img47.jpg  img9.jpg\n",
            "img14.jpg  img20.jpg  img27.jpg  img34.jpg  img41.jpg  img49.jpg\n",
            "img15.jpg  img21.jpg  img28.jpg  img36.jpg  img42.jpg  img4.jpg\n",
            "img16.jpg  img22.jpg  img29.jpg  img37.jpg  img43.jpg  img5.jpg\n"
          ],
          "name": "stdout"
        }
      ]
    },
    {
      "cell_type": "code",
      "metadata": {
        "id": "ihPlrupmPDx0"
      },
      "source": [
        "from keras.applications.resnet50 import ResNet50\n",
        "from keras.preprocessing import image\n",
        "from keras.applications.resnet50 import preprocess_input, decode_predictions\n",
        "from tensorflow.python.keras.models import Sequential\n",
        "from tensorflow.python.keras.layers import Dense\n",
        "from keras.preprocessing.image import ImageDataGenerator"
      ],
      "execution_count": 17,
      "outputs": []
    },
    {
      "cell_type": "code",
      "metadata": {
        "id": "y4uqCl2hPE4v",
        "outputId": "50620ec9-d3d3-41d1-8322-2344665f9f51",
        "colab": {
          "base_uri": "https://localhost:8080/"
        }
      },
      "source": [
        "resnet_50_model = ResNet50(weights='imagenet')"
      ],
      "execution_count": 18,
      "outputs": [
        {
          "output_type": "stream",
          "text": [
            "Downloading data from https://storage.googleapis.com/tensorflow/keras-applications/resnet/resnet50_weights_tf_dim_ordering_tf_kernels.h5\n",
            "102973440/102967424 [==============================] - 4s 0us/step\n"
          ],
          "name": "stdout"
        }
      ]
    },
    {
      "cell_type": "code",
      "metadata": {
        "id": "aXzQGeMgPFTU"
      },
      "source": [
        "NUM_CLASSES = 3\n",
        "CHANNELS = 3\n",
        "IMAGE_RESIZE = 224\n",
        "RESNET50_POOLING_AVERAGE = 'avg'\n",
        "DENSE_LAYER_ACTIVATION = 'softmax'\n",
        "OBJECTIVE_FUNCTION = 'categorical_crossentropy'\n",
        "\n",
        "LOSS_METRICS = ['accuracy']\n",
        "NUM_EPOCHS = 20\n",
        "EARLY_STOP_PATIENCE = 3\n",
        "STEPS_PER_EPOCH_TRAINING = 10\n",
        "STEPS_PER_EPOCH_VALIDATION = 10\n",
        "\n",
        "BATCH_SIZE_TRAINING = 100\n",
        "BATCH_SIZE_VALIDATION = 100"
      ],
      "execution_count": 19,
      "outputs": []
    },
    {
      "cell_type": "code",
      "metadata": {
        "id": "AyFSPDV-PFWU",
        "outputId": "6e0e5500-d69a-4850-fb65-cafe30cbaf48",
        "colab": {
          "base_uri": "https://localhost:8080/"
        }
      },
      "source": [
        "model = Sequential()\n",
        "model.add(ResNet50(include_top = False, pooling = RESNET50_POOLING_AVERAGE, weights = \"imagenet\"))\n",
        "model.add(Dense(NUM_CLASSES, activation = DENSE_LAYER_ACTIVATION))\n",
        "model.layers[0].trainable = False"
      ],
      "execution_count": 20,
      "outputs": [
        {
          "output_type": "stream",
          "text": [
            "Downloading data from https://storage.googleapis.com/tensorflow/keras-applications/resnet/resnet50_weights_tf_dim_ordering_tf_kernels_notop.h5\n",
            "94773248/94765736 [==============================] - 2s 0us/step\n"
          ],
          "name": "stdout"
        }
      ]
    },
    {
      "cell_type": "code",
      "metadata": {
        "id": "xnve77p-PFZg",
        "outputId": "9b1c4211-5f7b-4c39-916d-114656fd9a33",
        "colab": {
          "base_uri": "https://localhost:8080/"
        }
      },
      "source": [
        "model.summary()"
      ],
      "execution_count": 21,
      "outputs": [
        {
          "output_type": "stream",
          "text": [
            "Model: \"sequential\"\n",
            "_________________________________________________________________\n",
            "Layer (type)                 Output Shape              Param #   \n",
            "=================================================================\n",
            "resnet50 (Functional)        (None, 2048)              23587712  \n",
            "_________________________________________________________________\n",
            "dense (Dense)                (None, 3)                 6147      \n",
            "=================================================================\n",
            "Total params: 23,593,859\n",
            "Trainable params: 6,147\n",
            "Non-trainable params: 23,587,712\n",
            "_________________________________________________________________\n"
          ],
          "name": "stdout"
        }
      ]
    },
    {
      "cell_type": "code",
      "metadata": {
        "id": "B4rmgr7bPFet"
      },
      "source": [
        "model.compile(optimizer = \"adam\", loss = OBJECTIVE_FUNCTION, metrics = LOSS_METRICS)"
      ],
      "execution_count": 22,
      "outputs": []
    },
    {
      "cell_type": "code",
      "metadata": {
        "id": "PbkzL5QvPFiR",
        "outputId": "5714dec9-36a4-4865-a70c-c54434a7c451",
        "colab": {
          "base_uri": "https://localhost:8080/"
        }
      },
      "source": [
        "image_size = IMAGE_RESIZE\n",
        "data_generator = ImageDataGenerator(preprocessing_function=preprocess_input)\n",
        "\n",
        "train_generator = data_generator.flow_from_directory(\n",
        "        '/content/train',\n",
        "        target_size=(image_size, image_size),\n",
        "        batch_size=BATCH_SIZE_TRAINING,\n",
        "        class_mode='categorical')\n",
        "\n",
        "validation_generator = data_generator.flow_from_directory(\n",
        "        '/content/validation',\n",
        "        target_size=(image_size, image_size),\n",
        "        batch_size=BATCH_SIZE_VALIDATION,\n",
        "        class_mode='categorical')"
      ],
      "execution_count": 23,
      "outputs": [
        {
          "output_type": "stream",
          "text": [
            "Found 280 images belonging to 3 classes.\n",
            "Found 104 images belonging to 3 classes.\n"
          ],
          "name": "stdout"
        }
      ]
    },
    {
      "cell_type": "code",
      "metadata": {
        "id": "HxMZkGrtPFlP"
      },
      "source": [
        "from tensorflow.python.keras.callbacks import EarlyStopping, ModelCheckpoint\n",
        "\n",
        "cb_early_stopper = EarlyStopping(monitor = 'val_loss', patience = EARLY_STOP_PATIENCE)\n",
        "cb_checkpointer = ModelCheckpoint(filepath = 'best.hdf5', monitor = 'val_loss', save_best_only = True, mode = 'auto')"
      ],
      "execution_count": 24,
      "outputs": []
    },
    {
      "cell_type": "code",
      "metadata": {
        "id": "gKXQWY2fPFot",
        "outputId": "afc21c64-6842-44c3-878a-000a9c1bcc01",
        "colab": {
          "base_uri": "https://localhost:8080/"
        }
      },
      "source": [
        "\n",
        "fit_history = model.fit_generator(\n",
        "        train_generator,\n",
        "        #steps_per_epoch=STEPS_PER_EPOCH_TRAINING,\n",
        "        epochs = NUM_EPOCHS,\n",
        "        validation_data=validation_generator,\n",
        "        #validation_steps=STEPS_PER_EPOCH_VALIDATION,\n",
        "        callbacks=[cb_checkpointer, cb_early_stopper]\n",
        ")"
      ],
      "execution_count": 25,
      "outputs": [
        {
          "output_type": "stream",
          "text": [
            "WARNING:tensorflow:From <ipython-input-25-f15fc01abe61>:8: Model.fit_generator (from tensorflow.python.keras.engine.training) is deprecated and will be removed in a future version.\n",
            "Instructions for updating:\n",
            "Please use Model.fit, which supports generators.\n",
            "Epoch 1/20\n",
            "3/3 [==============================] - 43s 14s/step - loss: 1.4232 - accuracy: 0.3500 - val_loss: 1.4620 - val_accuracy: 0.4135\n",
            "Epoch 2/20\n",
            "3/3 [==============================] - 42s 14s/step - loss: 1.2573 - accuracy: 0.4214 - val_loss: 1.1991 - val_accuracy: 0.4712\n",
            "Epoch 3/20\n",
            "3/3 [==============================] - 42s 14s/step - loss: 1.0078 - accuracy: 0.5214 - val_loss: 1.1386 - val_accuracy: 0.4615\n",
            "Epoch 4/20\n",
            "3/3 [==============================] - 45s 15s/step - loss: 0.9439 - accuracy: 0.5714 - val_loss: 1.0441 - val_accuracy: 0.5288\n",
            "Epoch 5/20\n",
            "3/3 [==============================] - 42s 14s/step - loss: 0.8247 - accuracy: 0.6286 - val_loss: 1.0043 - val_accuracy: 0.5769\n",
            "Epoch 6/20\n",
            "3/3 [==============================] - 42s 14s/step - loss: 0.7604 - accuracy: 0.6536 - val_loss: 0.9591 - val_accuracy: 0.5865\n",
            "Epoch 7/20\n",
            "3/3 [==============================] - 42s 14s/step - loss: 0.6927 - accuracy: 0.7179 - val_loss: 0.9304 - val_accuracy: 0.6058\n",
            "Epoch 8/20\n",
            "3/3 [==============================] - 45s 15s/step - loss: 0.6361 - accuracy: 0.7357 - val_loss: 0.9420 - val_accuracy: 0.6250\n",
            "Epoch 9/20\n",
            "3/3 [==============================] - 42s 14s/step - loss: 0.6061 - accuracy: 0.7286 - val_loss: 0.9302 - val_accuracy: 0.5865\n",
            "Epoch 10/20\n",
            "3/3 [==============================] - 42s 14s/step - loss: 0.5656 - accuracy: 0.7679 - val_loss: 0.9062 - val_accuracy: 0.5962\n",
            "Epoch 11/20\n",
            "3/3 [==============================] - 45s 15s/step - loss: 0.5329 - accuracy: 0.7857 - val_loss: 0.9020 - val_accuracy: 0.5962\n",
            "Epoch 12/20\n",
            "3/3 [==============================] - 45s 15s/step - loss: 0.5022 - accuracy: 0.7929 - val_loss: 0.9112 - val_accuracy: 0.6346\n",
            "Epoch 13/20\n",
            "3/3 [==============================] - 45s 15s/step - loss: 0.4776 - accuracy: 0.8214 - val_loss: 0.9210 - val_accuracy: 0.6154\n",
            "Epoch 14/20\n",
            "3/3 [==============================] - 42s 14s/step - loss: 0.4574 - accuracy: 0.8357 - val_loss: 0.9037 - val_accuracy: 0.6154\n"
          ],
          "name": "stdout"
        }
      ]
    },
    {
      "cell_type": "code",
      "metadata": {
        "id": "pbxRpOTuPFcz",
        "outputId": "a789afee-8f51-4717-af41-3c3119681d56",
        "colab": {
          "base_uri": "https://localhost:8080/"
        }
      },
      "source": [
        "print(fit_history.history.keys())"
      ],
      "execution_count": 26,
      "outputs": [
        {
          "output_type": "stream",
          "text": [
            "dict_keys(['loss', 'accuracy', 'val_loss', 'val_accuracy'])\n"
          ],
          "name": "stdout"
        }
      ]
    },
    {
      "cell_type": "code",
      "metadata": {
        "id": "oA_g0jIzP8nK",
        "outputId": "d1371d06-5069-4e15-e9a0-fde6c488c33e",
        "colab": {
          "base_uri": "https://localhost:8080/",
          "height": 276
        }
      },
      "source": [
        "import matplotlib.pyplot as plt\n",
        "\n",
        "plt.figure(1, figsize = (15,8)) \n",
        "    \n",
        "plt.subplot(221)  \n",
        "plt.plot(fit_history.history['accuracy'])  \n",
        "plt.plot(fit_history.history['val_accuracy'])  \n",
        "plt.title('model accuracy')  \n",
        "plt.ylabel('accuracy')  \n",
        "plt.xlabel('epoch')  \n",
        "plt.legend(['train', 'valid']) \n",
        "    \n",
        "plt.subplot(222)  \n",
        "plt.plot(fit_history.history['loss'])  \n",
        "plt.plot(fit_history.history['val_loss'])  \n",
        "plt.title('model loss')  \n",
        "plt.ylabel('loss')  \n",
        "plt.xlabel('epoch')  \n",
        "plt.legend(['train', 'valid']) \n",
        "\n",
        "plt.show()"
      ],
      "execution_count": 27,
      "outputs": [
        {
          "output_type": "display_data",
          "data": {
            "image/png": "[encoded data removed]",
            "text/plain": [
              "<Figure size 1080x576 with 2 Axes>"
            ]
          },
          "metadata": {
            "tags": [],
            "needs_background": "light"
          }
        }
      ]
    },
    {
      "cell_type": "code",
      "metadata": {
        "id": "heuRm6tcQHZY",
        "outputId": "f5107b42-dc82-4dee-db89-9fc98be3ddd2",
        "colab": {
          "base_uri": "https://localhost:8080/"
        }
      },
      "source": [
        "from keras.applications import Xception\n",
        "xception_model = Sequential()\n",
        "xception_model.add(Xception(include_top=False, weights=\"imagenet\", input_shape = (224, 224, 3), pooling=\"avg\"))\n",
        "xception_model.add(Dense(3, activation=\"softmax\"))"
      ],
      "execution_count": 28,
      "outputs": [
        {
          "output_type": "stream",
          "text": [
            "Downloading data from https://storage.googleapis.com/tensorflow/keras-applications/xception/xception_weights_tf_dim_ordering_tf_kernels_notop.h5\n",
            "83689472/83683744 [==============================] - 3s 0us/step\n"
          ],
          "name": "stdout"
        }
      ]
    },
    {
      "cell_type": "code",
      "metadata": {
        "id": "luQVhgVCQYMz",
        "outputId": "25f920d2-16ac-4cca-9d20-f31283b3b0bb",
        "colab": {
          "base_uri": "https://localhost:8080/"
        }
      },
      "source": [
        "xception_model.layers[0].trainable = False\n",
        "\n",
        "xception_model.summary()"
      ],
      "execution_count": 29,
      "outputs": [
        {
          "output_type": "stream",
          "text": [
            "Model: \"sequential_1\"\n",
            "_________________________________________________________________\n",
            "Layer (type)                 Output Shape              Param #   \n",
            "=================================================================\n",
            "xception (Functional)        (None, 2048)              20861480  \n",
            "_________________________________________________________________\n",
            "dense_1 (Dense)              (None, 3)                 6147      \n",
            "=================================================================\n",
            "Total params: 20,867,627\n",
            "Trainable params: 6,147\n",
            "Non-trainable params: 20,861,480\n",
            "_________________________________________________________________\n"
          ],
          "name": "stdout"
        }
      ]
    },
    {
      "cell_type": "code",
      "metadata": {
        "id": "_D064CUiQhHg"
      },
      "source": [
        "xception_model.compile(optimizer = \"adam\", loss = \"categorical_crossentropy\", metrics = \"accuracy\")"
      ],
      "execution_count": 30,
      "outputs": []
    },
    {
      "cell_type": "code",
      "metadata": {
        "id": "V-CGjUAZQm7Y",
        "outputId": "3cc8aff1-44fb-40c8-d759-192bdd7b9c02",
        "colab": {
          "base_uri": "https://localhost:8080/"
        }
      },
      "source": [
        "xception_fit_history = xception_model.fit_generator(\n",
        "        train_generator,\n",
        "        #steps_per_epoch=STEPS_PER_EPOCH_TRAINING,\n",
        "        epochs = NUM_EPOCHS,\n",
        "        validation_data=validation_generator,\n",
        "        #validation_steps=STEPS_PER_EPOCH_VALIDATION,\n",
        "        callbacks=[cb_checkpointer, cb_early_stopper]\n",
        ")"
      ],
      "execution_count": 31,
      "outputs": [
        {
          "output_type": "stream",
          "text": [
            "Epoch 1/20\n",
            "3/3 [==============================] - 57s 19s/step - loss: 3.2195 - accuracy: 0.2607 - val_loss: 2.3878 - val_accuracy: 0.2981\n",
            "Epoch 2/20\n",
            "3/3 [==============================] - 56s 19s/step - loss: 2.2990 - accuracy: 0.3000 - val_loss: 2.1252 - val_accuracy: 0.3269\n",
            "Epoch 3/20\n",
            "3/3 [==============================] - 60s 20s/step - loss: 2.0172 - accuracy: 0.3214 - val_loss: 1.8157 - val_accuracy: 0.2885\n",
            "Epoch 4/20\n",
            "3/3 [==============================] - 56s 19s/step - loss: 1.6355 - accuracy: 0.3429 - val_loss: 1.8959 - val_accuracy: 0.2692\n",
            "Epoch 5/20\n",
            "3/3 [==============================] - 56s 19s/step - loss: 1.5446 - accuracy: 0.3857 - val_loss: 1.7801 - val_accuracy: 0.2885\n",
            "Epoch 6/20\n",
            "3/3 [==============================] - 56s 19s/step - loss: 1.3613 - accuracy: 0.4321 - val_loss: 1.5817 - val_accuracy: 0.3558\n",
            "Epoch 7/20\n",
            "3/3 [==============================] - 56s 19s/step - loss: 1.2826 - accuracy: 0.4321 - val_loss: 1.5623 - val_accuracy: 0.3942\n",
            "Epoch 8/20\n",
            "3/3 [==============================] - 59s 20s/step - loss: 1.2289 - accuracy: 0.4500 - val_loss: 1.5218 - val_accuracy: 0.3846\n",
            "Epoch 9/20\n",
            "3/3 [==============================] - 55s 18s/step - loss: 1.1521 - accuracy: 0.4500 - val_loss: 1.5825 - val_accuracy: 0.3462\n",
            "Epoch 10/20\n",
            "3/3 [==============================] - 55s 18s/step - loss: 1.1056 - accuracy: 0.4821 - val_loss: 1.5432 - val_accuracy: 0.3558\n",
            "Epoch 11/20\n",
            "3/3 [==============================] - 59s 20s/step - loss: 1.0339 - accuracy: 0.5036 - val_loss: 1.4823 - val_accuracy: 0.4423\n",
            "Epoch 12/20\n",
            "3/3 [==============================] - 55s 18s/step - loss: 0.9978 - accuracy: 0.5143 - val_loss: 1.4924 - val_accuracy: 0.4231\n",
            "Epoch 13/20\n",
            "3/3 [==============================] - 55s 18s/step - loss: 0.9430 - accuracy: 0.5393 - val_loss: 1.5193 - val_accuracy: 0.3558\n",
            "Epoch 14/20\n",
            "3/3 [==============================] - 55s 18s/step - loss: 0.9033 - accuracy: 0.5607 - val_loss: 1.5291 - val_accuracy: 0.3654\n"
          ],
          "name": "stdout"
        }
      ]
    }
  ]
}