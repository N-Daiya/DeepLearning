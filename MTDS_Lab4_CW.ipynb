{
  "nbformat": 4,
  "nbformat_minor": 0,
  "metadata": {
    "colab": {
      "name": "MTDS_Lab4 -CW.ipynb",
      "provenance": [],
      "collapsed_sections": [],
      "toc_visible": true,
      "include_colab_link": true
    },
    "kernelspec": {
      "name": "python3",
      "display_name": "Python 3"
    }
  },
  "cells": [
    {
      "cell_type": "markdown",
      "metadata": {
        "id": "view-in-github",
        "colab_type": "text"
      },
      "source": [
        "<a href=\"https://colab.research.google.com/github/N-Daiya/DeepLearning/blob/cw/MTDS_Lab4_CW.ipynb\" target=\"_parent\"><img src=\"https://colab.research.google.com/assets/colab-badge.svg\" alt=\"Open In Colab\"/></a>"
      ]
    },
    {
      "cell_type": "code",
      "metadata": {
        "id": "i-14SFWkaD27",
        "outputId": "0453728a-35b3-4d4c-d71a-a21c29fed9f8",
        "colab": {
          "base_uri": "https://localhost:8080/",
          "height": 386
        }
      },
      "source": [
        "import keras\n",
        "from keras.datasets import cifar10\n",
        "from keras.models import Sequential\n",
        "from keras.layers import Dense, Dropout, Activation, Flatten\n",
        "from keras.utils import to_categorical\n",
        "\n",
        "(X_train, y_train), (X_test, y_test) = cifar10.load_data()\n",
        "\n",
        "X_train = X_train.reshape(50000, 32*32*3)\n",
        "X_test = X_test.reshape(10000, 32*32*3)\n",
        "\n",
        "X_train = X_train.astype('float32')\n",
        "X_test = X_test.astype('float32')\n",
        "\n",
        "#preprocess\n",
        "X_train /=  255.0\n",
        "X_test /= 255.0\n",
        "\n",
        "y_train = to_categorical(y_train, 10)\n",
        "y_test = to_categorical(y_test, 10)\n",
        "\n",
        "#model build\n",
        "# pick at random from a normal/uniform dist with mean =0, stddev = sqrt(scale/n)\n",
        "#fan_in - number of incoming conn\n",
        "#fan_out - number of outgoing conn\n",
        "#fan_avg - avg of fan_in and fan_out\n",
        "#scale = >0\n",
        "#distribution = normal , uniform\n",
        "#seed - integer\n",
        "\n",
        "initializers = keras.initializers.VarianceScaling(mode='fan_in', distribution='normal', scale=1)\n",
        "\n",
        "model = Sequential()\n",
        "model.add(Dense(1024, input_dim=3072, kernel_initializer=initializers, bias_initializer=initializers, activation='relu'))\n",
        "model.add(Dense(10, kernel_initializer=initializers, bias_initializer=initializers, activation='softmax'))\n",
        "\n",
        "#compile\n",
        "\n",
        "model.compile(optimizer='sgd', loss='categorical_crossentropy', metrics=['accuracy'])\n",
        "\n",
        "#train\n",
        "\n",
        "model.fit(X_train, y_train, epochs=10, validation_split=0.2, verbose=1)\n",
        "\n"
      ],
      "execution_count": 1,
      "outputs": [
        {
          "output_type": "stream",
          "text": [
            "Epoch 1/10\n",
            "1250/1250 [==============================] - 20s 16ms/step - loss: 1.8909 - accuracy: 0.3285 - val_loss: 1.8024 - val_accuracy: 0.3650\n",
            "Epoch 2/10\n",
            "1250/1250 [==============================] - 21s 17ms/step - loss: 1.7196 - accuracy: 0.3959 - val_loss: 1.6927 - val_accuracy: 0.4053\n",
            "Epoch 3/10\n",
            "1250/1250 [==============================] - 21s 17ms/step - loss: 1.6424 - accuracy: 0.4225 - val_loss: 1.6344 - val_accuracy: 0.4347\n",
            "Epoch 4/10\n",
            "1250/1250 [==============================] - 22s 17ms/step - loss: 1.5902 - accuracy: 0.4434 - val_loss: 1.6073 - val_accuracy: 0.4311\n",
            "Epoch 5/10\n",
            "1250/1250 [==============================] - 21s 17ms/step - loss: 1.5495 - accuracy: 0.4584 - val_loss: 1.5725 - val_accuracy: 0.4530\n",
            "Epoch 6/10\n",
            "1250/1250 [==============================] - 21s 17ms/step - loss: 1.5133 - accuracy: 0.4698 - val_loss: 1.5515 - val_accuracy: 0.4583\n",
            "Epoch 7/10\n",
            "1250/1250 [==============================] - 22s 17ms/step - loss: 1.4819 - accuracy: 0.4823 - val_loss: 1.5362 - val_accuracy: 0.4598\n",
            "Epoch 8/10\n",
            "1250/1250 [==============================] - 21s 17ms/step - loss: 1.4528 - accuracy: 0.4925 - val_loss: 1.5150 - val_accuracy: 0.4725\n",
            "Epoch 9/10\n",
            "1250/1250 [==============================] - 21s 17ms/step - loss: 1.4282 - accuracy: 0.5001 - val_loss: 1.5094 - val_accuracy: 0.4727\n",
            "Epoch 10/10\n",
            "1250/1250 [==============================] - 21s 17ms/step - loss: 1.4048 - accuracy: 0.5104 - val_loss: 1.4724 - val_accuracy: 0.4857\n"
          ],
          "name": "stdout"
        },
        {
          "output_type": "execute_result",
          "data": {
            "text/plain": [
              "<tensorflow.python.keras.callbacks.History at 0x7fe85b967748>"
            ]
          },
          "metadata": {
            "tags": []
          },
          "execution_count": 1
        }
      ]
    },
    {
      "cell_type": "code",
      "metadata": {
        "id": "-FfXEj66h8lF",
        "outputId": "0adc9a32-a902-44d9-f41c-69db21c70fd2",
        "colab": {
          "base_uri": "https://localhost:8080/",
          "height": 386
        }
      },
      "source": [
        "import keras\n",
        "from keras.datasets import cifar10\n",
        "from keras.models import Sequential\n",
        "from keras.layers import Dense, Dropout, Activation, Flatten\n",
        "from keras.utils import to_categorical\n",
        "\n",
        "(X_train, y_train), (X_test, y_test) = cifar10.load_data()\n",
        "\n",
        "X_train = X_train.reshape(50000, 32*32*3)\n",
        "X_test = X_test.reshape(10000, 32*32*3)\n",
        "\n",
        "X_train = X_train.astype('float32')\n",
        "X_test = X_test.astype('float32')\n",
        "\n",
        "#preprocess\n",
        "X_train /=  255.0\n",
        "X_test /= 255.0\n",
        "\n",
        "y_train = to_categorical(y_train, 10)\n",
        "y_test = to_categorical(y_test, 10)\n",
        "\n",
        "#model build\n",
        "# lecun_uniform\n",
        "# samples from uniform distribution with limits - limits: sqrt(3/fan_in)\n",
        "\n",
        "\n",
        "\n",
        "\n",
        "initializers = keras.initializers.lecun_uniform()\n",
        "\n",
        "model = Sequential()\n",
        "model.add(Dense(1024, input_dim=3072, kernel_initializer=initializers, bias_initializer=initializers, activation='relu'))\n",
        "model.add(Dense(10, kernel_initializer=initializers, bias_initializer=initializers, activation='softmax'))\n",
        "\n",
        "#compile\n",
        "\n",
        "model.compile(optimizer='sgd', loss='categorical_crossentropy', metrics=['accuracy'])\n",
        "\n",
        "#train\n",
        "\n",
        "model.fit(X_train, y_train, epochs=10, validation_split=0.2, verbose=1)\n",
        "\n"
      ],
      "execution_count": 2,
      "outputs": [
        {
          "output_type": "stream",
          "text": [
            "Epoch 1/10\n",
            "1250/1250 [==============================] - 21s 17ms/step - loss: 1.8940 - accuracy: 0.3247 - val_loss: 1.8259 - val_accuracy: 0.3592\n",
            "Epoch 2/10\n",
            "1250/1250 [==============================] - 21s 16ms/step - loss: 1.7230 - accuracy: 0.3945 - val_loss: 1.6984 - val_accuracy: 0.4063\n",
            "Epoch 3/10\n",
            "1250/1250 [==============================] - 21s 16ms/step - loss: 1.6426 - accuracy: 0.4264 - val_loss: 1.6432 - val_accuracy: 0.4274\n",
            "Epoch 4/10\n",
            "1250/1250 [==============================] - 21s 17ms/step - loss: 1.5896 - accuracy: 0.4449 - val_loss: 1.6232 - val_accuracy: 0.4350\n",
            "Epoch 5/10\n",
            "1250/1250 [==============================] - 21s 16ms/step - loss: 1.5464 - accuracy: 0.4585 - val_loss: 1.5877 - val_accuracy: 0.4422\n",
            "Epoch 6/10\n",
            "1250/1250 [==============================] - 20s 16ms/step - loss: 1.5115 - accuracy: 0.4708 - val_loss: 1.5589 - val_accuracy: 0.4546\n",
            "Epoch 7/10\n",
            "1250/1250 [==============================] - 21s 16ms/step - loss: 1.4803 - accuracy: 0.4814 - val_loss: 1.5496 - val_accuracy: 0.4559\n",
            "Epoch 8/10\n",
            "1250/1250 [==============================] - 21s 16ms/step - loss: 1.4535 - accuracy: 0.4896 - val_loss: 1.5048 - val_accuracy: 0.4746\n",
            "Epoch 9/10\n",
            "1250/1250 [==============================] - 21s 17ms/step - loss: 1.4279 - accuracy: 0.5013 - val_loss: 1.5276 - val_accuracy: 0.4701\n",
            "Epoch 10/10\n",
            "1250/1250 [==============================] - 21s 16ms/step - loss: 1.4049 - accuracy: 0.5095 - val_loss: 1.4839 - val_accuracy: 0.4825\n"
          ],
          "name": "stdout"
        },
        {
          "output_type": "execute_result",
          "data": {
            "text/plain": [
              "<tensorflow.python.keras.callbacks.History at 0x7fe8592b17f0>"
            ]
          },
          "metadata": {
            "tags": []
          },
          "execution_count": 2
        }
      ]
    },
    {
      "cell_type": "code",
      "metadata": {
        "id": "GRcyv1kci3XS",
        "outputId": "adc90634-ebfa-48e3-bf16-be9913789f7a",
        "colab": {
          "base_uri": "https://localhost:8080/",
          "height": 386
        }
      },
      "source": [
        "import keras\n",
        "from keras.datasets import cifar10\n",
        "from keras.models import Sequential\n",
        "from keras.layers import Dense, Dropout, Activation, Flatten\n",
        "from keras.utils import to_categorical\n",
        "\n",
        "(X_train, y_train), (X_test, y_test) = cifar10.load_data()\n",
        "\n",
        "X_train = X_train.reshape(50000, 32*32*3)\n",
        "X_test = X_test.reshape(10000, 32*32*3)\n",
        "\n",
        "X_train = X_train.astype('float32')\n",
        "X_test = X_test.astype('float32')\n",
        "\n",
        "#preprocess\n",
        "X_train /=  255.0\n",
        "X_test /= 255.0\n",
        "\n",
        "y_train = to_categorical(y_train, 10)\n",
        "y_test = to_categorical(y_test, 10)\n",
        "\n",
        "#model build\n",
        "# glorot_uniform / xavier normal initializer\n",
        "# randomly sample from a truncated normal distribution : mean=0, stddev=sqrt(2/(fan_in + fan_out))\n",
        "\n",
        "initializers = keras.initializers.glorot_uniform()\n",
        "\n",
        "model = Sequential()\n",
        "model.add(Dense(1024, input_dim=3072, kernel_initializer=initializers, bias_initializer=initializers, activation='relu'))\n",
        "model.add(Dense(10, kernel_initializer=initializers, bias_initializer=initializers, activation='softmax'))\n",
        "\n",
        "#compile\n",
        "\n",
        "model.compile(optimizer='sgd', loss='categorical_crossentropy', metrics=['accuracy'])\n",
        "\n",
        "#train\n",
        "\n",
        "model.fit(X_train, y_train, epochs=10, validation_split=0.2, verbose=1)\n",
        "\n"
      ],
      "execution_count": 3,
      "outputs": [
        {
          "output_type": "stream",
          "text": [
            "Epoch 1/10\n",
            "1250/1250 [==============================] - 21s 17ms/step - loss: 1.8745 - accuracy: 0.3318 - val_loss: 1.7867 - val_accuracy: 0.3760\n",
            "Epoch 2/10\n",
            "1250/1250 [==============================] - 21s 17ms/step - loss: 1.6934 - accuracy: 0.4057 - val_loss: 1.7377 - val_accuracy: 0.3774\n",
            "Epoch 3/10\n",
            "1250/1250 [==============================] - 21s 17ms/step - loss: 1.6173 - accuracy: 0.4333 - val_loss: 1.6173 - val_accuracy: 0.4391\n",
            "Epoch 4/10\n",
            "1250/1250 [==============================] - 20s 16ms/step - loss: 1.5621 - accuracy: 0.4532 - val_loss: 1.6745 - val_accuracy: 0.3993\n",
            "Epoch 5/10\n",
            "1250/1250 [==============================] - 22s 17ms/step - loss: 1.5212 - accuracy: 0.4688 - val_loss: 1.5832 - val_accuracy: 0.4529\n",
            "Epoch 6/10\n",
            "1250/1250 [==============================] - 21s 17ms/step - loss: 1.4867 - accuracy: 0.4823 - val_loss: 1.5308 - val_accuracy: 0.4708\n",
            "Epoch 7/10\n",
            "1250/1250 [==============================] - 21s 17ms/step - loss: 1.4573 - accuracy: 0.4927 - val_loss: 1.5419 - val_accuracy: 0.4580\n",
            "Epoch 8/10\n",
            "1250/1250 [==============================] - 21s 17ms/step - loss: 1.4270 - accuracy: 0.5007 - val_loss: 1.5072 - val_accuracy: 0.4761\n",
            "Epoch 9/10\n",
            "1250/1250 [==============================] - 21s 17ms/step - loss: 1.4034 - accuracy: 0.5099 - val_loss: 1.4795 - val_accuracy: 0.4864\n",
            "Epoch 10/10\n",
            "1250/1250 [==============================] - 21s 17ms/step - loss: 1.3756 - accuracy: 0.5198 - val_loss: 1.4704 - val_accuracy: 0.4911\n"
          ],
          "name": "stdout"
        },
        {
          "output_type": "execute_result",
          "data": {
            "text/plain": [
              "<tensorflow.python.keras.callbacks.History at 0x7fe86469d470>"
            ]
          },
          "metadata": {
            "tags": []
          },
          "execution_count": 3
        }
      ]
    },
    {
      "cell_type": "code",
      "metadata": {
        "id": "katCGSvDjir9",
        "outputId": "31160db1-3e84-4b56-a621-4820fd896c00",
        "colab": {
          "base_uri": "https://localhost:8080/",
          "height": 386
        }
      },
      "source": [
        "import keras\n",
        "from keras.datasets import cifar10\n",
        "from keras.models import Sequential\n",
        "from keras.layers import Dense, Dropout, Activation, Flatten\n",
        "from keras.utils import to_categorical\n",
        "\n",
        "(X_train, y_train), (X_test, y_test) = cifar10.load_data()\n",
        "\n",
        "X_train = X_train.reshape(50000, 32*32*3)\n",
        "X_test = X_test.reshape(10000, 32*32*3)\n",
        "\n",
        "X_train = X_train.astype('float32')\n",
        "X_test = X_test.astype('float32')\n",
        "\n",
        "#preprocess\n",
        "X_train /=  255.0\n",
        "X_test /= 255.0\n",
        "\n",
        "y_train = to_categorical(y_train, 10)\n",
        "y_test = to_categorical(y_test, 10)\n",
        "\n",
        "#model build\n",
        "# glorot_normal / xavier normal initializer\n",
        "# randomly sample from a truncated normal distribution : mean=0, stddev=sqrt(2/(fan_in + fan_out))\n",
        "\n",
        "initializers = keras.initializers.glorot_normal()\n",
        "\n",
        "model = Sequential()\n",
        "model.add(Dense(1024, input_dim=3072, kernel_initializer=initializers, bias_initializer=initializers, activation='relu'))\n",
        "model.add(Dense(10, kernel_initializer=initializers, bias_initializer=initializers, activation='softmax'))\n",
        "\n",
        "#compile\n",
        "\n",
        "model.compile(optimizer='sgd', loss='categorical_crossentropy', metrics=['accuracy'])\n",
        "\n",
        "#train\n",
        "\n",
        "model.fit(X_train, y_train, epochs=10, validation_split=0.2, verbose=1)\n",
        "\n"
      ],
      "execution_count": 4,
      "outputs": [
        {
          "output_type": "stream",
          "text": [
            "Epoch 1/10\n",
            "1250/1250 [==============================] - 21s 17ms/step - loss: 1.8748 - accuracy: 0.3286 - val_loss: 1.7835 - val_accuracy: 0.3720\n",
            "Epoch 2/10\n",
            "1250/1250 [==============================] - 21s 17ms/step - loss: 1.6973 - accuracy: 0.4015 - val_loss: 1.6715 - val_accuracy: 0.4162\n",
            "Epoch 3/10\n",
            "1250/1250 [==============================] - 21s 17ms/step - loss: 1.6186 - accuracy: 0.4340 - val_loss: 1.6184 - val_accuracy: 0.4317\n",
            "Epoch 4/10\n",
            "1250/1250 [==============================] - 21s 17ms/step - loss: 1.5651 - accuracy: 0.4516 - val_loss: 1.6097 - val_accuracy: 0.4305\n",
            "Epoch 5/10\n",
            "1250/1250 [==============================] - 21s 17ms/step - loss: 1.5234 - accuracy: 0.4676 - val_loss: 1.5534 - val_accuracy: 0.4561\n",
            "Epoch 6/10\n",
            "1250/1250 [==============================] - 21s 17ms/step - loss: 1.4868 - accuracy: 0.4812 - val_loss: 1.5535 - val_accuracy: 0.4515\n",
            "Epoch 7/10\n",
            "1250/1250 [==============================] - 21s 17ms/step - loss: 1.4578 - accuracy: 0.4919 - val_loss: 1.5352 - val_accuracy: 0.4552\n",
            "Epoch 8/10\n",
            "1250/1250 [==============================] - 21s 17ms/step - loss: 1.4302 - accuracy: 0.5035 - val_loss: 1.4898 - val_accuracy: 0.4804\n",
            "Epoch 9/10\n",
            "1250/1250 [==============================] - 21s 16ms/step - loss: 1.4050 - accuracy: 0.5106 - val_loss: 1.4882 - val_accuracy: 0.4782\n",
            "Epoch 10/10\n",
            "1250/1250 [==============================] - 21s 17ms/step - loss: 1.3825 - accuracy: 0.5170 - val_loss: 1.4611 - val_accuracy: 0.4903\n"
          ],
          "name": "stdout"
        },
        {
          "output_type": "execute_result",
          "data": {
            "text/plain": [
              "<tensorflow.python.keras.callbacks.History at 0x7fe8550a05c0>"
            ]
          },
          "metadata": {
            "tags": []
          },
          "execution_count": 4
        }
      ]
    },
    {
      "cell_type": "code",
      "metadata": {
        "id": "erYb6RLGjwvM",
        "outputId": "a784f0ef-6094-4c6a-fcc0-cbadff289134",
        "colab": {
          "base_uri": "https://localhost:8080/",
          "height": 386
        }
      },
      "source": [
        "import keras\n",
        "from keras.datasets import cifar10\n",
        "from keras.models import Sequential\n",
        "from keras.layers import Dense, Dropout, Activation, Flatten\n",
        "from keras.utils import to_categorical\n",
        "\n",
        "(X_train, y_train), (X_test, y_test) = cifar10.load_data()\n",
        "\n",
        "X_train = X_train.reshape(50000, 32*32*3)\n",
        "X_test = X_test.reshape(10000, 32*32*3)\n",
        "\n",
        "X_train = X_train.astype('float32')\n",
        "X_test = X_test.astype('float32')\n",
        "\n",
        "#preprocess\n",
        "X_train /=  255.0\n",
        "X_test /= 255.0\n",
        "\n",
        "y_train = to_categorical(y_train, 10)\n",
        "y_test = to_categorical(y_test, 10)\n",
        "\n",
        "#model build\n",
        "# glorot_uniform / xavier uniform initializer\n",
        "# randomly sample from a uniform distribution with limits: limit = sqrt(6/(fan_in+fan_out))\n",
        "\n",
        "initializers = keras.initializers.glorot_uniform()\n",
        "\n",
        "model = Sequential()\n",
        "model.add(Dense(1024, input_dim=3072, kernel_initializer=initializers, bias_initializer=initializers, activation='relu'))\n",
        "model.add(Dense(10, kernel_initializer=initializers, bias_initializer=initializers, activation='softmax'))\n",
        "\n",
        "#compile\n",
        "\n",
        "model.compile(optimizer='sgd', loss='categorical_crossentropy', metrics=['accuracy'])\n",
        "\n",
        "#train\n",
        "\n",
        "model.fit(X_train, y_train, epochs=10, validation_split=0.2, verbose=1)\n",
        "\n"
      ],
      "execution_count": 5,
      "outputs": [
        {
          "output_type": "stream",
          "text": [
            "Epoch 1/10\n",
            "1250/1250 [==============================] - 20s 16ms/step - loss: 1.8746 - accuracy: 0.3298 - val_loss: 1.7677 - val_accuracy: 0.3775\n",
            "Epoch 2/10\n",
            "1250/1250 [==============================] - 20s 16ms/step - loss: 1.6927 - accuracy: 0.4051 - val_loss: 1.6989 - val_accuracy: 0.4003\n",
            "Epoch 3/10\n",
            "1250/1250 [==============================] - 21s 17ms/step - loss: 1.6152 - accuracy: 0.4338 - val_loss: 1.6279 - val_accuracy: 0.4297\n",
            "Epoch 4/10\n",
            "1250/1250 [==============================] - 21s 17ms/step - loss: 1.5639 - accuracy: 0.4496 - val_loss: 1.5962 - val_accuracy: 0.4435\n",
            "Epoch 5/10\n",
            "1250/1250 [==============================] - 21s 17ms/step - loss: 1.5226 - accuracy: 0.4641 - val_loss: 1.5798 - val_accuracy: 0.4471\n",
            "Epoch 6/10\n",
            "1250/1250 [==============================] - 21s 17ms/step - loss: 1.4877 - accuracy: 0.4801 - val_loss: 1.5363 - val_accuracy: 0.4678\n",
            "Epoch 7/10\n",
            "1250/1250 [==============================] - 21s 17ms/step - loss: 1.4566 - accuracy: 0.4899 - val_loss: 1.5640 - val_accuracy: 0.4457\n",
            "Epoch 8/10\n",
            "1250/1250 [==============================] - 21s 17ms/step - loss: 1.4277 - accuracy: 0.4996 - val_loss: 1.5075 - val_accuracy: 0.4738\n",
            "Epoch 9/10\n",
            "1250/1250 [==============================] - 21s 16ms/step - loss: 1.4029 - accuracy: 0.5107 - val_loss: 1.4835 - val_accuracy: 0.4783\n",
            "Epoch 10/10\n",
            "1250/1250 [==============================] - 21s 17ms/step - loss: 1.3780 - accuracy: 0.5185 - val_loss: 1.4823 - val_accuracy: 0.4791\n"
          ],
          "name": "stdout"
        },
        {
          "output_type": "execute_result",
          "data": {
            "text/plain": [
              "<tensorflow.python.keras.callbacks.History at 0x7fe85578c6d8>"
            ]
          },
          "metadata": {
            "tags": []
          },
          "execution_count": 5
        }
      ]
    },
    {
      "cell_type": "code",
      "metadata": {
        "id": "gMb1KTSjkCcJ",
        "outputId": "585686f9-1ccb-4ce1-94b4-acf6b65a2f70",
        "colab": {
          "base_uri": "https://localhost:8080/",
          "height": 386
        }
      },
      "source": [
        "import keras\n",
        "from keras.datasets import cifar10\n",
        "from keras.models import Sequential\n",
        "from keras.layers import Dense, Dropout, Activation, Flatten\n",
        "from keras.utils import to_categorical\n",
        "\n",
        "(X_train, y_train), (X_test, y_test) = cifar10.load_data()\n",
        "\n",
        "X_train = X_train.reshape(50000, 32*32*3)\n",
        "X_test = X_test.reshape(10000, 32*32*3)\n",
        "\n",
        "X_train = X_train.astype('float32')\n",
        "X_test = X_test.astype('float32')\n",
        "\n",
        "#preprocess\n",
        "X_train /=  255.0\n",
        "X_test /= 255.0\n",
        "\n",
        "y_train = to_categorical(y_train, 10)\n",
        "y_test = to_categorical(y_test, 10)\n",
        "\n",
        "#model build\n",
        "# lecun_normal\n",
        "# randomly sample from a truncated normal distribution with mean: 0, stddev = sqrt(1/(fan_in))\n",
        "\n",
        "initializers = keras.initializers.lecun_normal()\n",
        "\n",
        "model = Sequential()\n",
        "model.add(Dense(1024, input_dim=3072, kernel_initializer=initializers, bias_initializer=initializers, activation='relu'))\n",
        "model.add(Dense(10, kernel_initializer=initializers, bias_initializer=initializers, activation='softmax'))\n",
        "\n",
        "#compile\n",
        "\n",
        "model.compile(optimizer='sgd', loss='categorical_crossentropy', metrics=['accuracy'])\n",
        "\n",
        "#train\n",
        "\n",
        "model.fit(X_train, y_train, epochs=10, validation_split=0.2, verbose=1)\n",
        "\n"
      ],
      "execution_count": 6,
      "outputs": [
        {
          "output_type": "stream",
          "text": [
            "Epoch 1/10\n",
            "1250/1250 [==============================] - 21s 17ms/step - loss: 1.8962 - accuracy: 0.3246 - val_loss: 1.7946 - val_accuracy: 0.3707\n",
            "Epoch 2/10\n",
            "1250/1250 [==============================] - 20s 16ms/step - loss: 1.7222 - accuracy: 0.3966 - val_loss: 1.7142 - val_accuracy: 0.3913\n",
            "Epoch 3/10\n",
            "1250/1250 [==============================] - 20s 16ms/step - loss: 1.6413 - accuracy: 0.4262 - val_loss: 1.6429 - val_accuracy: 0.4211\n",
            "Epoch 4/10\n",
            "1250/1250 [==============================] - 20s 16ms/step - loss: 1.5867 - accuracy: 0.4455 - val_loss: 1.6255 - val_accuracy: 0.4280\n",
            "Epoch 5/10\n",
            "1250/1250 [==============================] - 20s 16ms/step - loss: 1.5454 - accuracy: 0.4586 - val_loss: 1.5889 - val_accuracy: 0.4430\n",
            "Epoch 6/10\n",
            "1250/1250 [==============================] - 20s 16ms/step - loss: 1.5099 - accuracy: 0.4681 - val_loss: 1.5577 - val_accuracy: 0.4545\n",
            "Epoch 7/10\n",
            "1250/1250 [==============================] - 20s 16ms/step - loss: 1.4777 - accuracy: 0.4812 - val_loss: 1.5190 - val_accuracy: 0.4706\n",
            "Epoch 8/10\n",
            "1250/1250 [==============================] - 20s 16ms/step - loss: 1.4507 - accuracy: 0.4934 - val_loss: 1.5193 - val_accuracy: 0.4635\n",
            "Epoch 9/10\n",
            "1250/1250 [==============================] - 20s 16ms/step - loss: 1.4248 - accuracy: 0.5011 - val_loss: 1.5047 - val_accuracy: 0.4783\n",
            "Epoch 10/10\n",
            "1250/1250 [==============================] - 20s 16ms/step - loss: 1.3984 - accuracy: 0.5113 - val_loss: 1.5183 - val_accuracy: 0.4653\n"
          ],
          "name": "stdout"
        },
        {
          "output_type": "execute_result",
          "data": {
            "text/plain": [
              "<tensorflow.python.keras.callbacks.History at 0x7fe85568cfd0>"
            ]
          },
          "metadata": {
            "tags": []
          },
          "execution_count": 6
        }
      ]
    },
    {
      "cell_type": "code",
      "metadata": {
        "id": "3z_ybwzbkVte",
        "outputId": "37d5323f-c30b-40c1-f823-3ef634572466",
        "colab": {
          "base_uri": "https://localhost:8080/",
          "height": 386
        }
      },
      "source": [
        "import keras\n",
        "from keras.datasets import cifar10\n",
        "from keras.models import Sequential\n",
        "from keras.layers import Dense, Dropout, Activation, Flatten\n",
        "from keras.utils import to_categorical\n",
        "\n",
        "(X_train, y_train), (X_test, y_test) = cifar10.load_data()\n",
        "\n",
        "X_train = X_train.reshape(50000, 32*32*3)\n",
        "X_test = X_test.reshape(10000, 32*32*3)\n",
        "\n",
        "X_train = X_train.astype('float32')\n",
        "X_test = X_test.astype('float32')\n",
        "\n",
        "#preprocess\n",
        "X_train /=  255.0\n",
        "X_test /= 255.0\n",
        "\n",
        "y_train = to_categorical(y_train, 10)\n",
        "y_test = to_categorical(y_test, 10)\n",
        "\n",
        "#model build\n",
        "# he_uniform\n",
        "# randomly sample from a uniform distribution with limits: limits = sqrt(6/fan_in)\n",
        "\n",
        "initializers = keras.initializers.he_uniform()\n",
        "\n",
        "model = Sequential()\n",
        "model.add(Dense(1024, input_dim=3072, kernel_initializer=initializers, bias_initializer=initializers, activation='relu'))\n",
        "model.add(Dense(10, kernel_initializer=initializers, bias_initializer=initializers, activation='softmax'))\n",
        "\n",
        "#compile\n",
        "\n",
        "model.compile(optimizer='sgd', loss='categorical_crossentropy', metrics=['accuracy'])\n",
        "\n",
        "#train\n",
        "\n",
        "model.fit(X_train, y_train, epochs=10, validation_split=0.2, verbose=1)\n",
        "\n"
      ],
      "execution_count": 7,
      "outputs": [
        {
          "output_type": "stream",
          "text": [
            "Epoch 1/10\n",
            "1250/1250 [==============================] - 20s 16ms/step - loss: 1.8754 - accuracy: 0.3268 - val_loss: 1.7636 - val_accuracy: 0.3830\n",
            "Epoch 2/10\n",
            "1250/1250 [==============================] - 20s 16ms/step - loss: 1.6981 - accuracy: 0.4028 - val_loss: 1.6870 - val_accuracy: 0.4118\n",
            "Epoch 3/10\n",
            "1250/1250 [==============================] - 20s 16ms/step - loss: 1.6213 - accuracy: 0.4303 - val_loss: 1.6452 - val_accuracy: 0.4206\n",
            "Epoch 4/10\n",
            "1250/1250 [==============================] - 21s 16ms/step - loss: 1.5696 - accuracy: 0.4482 - val_loss: 1.5931 - val_accuracy: 0.4407\n",
            "Epoch 5/10\n",
            "1250/1250 [==============================] - 21s 17ms/step - loss: 1.5267 - accuracy: 0.4653 - val_loss: 1.5806 - val_accuracy: 0.4508\n",
            "Epoch 6/10\n",
            "1250/1250 [==============================] - 21s 17ms/step - loss: 1.4896 - accuracy: 0.4800 - val_loss: 1.5618 - val_accuracy: 0.4505\n",
            "Epoch 7/10\n",
            "1250/1250 [==============================] - 21s 17ms/step - loss: 1.4579 - accuracy: 0.4909 - val_loss: 1.5179 - val_accuracy: 0.4669\n",
            "Epoch 8/10\n",
            "1250/1250 [==============================] - 21s 17ms/step - loss: 1.4290 - accuracy: 0.5006 - val_loss: 1.5015 - val_accuracy: 0.4765\n",
            "Epoch 9/10\n",
            "1250/1250 [==============================] - 21s 17ms/step - loss: 1.4037 - accuracy: 0.5081 - val_loss: 1.4984 - val_accuracy: 0.4777\n",
            "Epoch 10/10\n",
            "1250/1250 [==============================] - 21s 17ms/step - loss: 1.3762 - accuracy: 0.5193 - val_loss: 1.5012 - val_accuracy: 0.4738\n"
          ],
          "name": "stdout"
        },
        {
          "output_type": "execute_result",
          "data": {
            "text/plain": [
              "<tensorflow.python.keras.callbacks.History at 0x7fe85559ce10>"
            ]
          },
          "metadata": {
            "tags": []
          },
          "execution_count": 7
        }
      ]
    },
    {
      "cell_type": "markdown",
      "metadata": {
        "id": "z536LIYWm3z2"
      },
      "source": [
        "#Datasets"
      ]
    },
    {
      "cell_type": "code",
      "metadata": {
        "id": "lJoGzyrwm3Rc",
        "outputId": "fa6b22d8-cf9f-4d5b-84b7-90d587e9f2eb",
        "colab": {
          "base_uri": "https://localhost:8080/",
          "height": 421
        }
      },
      "source": [
        "import keras\n",
        "from keras.datasets import cifar100\n",
        "from keras.models import Sequential\n",
        "from keras.layers import Dense, Dropout, Activation, Flatten\n",
        "from keras.utils import to_categorical\n",
        "\n",
        "(X_train, y_train), (X_test, y_test) = cifar100.load_data()\n",
        "\n",
        "X_train = X_train.reshape(50000, 32*32*3)\n",
        "X_test = X_test.reshape(10000, 32*32*3)\n",
        "\n",
        "X_train = X_train.astype('float32')\n",
        "X_test = X_test.astype('float32')\n",
        "\n",
        "#preprocess\n",
        "X_train /=  255.0\n",
        "X_test /= 255.0\n",
        "\n",
        "y_train = to_categorical(y_train, 100)\n",
        "y_test = to_categorical(y_test, 100)\n",
        "\n",
        "#model build\n",
        "# he_uniform\n",
        "# randomly sample from a uniform distribution with limits: limits = sqrt(6/fan_in)\n",
        "\n",
        "initializers = keras.initializers.he_uniform()\n",
        "\n",
        "model = Sequential()\n",
        "model.add(Dense(1024, input_dim=3072, kernel_initializer=initializers, bias_initializer=initializers, activation='relu'))\n",
        "model.add(Dense(100, kernel_initializer=initializers, bias_initializer=initializers, activation='softmax'))\n",
        "\n",
        "#compile\n",
        "\n",
        "model.compile(optimizer='sgd', loss='categorical_crossentropy', metrics=['accuracy'])\n",
        "\n",
        "#train\n",
        "\n",
        "model.fit(X_train, y_train, epochs=10, validation_split=0.2, verbose=1)\n"
      ],
      "execution_count": 8,
      "outputs": [
        {
          "output_type": "stream",
          "text": [
            "Downloading data from https://www.cs.toronto.edu/~kriz/cifar-100-python.tar.gz\n",
            "169009152/169001437 [==============================] - 11s 0us/step\n",
            "Epoch 1/10\n",
            "1250/1250 [==============================] - 21s 17ms/step - loss: 4.2033 - accuracy: 0.0723 - val_loss: 3.9571 - val_accuracy: 0.1079\n",
            "Epoch 2/10\n",
            "1250/1250 [==============================] - 20s 16ms/step - loss: 3.8559 - accuracy: 0.1240 - val_loss: 3.8077 - val_accuracy: 0.1321\n",
            "Epoch 3/10\n",
            "1250/1250 [==============================] - 20s 16ms/step - loss: 3.7057 - accuracy: 0.1511 - val_loss: 3.7104 - val_accuracy: 0.1605\n",
            "Epoch 4/10\n",
            "1250/1250 [==============================] - 20s 16ms/step - loss: 3.6069 - accuracy: 0.1709 - val_loss: 3.6493 - val_accuracy: 0.1569\n",
            "Epoch 5/10\n",
            "1250/1250 [==============================] - 21s 17ms/step - loss: 3.5307 - accuracy: 0.1827 - val_loss: 3.5910 - val_accuracy: 0.1663\n",
            "Epoch 6/10\n",
            "1250/1250 [==============================] - 21s 17ms/step - loss: 3.4673 - accuracy: 0.1947 - val_loss: 3.5586 - val_accuracy: 0.1793\n",
            "Epoch 7/10\n",
            "1250/1250 [==============================] - 21s 17ms/step - loss: 3.4148 - accuracy: 0.2035 - val_loss: 3.5468 - val_accuracy: 0.1764\n",
            "Epoch 8/10\n",
            "1250/1250 [==============================] - 21s 17ms/step - loss: 3.3625 - accuracy: 0.2169 - val_loss: 3.4882 - val_accuracy: 0.1955\n",
            "Epoch 9/10\n",
            "1250/1250 [==============================] - 21s 17ms/step - loss: 3.3168 - accuracy: 0.2231 - val_loss: 3.4767 - val_accuracy: 0.1960\n",
            "Epoch 10/10\n",
            "1250/1250 [==============================] - 21s 17ms/step - loss: 3.2736 - accuracy: 0.2311 - val_loss: 3.4682 - val_accuracy: 0.1885\n"
          ],
          "name": "stdout"
        },
        {
          "output_type": "execute_result",
          "data": {
            "text/plain": [
              "<tensorflow.python.keras.callbacks.History at 0x7fe850f62fd0>"
            ]
          },
          "metadata": {
            "tags": []
          },
          "execution_count": 8
        }
      ]
    },
    {
      "cell_type": "code",
      "metadata": {
        "id": "pzBt95pFnKj4",
        "outputId": "90647c01-1d3a-4fa8-da92-a69670160b79",
        "colab": {
          "base_uri": "https://localhost:8080/",
          "height": 237
        }
      },
      "source": [
        "import keras\n",
        "from keras.datasets import mnist\n",
        "from keras.models import Sequential\n",
        "from keras.layers import Dense, Dropout, Activation, Flatten\n",
        "from keras.utils import to_categorical\n",
        "\n",
        "(X_train, y_train), (X_test, y_test) = mnist.load_data()\n",
        "\n",
        "X_train = X_train.reshape(50000, 32*32*3)\n",
        "X_test = X_test.reshape(10000, 32*32*3)\n",
        "\n",
        "X_train = X_train.astype('float32')\n",
        "X_test = X_test.astype('float32')\n",
        "\n",
        "#preprocess\n",
        "X_train /=  255.0\n",
        "X_test /= 255.0\n",
        "\n",
        "y_train = to_categorical(y_train, 10)\n",
        "y_test = to_categorical(y_test, 10)\n",
        "\n",
        "#model build\n",
        "# he_uniform\n",
        "# randomly sample from a uniform distribution with limits: limits = sqrt(6/fan_in)\n",
        "\n",
        "initializers = keras.initializers.he_uniform()\n",
        "\n",
        "model = Sequential()\n",
        "model.add(Dense(1024, input_dim=784, kernel_initializer=initializers, bias_initializer=initializers, activation='relu'))\n",
        "model.add(Dense(10, kernel_initializer=initializers, bias_initializer=initializers, activation='softmax'))\n",
        "\n",
        "#compile\n",
        "\n",
        "model.compile(optimizer='sgd', loss='categorical_crossentropy', metrics=['accuracy'])\n",
        "\n",
        "#train\n",
        "\n",
        "model.fit(X_train, y_train, epochs=10, validation_split=0.2, verbose=1)\n"
      ],
      "execution_count": 12,
      "outputs": [
        {
          "output_type": "error",
          "ename": "ValueError",
          "evalue": "ignored",
          "traceback": [
            "\u001b[0;31m---------------------------------------------------------------------------\u001b[0m",
            "\u001b[0;31mValueError\u001b[0m                                Traceback (most recent call last)",
            "\u001b[0;32m<ipython-input-12-b9d8d2c38010>\u001b[0m in \u001b[0;36m<module>\u001b[0;34m()\u001b[0m\n\u001b[1;32m      7\u001b[0m \u001b[0;34m(\u001b[0m\u001b[0mX_train\u001b[0m\u001b[0;34m,\u001b[0m \u001b[0my_train\u001b[0m\u001b[0;34m)\u001b[0m\u001b[0;34m,\u001b[0m \u001b[0;34m(\u001b[0m\u001b[0mX_test\u001b[0m\u001b[0;34m,\u001b[0m \u001b[0my_test\u001b[0m\u001b[0;34m)\u001b[0m \u001b[0;34m=\u001b[0m \u001b[0mmnist\u001b[0m\u001b[0;34m.\u001b[0m\u001b[0mload_data\u001b[0m\u001b[0;34m(\u001b[0m\u001b[0;34m)\u001b[0m\u001b[0;34m\u001b[0m\u001b[0;34m\u001b[0m\u001b[0m\n\u001b[1;32m      8\u001b[0m \u001b[0;34m\u001b[0m\u001b[0m\n\u001b[0;32m----> 9\u001b[0;31m \u001b[0mX_train\u001b[0m \u001b[0;34m=\u001b[0m \u001b[0mX_train\u001b[0m\u001b[0;34m.\u001b[0m\u001b[0mreshape\u001b[0m\u001b[0;34m(\u001b[0m\u001b[0;36m50000\u001b[0m\u001b[0;34m,\u001b[0m \u001b[0;36m32\u001b[0m\u001b[0;34m*\u001b[0m\u001b[0;36m32\u001b[0m\u001b[0;34m*\u001b[0m\u001b[0;36m3\u001b[0m\u001b[0;34m)\u001b[0m\u001b[0;34m\u001b[0m\u001b[0;34m\u001b[0m\u001b[0m\n\u001b[0m\u001b[1;32m     10\u001b[0m \u001b[0mX_test\u001b[0m \u001b[0;34m=\u001b[0m \u001b[0mX_test\u001b[0m\u001b[0;34m.\u001b[0m\u001b[0mreshape\u001b[0m\u001b[0;34m(\u001b[0m\u001b[0;36m10000\u001b[0m\u001b[0;34m,\u001b[0m \u001b[0;36m32\u001b[0m\u001b[0;34m*\u001b[0m\u001b[0;36m32\u001b[0m\u001b[0;34m*\u001b[0m\u001b[0;36m3\u001b[0m\u001b[0;34m)\u001b[0m\u001b[0;34m\u001b[0m\u001b[0;34m\u001b[0m\u001b[0m\n\u001b[1;32m     11\u001b[0m \u001b[0;34m\u001b[0m\u001b[0m\n",
            "\u001b[0;31mValueError\u001b[0m: cannot reshape array of size 47040000 into shape (50000,3072)"
          ]
        }
      ]
    },
    {
      "cell_type": "markdown",
      "metadata": {
        "id": "Nu6o2U1tt688"
      },
      "source": [
        "#Layers"
      ]
    },
    {
      "cell_type": "markdown",
      "metadata": {
        "id": "y7AQJ9cIvvtl"
      },
      "source": [
        "#Activation"
      ]
    },
    {
      "cell_type": "code",
      "metadata": {
        "id": "ZUuBAnmuwH4T",
        "outputId": "0a323465-4f6c-42f2-9e3d-d2bd22cda625",
        "colab": {
          "base_uri": "https://localhost:8080/",
          "height": 386
        }
      },
      "source": [
        "import keras\n",
        "from keras.datasets import fashion_mnist\n",
        "from keras.models import Sequential\n",
        "from keras.layers import Dense, Dropout, Activation, Flatten\n",
        "from keras.utils import to_categorical\n",
        "\n",
        "(X_train, y_train), (X_test, y_test) = fashion_mnist.load_data()\n",
        "\n",
        "X_train = X_train.reshape(60000, 28*28)\n",
        "X_test = X_test.reshape(10000, 28*28)\n",
        "\n",
        "X_train = X_train.astype('float32')\n",
        "X_test = X_test.astype('float32')\n",
        "\n",
        "#preprocess\n",
        "X_train /=  255.0\n",
        "X_test /= 255.0\n",
        "\n",
        "y_train = to_categorical(y_train, 10)\n",
        "y_test = to_categorical(y_test, 10)\n",
        "\n",
        "#model build\n",
        "\n",
        "\n",
        "model = Sequential()\n",
        "model.add(Dense(1024, activation='elu'))\n",
        "model.add(Dense(10, activation='softmax'))\n",
        "\n",
        "#compile\n",
        "\n",
        "model.compile(optimizer='sgd', loss='categorical_crossentropy', metrics=['accuracy'])\n",
        "\n",
        "#train\n",
        "\n",
        "model.fit(X_train, y_train, epochs=10, validation_split=0.2, verbose=1)\n"
      ],
      "execution_count": 15,
      "outputs": [
        {
          "output_type": "stream",
          "text": [
            "Epoch 1/10\n",
            "1500/1500 [==============================] - 9s 6ms/step - loss: 0.6893 - accuracy: 0.7758 - val_loss: 0.5348 - val_accuracy: 0.8209\n",
            "Epoch 2/10\n",
            "1500/1500 [==============================] - 10s 7ms/step - loss: 0.5050 - accuracy: 0.8282 - val_loss: 0.4863 - val_accuracy: 0.8297\n",
            "Epoch 3/10\n",
            "1500/1500 [==============================] - 10s 6ms/step - loss: 0.4687 - accuracy: 0.8387 - val_loss: 0.4580 - val_accuracy: 0.8374\n",
            "Epoch 4/10\n",
            "1500/1500 [==============================] - 9s 6ms/step - loss: 0.4486 - accuracy: 0.8462 - val_loss: 0.4501 - val_accuracy: 0.8413\n",
            "Epoch 5/10\n",
            "1500/1500 [==============================] - 9s 6ms/step - loss: 0.4359 - accuracy: 0.8493 - val_loss: 0.4394 - val_accuracy: 0.8478\n",
            "Epoch 6/10\n",
            "1500/1500 [==============================] - 9s 6ms/step - loss: 0.4261 - accuracy: 0.8534 - val_loss: 0.4253 - val_accuracy: 0.8495\n",
            "Epoch 7/10\n",
            "1500/1500 [==============================] - 9s 6ms/step - loss: 0.4176 - accuracy: 0.8552 - val_loss: 0.4564 - val_accuracy: 0.8369\n",
            "Epoch 8/10\n",
            "1500/1500 [==============================] - 9s 6ms/step - loss: 0.4108 - accuracy: 0.8563 - val_loss: 0.4231 - val_accuracy: 0.8542\n",
            "Epoch 9/10\n",
            "1500/1500 [==============================] - 9s 6ms/step - loss: 0.4053 - accuracy: 0.8586 - val_loss: 0.4322 - val_accuracy: 0.8466\n",
            "Epoch 10/10\n",
            "1500/1500 [==============================] - 9s 6ms/step - loss: 0.3991 - accuracy: 0.8606 - val_loss: 0.4128 - val_accuracy: 0.8545\n"
          ],
          "name": "stdout"
        },
        {
          "output_type": "execute_result",
          "data": {
            "text/plain": [
              "<tensorflow.python.keras.callbacks.History at 0x7fe850f688d0>"
            ]
          },
          "metadata": {
            "tags": []
          },
          "execution_count": 15
        }
      ]
    },
    {
      "cell_type": "code",
      "metadata": {
        "id": "xyXkk-SJyJZU",
        "outputId": "d8b2996f-e5e4-40b8-a73a-0891e00e05df",
        "colab": {
          "base_uri": "https://localhost:8080/",
          "height": 386
        }
      },
      "source": [
        "import keras\n",
        "from keras.datasets import fashion_mnist\n",
        "from keras.models import Sequential\n",
        "from keras.layers import Dense, Dropout, Activation, Flatten\n",
        "from keras.utils import to_categorical\n",
        "\n",
        "(X_train, y_train), (X_test, y_test) = fashion_mnist.load_data()\n",
        "\n",
        "X_train = X_train.reshape(60000, 28*28)\n",
        "X_test = X_test.reshape(10000, 28*28)\n",
        "\n",
        "X_train = X_train.astype('float32')\n",
        "X_test = X_test.astype('float32')\n",
        "\n",
        "#preprocess\n",
        "X_train /=  255.0\n",
        "X_test /= 255.0\n",
        "\n",
        "y_train = to_categorical(y_train, 10)\n",
        "y_test = to_categorical(y_test, 10)\n",
        "\n",
        "#model build\n",
        "\n",
        "\n",
        "model = Sequential()\n",
        "model.add(Dense(1024, activation='selu'))\n",
        "model.add(Dense(10, activation='softmax'))\n",
        "\n",
        "#compile\n",
        "\n",
        "model.compile(optimizer='sgd', loss='categorical_crossentropy', metrics=['accuracy'])\n",
        "\n",
        "#train\n",
        "\n",
        "model.fit(X_train, y_train, epochs=10, validation_split=0.2, verbose=1)\n"
      ],
      "execution_count": 16,
      "outputs": [
        {
          "output_type": "stream",
          "text": [
            "Epoch 1/10\n",
            "1500/1500 [==============================] - 9s 6ms/step - loss: 0.6248 - accuracy: 0.7911 - val_loss: 0.4935 - val_accuracy: 0.8299\n",
            "Epoch 2/10\n",
            "1500/1500 [==============================] - 9s 6ms/step - loss: 0.4757 - accuracy: 0.8363 - val_loss: 0.4627 - val_accuracy: 0.8369\n",
            "Epoch 3/10\n",
            "1500/1500 [==============================] - 9s 6ms/step - loss: 0.4454 - accuracy: 0.8451 - val_loss: 0.4383 - val_accuracy: 0.8464\n",
            "Epoch 4/10\n",
            "1500/1500 [==============================] - 10s 6ms/step - loss: 0.4288 - accuracy: 0.8514 - val_loss: 0.4396 - val_accuracy: 0.8459\n",
            "Epoch 5/10\n",
            "1500/1500 [==============================] - 9s 6ms/step - loss: 0.4168 - accuracy: 0.8535 - val_loss: 0.4283 - val_accuracy: 0.8482\n",
            "Epoch 6/10\n",
            "1500/1500 [==============================] - 9s 6ms/step - loss: 0.4082 - accuracy: 0.8562 - val_loss: 0.4262 - val_accuracy: 0.8497\n",
            "Epoch 7/10\n",
            "1500/1500 [==============================] - 9s 6ms/step - loss: 0.4008 - accuracy: 0.8597 - val_loss: 0.4072 - val_accuracy: 0.8551\n",
            "Epoch 8/10\n",
            "1500/1500 [==============================] - 9s 6ms/step - loss: 0.3945 - accuracy: 0.8622 - val_loss: 0.4148 - val_accuracy: 0.8549\n",
            "Epoch 9/10\n",
            "1500/1500 [==============================] - 10s 7ms/step - loss: 0.3887 - accuracy: 0.8633 - val_loss: 0.4043 - val_accuracy: 0.8585\n",
            "Epoch 10/10\n",
            "1500/1500 [==============================] - 10s 6ms/step - loss: 0.3838 - accuracy: 0.8646 - val_loss: 0.3942 - val_accuracy: 0.8609\n"
          ],
          "name": "stdout"
        },
        {
          "output_type": "execute_result",
          "data": {
            "text/plain": [
              "<tensorflow.python.keras.callbacks.History at 0x7fe84fef4b70>"
            ]
          },
          "metadata": {
            "tags": []
          },
          "execution_count": 16
        }
      ]
    },
    {
      "cell_type": "code",
      "metadata": {
        "id": "vyVI6KwVyxGn",
        "outputId": "f81b66b1-1d69-43b9-8bd4-149d59cd9a04",
        "colab": {
          "base_uri": "https://localhost:8080/",
          "height": 386
        }
      },
      "source": [
        "import keras\n",
        "from keras.datasets import fashion_mnist\n",
        "from keras.models import Sequential\n",
        "from keras.layers import Dense, Dropout, Activation, Flatten, ELU\n",
        "from keras.utils import to_categorical\n",
        "\n",
        "(X_train, y_train), (X_test, y_test) = fashion_mnist.load_data()\n",
        "\n",
        "X_train = X_train.reshape(60000, 28*28)\n",
        "X_test = X_test.reshape(10000, 28*28)\n",
        "\n",
        "X_train = X_train.astype('float32')\n",
        "X_test = X_test.astype('float32')\n",
        "\n",
        "#preprocess\n",
        "X_train /=  255.0\n",
        "X_test /= 255.0\n",
        "\n",
        "y_train = to_categorical(y_train, 10)\n",
        "y_test = to_categorical(y_test, 10)\n",
        "\n",
        "#model build\n",
        "\n",
        "\n",
        "model = Sequential()\n",
        "x = model.add(Dense(1024, input_dim=784, activation='softplus'))\n",
        "model.add(Dense(10, activation='softmax'))\n",
        "\n",
        "#compile\n",
        "\n",
        "model.compile(optimizer='sgd', loss='categorical_crossentropy', metrics=['accuracy'])\n",
        "\n",
        "#train\n",
        "\n",
        "model.fit(X_train, y_train, epochs=10, validation_split=0.2, verbose=1)\n"
      ],
      "execution_count": 17,
      "outputs": [
        {
          "output_type": "stream",
          "text": [
            "Epoch 1/10\n",
            "1500/1500 [==============================] - 10s 6ms/step - loss: 0.8335 - accuracy: 0.7211 - val_loss: 0.6628 - val_accuracy: 0.7476\n",
            "Epoch 2/10\n",
            "1500/1500 [==============================] - 9s 6ms/step - loss: 0.5792 - accuracy: 0.7970 - val_loss: 0.5786 - val_accuracy: 0.7953\n",
            "Epoch 3/10\n",
            "1500/1500 [==============================] - 9s 6ms/step - loss: 0.5302 - accuracy: 0.8132 - val_loss: 0.5019 - val_accuracy: 0.8200\n",
            "Epoch 4/10\n",
            "1500/1500 [==============================] - 9s 6ms/step - loss: 0.5049 - accuracy: 0.8226 - val_loss: 0.5051 - val_accuracy: 0.8197\n",
            "Epoch 5/10\n",
            "1500/1500 [==============================] - 9s 6ms/step - loss: 0.4881 - accuracy: 0.8288 - val_loss: 0.4721 - val_accuracy: 0.8357\n",
            "Epoch 6/10\n",
            "1500/1500 [==============================] - 9s 6ms/step - loss: 0.4734 - accuracy: 0.8361 - val_loss: 0.4716 - val_accuracy: 0.8346\n",
            "Epoch 7/10\n",
            "1500/1500 [==============================] - 9s 6ms/step - loss: 0.4640 - accuracy: 0.8387 - val_loss: 0.4906 - val_accuracy: 0.8295\n",
            "Epoch 8/10\n",
            "1500/1500 [==============================] - 10s 6ms/step - loss: 0.4554 - accuracy: 0.8419 - val_loss: 0.4571 - val_accuracy: 0.8417\n",
            "Epoch 9/10\n",
            "1500/1500 [==============================] - 10s 6ms/step - loss: 0.4480 - accuracy: 0.8435 - val_loss: 0.4558 - val_accuracy: 0.8392\n",
            "Epoch 10/10\n",
            "1500/1500 [==============================] - 10s 6ms/step - loss: 0.4426 - accuracy: 0.8450 - val_loss: 0.4415 - val_accuracy: 0.8467\n"
          ],
          "name": "stdout"
        },
        {
          "output_type": "execute_result",
          "data": {
            "text/plain": [
              "<tensorflow.python.keras.callbacks.History at 0x7fe84dd80550>"
            ]
          },
          "metadata": {
            "tags": []
          },
          "execution_count": 17
        }
      ]
    },
    {
      "cell_type": "code",
      "metadata": {
        "id": "ihr9M4gM0Dm6",
        "outputId": "405be8eb-18b6-43d8-dfa6-c8807a23dcb4",
        "colab": {
          "base_uri": "https://localhost:8080/",
          "height": 386
        }
      },
      "source": [
        "import keras\n",
        "from keras.datasets import fashion_mnist\n",
        "from keras.models import Sequential\n",
        "from keras.layers import Dense, Dropout, Activation, Flatten, ELU\n",
        "from keras.utils import to_categorical\n",
        "\n",
        "(X_train, y_train), (X_test, y_test) = fashion_mnist.load_data()\n",
        "\n",
        "X_train = X_train.reshape(60000, 28*28)\n",
        "X_test = X_test.reshape(10000, 28*28)\n",
        "\n",
        "X_train = X_train.astype('float32')\n",
        "X_test = X_test.astype('float32')\n",
        "\n",
        "#preprocess\n",
        "X_train /=  255.0\n",
        "X_test /= 255.0\n",
        "\n",
        "y_train = to_categorical(y_train, 10)\n",
        "y_test = to_categorical(y_test, 10)\n",
        "\n",
        "#model build\n",
        "#max_value->=0 \n",
        "#negative_slope>=0 (slope coefficient)\n",
        "#threshold>=0 \n",
        "\n",
        "activations = keras.layers.ReLU(max_value=None, negative_slope=0.0, threshold=0.0)\n",
        "\n",
        "model = Sequential()\n",
        "x = model.add(Dense(1024, input_dim=784, activation=activations))\n",
        "model.add(Dense(10, activation='softmax'))\n",
        "\n",
        "#compile\n",
        "\n",
        "model.compile(optimizer='sgd', loss='categorical_crossentropy', metrics=['accuracy'])\n",
        "\n",
        "#train\n",
        "\n",
        "model.fit(X_train, y_train, epochs=10, validation_split=0.2, verbose=1)\n"
      ],
      "execution_count": 18,
      "outputs": [
        {
          "output_type": "stream",
          "text": [
            "Epoch 1/10\n",
            "1500/1500 [==============================] - 9s 6ms/step - loss: 0.7265 - accuracy: 0.7700 - val_loss: 0.5416 - val_accuracy: 0.8192\n",
            "Epoch 2/10\n",
            "1500/1500 [==============================] - 9s 6ms/step - loss: 0.5098 - accuracy: 0.8300 - val_loss: 0.4869 - val_accuracy: 0.8313\n",
            "Epoch 3/10\n",
            "1500/1500 [==============================] - 9s 6ms/step - loss: 0.4648 - accuracy: 0.8424 - val_loss: 0.4660 - val_accuracy: 0.8381\n",
            "Epoch 4/10\n",
            "1500/1500 [==============================] - 9s 6ms/step - loss: 0.4392 - accuracy: 0.8492 - val_loss: 0.4461 - val_accuracy: 0.8443\n",
            "Epoch 5/10\n",
            "1500/1500 [==============================] - 9s 6ms/step - loss: 0.4201 - accuracy: 0.8559 - val_loss: 0.4261 - val_accuracy: 0.8507\n",
            "Epoch 6/10\n",
            "1500/1500 [==============================] - 9s 6ms/step - loss: 0.4051 - accuracy: 0.8623 - val_loss: 0.4202 - val_accuracy: 0.8501\n",
            "Epoch 7/10\n",
            "1500/1500 [==============================] - 9s 6ms/step - loss: 0.3937 - accuracy: 0.8650 - val_loss: 0.4104 - val_accuracy: 0.8572\n",
            "Epoch 8/10\n",
            "1500/1500 [==============================] - 9s 6ms/step - loss: 0.3828 - accuracy: 0.8683 - val_loss: 0.4144 - val_accuracy: 0.8557\n",
            "Epoch 9/10\n",
            "1500/1500 [==============================] - 9s 6ms/step - loss: 0.3733 - accuracy: 0.8712 - val_loss: 0.4006 - val_accuracy: 0.8601\n",
            "Epoch 10/10\n",
            "1500/1500 [==============================] - 9s 6ms/step - loss: 0.3660 - accuracy: 0.8741 - val_loss: 0.3837 - val_accuracy: 0.8662\n"
          ],
          "name": "stdout"
        },
        {
          "output_type": "execute_result",
          "data": {
            "text/plain": [
              "<tensorflow.python.keras.callbacks.History at 0x7fe84dc905f8>"
            ]
          },
          "metadata": {
            "tags": []
          },
          "execution_count": 18
        }
      ]
    },
    {
      "cell_type": "code",
      "metadata": {
        "id": "ZVGUuBCz2aQk",
        "outputId": "e3199558-abde-4dcd-c43d-7d5d1aced412",
        "colab": {
          "base_uri": "https://localhost:8080/",
          "height": 386
        }
      },
      "source": [
        "import keras\n",
        "from keras.datasets import fashion_mnist\n",
        "from keras.models import Sequential\n",
        "from keras.layers import Dense, Dropout, Activation, Flatten, ELU\n",
        "from keras.utils import to_categorical\n",
        "\n",
        "(X_train, y_train), (X_test, y_test) = fashion_mnist.load_data()\n",
        "\n",
        "X_train = X_train.reshape(60000, 28*28)\n",
        "X_test = X_test.reshape(10000, 28*28)\n",
        "\n",
        "X_train = X_train.astype('float32')\n",
        "X_test = X_test.astype('float32')\n",
        "\n",
        "#preprocess\n",
        "X_train /=  255.0\n",
        "X_test /= 255.0\n",
        "\n",
        "y_train = to_categorical(y_train, 10)\n",
        "y_test = to_categorical(y_test, 10)\n",
        "\n",
        "#model build\n",
        "#max_value->=0 \n",
        "#negative_slope>=0 (slope coefficient)\n",
        "#threshold>=0 \n",
        "\n",
        "activations = keras.layers.ReLU(max_value=None, negative_slope=0.0, threshold=0.0)\n",
        "outputactivation = keras.layers.Softmax()\n",
        "\n",
        "\n",
        "model = Sequential()\n",
        "x = model.add(Dense(1024, input_dim=784, activation=activations))\n",
        "model.add(Dense(10, activation=outputactivation))\n",
        "\n",
        "#compile\n",
        "\n",
        "model.compile(optimizer='sgd', loss='categorical_crossentropy', metrics=['accuracy'])\n",
        "\n",
        "#train\n",
        "\n",
        "model.fit(X_train, y_train, epochs=10, validation_split=0.2, verbose=1)\n"
      ],
      "execution_count": 19,
      "outputs": [
        {
          "output_type": "stream",
          "text": [
            "Epoch 1/10\n",
            "1500/1500 [==============================] - 9s 6ms/step - loss: 0.7312 - accuracy: 0.7686 - val_loss: 0.5578 - val_accuracy: 0.8106\n",
            "Epoch 2/10\n",
            "1500/1500 [==============================] - 9s 6ms/step - loss: 0.5129 - accuracy: 0.8272 - val_loss: 0.4855 - val_accuracy: 0.8338\n",
            "Epoch 3/10\n",
            "1500/1500 [==============================] - 9s 6ms/step - loss: 0.4670 - accuracy: 0.8402 - val_loss: 0.4518 - val_accuracy: 0.8438\n",
            "Epoch 4/10\n",
            "1500/1500 [==============================] - 9s 6ms/step - loss: 0.4409 - accuracy: 0.8491 - val_loss: 0.4435 - val_accuracy: 0.8443\n",
            "Epoch 5/10\n",
            "1500/1500 [==============================] - 9s 6ms/step - loss: 0.4232 - accuracy: 0.8532 - val_loss: 0.4247 - val_accuracy: 0.8546\n",
            "Epoch 6/10\n",
            "1500/1500 [==============================] - 9s 6ms/step - loss: 0.4076 - accuracy: 0.8594 - val_loss: 0.4161 - val_accuracy: 0.8538\n",
            "Epoch 7/10\n",
            "1500/1500 [==============================] - 9s 6ms/step - loss: 0.3953 - accuracy: 0.8649 - val_loss: 0.4024 - val_accuracy: 0.8605\n",
            "Epoch 8/10\n",
            "1500/1500 [==============================] - 9s 6ms/step - loss: 0.3853 - accuracy: 0.8673 - val_loss: 0.4028 - val_accuracy: 0.8569\n",
            "Epoch 9/10\n",
            "1500/1500 [==============================] - 9s 6ms/step - loss: 0.3754 - accuracy: 0.8709 - val_loss: 0.3875 - val_accuracy: 0.8654\n",
            "Epoch 10/10\n",
            "1500/1500 [==============================] - 9s 6ms/step - loss: 0.3670 - accuracy: 0.8732 - val_loss: 0.3828 - val_accuracy: 0.8650\n"
          ],
          "name": "stdout"
        },
        {
          "output_type": "execute_result",
          "data": {
            "text/plain": [
              "<tensorflow.python.keras.callbacks.History at 0x7fe855774cc0>"
            ]
          },
          "metadata": {
            "tags": []
          },
          "execution_count": 19
        }
      ]
    },
    {
      "cell_type": "code",
      "metadata": {
        "id": "Vpo3q4p9zMpf",
        "outputId": "99549ab1-38c8-4bbf-fe5c-e6261fde1553",
        "colab": {
          "base_uri": "https://localhost:8080/",
          "height": 386
        }
      },
      "source": [
        "import keras\n",
        "from keras.datasets import fashion_mnist\n",
        "from keras.models import Sequential\n",
        "from keras.layers import Dense, Dropout, Activation, Flatten, ELU\n",
        "from keras.utils import to_categorical\n",
        "\n",
        "(X_train, y_train), (X_test, y_test) = fashion_mnist.load_data()\n",
        "\n",
        "X_train = X_train.reshape(60000, 28*28)\n",
        "X_test = X_test.reshape(10000, 28*28)\n",
        "\n",
        "X_train = X_train.astype('float32')\n",
        "X_test = X_test.astype('float32')\n",
        "\n",
        "#preprocess\n",
        "X_train /=  255.0\n",
        "X_test /= 255.0\n",
        "\n",
        "y_train = to_categorical(y_train, 10)\n",
        "y_test = to_categorical(y_test, 10)\n",
        "\n",
        "#model build\n",
        "#max_value->=0 \n",
        "#negative_slope>=0 (slope coefficient)\n",
        "#threshold>=0 \n",
        "\n",
        "\n",
        "outputactivation = keras.layers.Softmax()\n",
        "\n",
        "\n",
        "model = Sequential()\n",
        "x = model.add(Dense(1024, input_dim=784, activation=\"sigmoid\"))\n",
        "model.add(Dense(10, activation=outputactivation))\n",
        "\n",
        "#compile\n",
        "\n",
        "model.compile(optimizer='sgd', loss='categorical_crossentropy', metrics=['accuracy'])\n",
        "\n",
        "#train\n",
        "\n",
        "model.fit(X_train, y_train, epochs=10, validation_split=0.2, verbose=1)\n"
      ],
      "execution_count": 20,
      "outputs": [
        {
          "output_type": "stream",
          "text": [
            "Epoch 1/10\n",
            "1500/1500 [==============================] - 9s 6ms/step - loss: 1.1899 - accuracy: 0.6589 - val_loss: 0.8179 - val_accuracy: 0.7391\n",
            "Epoch 2/10\n",
            "1500/1500 [==============================] - 9s 6ms/step - loss: 0.7416 - accuracy: 0.7529 - val_loss: 0.6719 - val_accuracy: 0.7692\n",
            "Epoch 3/10\n",
            "1500/1500 [==============================] - 9s 6ms/step - loss: 0.6475 - accuracy: 0.7763 - val_loss: 0.6173 - val_accuracy: 0.7859\n",
            "Epoch 4/10\n",
            "1500/1500 [==============================] - 10s 7ms/step - loss: 0.5994 - accuracy: 0.7923 - val_loss: 0.5747 - val_accuracy: 0.7980\n",
            "Epoch 5/10\n",
            "1500/1500 [==============================] - 9s 6ms/step - loss: 0.5663 - accuracy: 0.8043 - val_loss: 0.5550 - val_accuracy: 0.8024\n",
            "Epoch 6/10\n",
            "1500/1500 [==============================] - 9s 6ms/step - loss: 0.5432 - accuracy: 0.8117 - val_loss: 0.5329 - val_accuracy: 0.8134\n",
            "Epoch 7/10\n",
            "1500/1500 [==============================] - 9s 6ms/step - loss: 0.5261 - accuracy: 0.8165 - val_loss: 0.5190 - val_accuracy: 0.8188\n",
            "Epoch 8/10\n",
            "1500/1500 [==============================] - 9s 6ms/step - loss: 0.5124 - accuracy: 0.8215 - val_loss: 0.5067 - val_accuracy: 0.8203\n",
            "Epoch 9/10\n",
            "1500/1500 [==============================] - 9s 6ms/step - loss: 0.5014 - accuracy: 0.8274 - val_loss: 0.4982 - val_accuracy: 0.8249\n",
            "Epoch 10/10\n",
            "1500/1500 [==============================] - 9s 6ms/step - loss: 0.4921 - accuracy: 0.8291 - val_loss: 0.4926 - val_accuracy: 0.8248\n"
          ],
          "name": "stdout"
        },
        {
          "output_type": "execute_result",
          "data": {
            "text/plain": [
              "<tensorflow.python.keras.callbacks.History at 0x7fe84bbc37b8>"
            ]
          },
          "metadata": {
            "tags": []
          },
          "execution_count": 20
        }
      ]
    },
    {
      "cell_type": "code",
      "metadata": {
        "id": "A-OeFnkZ5i-Y",
        "outputId": "dbb726a8-4632-489e-8aeb-9a018ddba42e",
        "colab": {
          "base_uri": "https://localhost:8080/",
          "height": 404
        }
      },
      "source": [
        "import keras\n",
        "from keras.datasets import fashion_mnist\n",
        "from keras.models import Sequential, Input, Model\n",
        "from keras.layers import Dense, Dropout, Activation, Flatten, ELU\n",
        "from keras.utils import to_categorical\n",
        "\n",
        "(X_train, y_train), (X_test, y_test) = fashion_mnist.load_data()\n",
        "\n",
        "X_train = X_train.reshape(60000, 28*28)\n",
        "X_test = X_test.reshape(10000, 28*28)\n",
        "\n",
        "X_train = X_train.astype('float32')\n",
        "X_test = X_test.astype('float32')\n",
        "\n",
        "#preprocess\n",
        "X_train /=  255.0\n",
        "X_test /= 255.0\n",
        "\n",
        "y_train = to_categorical(y_train, 10)\n",
        "y_test = to_categorical(y_test, 10)\n",
        "\n",
        "#model build\n",
        "\n",
        "model = Sequential()\n",
        "model.add(Dense(1024, input_dim=784, activation=\"sigmoid\"))\n",
        "model.add(Dense(10, activation=\"softmax\"))\n",
        "\n",
        "\n",
        "\n",
        "\n",
        "\n",
        "\n",
        "x_inputs = Input(shape=(784,))\n",
        "\n",
        "x = Dense(units=1024)(x_inputs)\n",
        "x = Activation('relu') (x)\n",
        "x = Dense(units=10)(x)\n",
        "x = Activation('softmax')(x)\n",
        "\n",
        "\n",
        "model1 = Model(inputs=x_inputs, outputs=x)\n",
        "\n",
        "\n",
        "\n",
        "\n",
        "#compile\n",
        "\n",
        "model.compile(optimizer='sgd', loss='categorical_crossentropy', metrics=['accuracy'])\n",
        "\n",
        "model1.compile(optimizer='sgd', loss='categorical_crossentropy', metrics=['accuracy'])\n",
        "\n",
        "#train\n",
        "\n",
        "model.fit(X_train, y_train, epochs=10, validation_split=0.2, verbose=1)\n",
        "\n",
        "model1.fit(X_train, y_train, epochs=1, validation_split=0.2, verbose=1)"
      ],
      "execution_count": 21,
      "outputs": [
        {
          "output_type": "stream",
          "text": [
            "Epoch 1/10\n",
            "1500/1500 [==============================] - 9s 6ms/step - loss: 1.1884 - accuracy: 0.6571 - val_loss: 0.8128 - val_accuracy: 0.7337\n",
            "Epoch 2/10\n",
            "1500/1500 [==============================] - 9s 6ms/step - loss: 0.7408 - accuracy: 0.7528 - val_loss: 0.6778 - val_accuracy: 0.7652\n",
            "Epoch 3/10\n",
            "1500/1500 [==============================] - 9s 6ms/step - loss: 0.6485 - accuracy: 0.7770 - val_loss: 0.6228 - val_accuracy: 0.7795\n",
            "Epoch 4/10\n",
            "1500/1500 [==============================] - 9s 6ms/step - loss: 0.6006 - accuracy: 0.7904 - val_loss: 0.5764 - val_accuracy: 0.7976\n",
            "Epoch 5/10\n",
            "1500/1500 [==============================] - 9s 6ms/step - loss: 0.5678 - accuracy: 0.8035 - val_loss: 0.5563 - val_accuracy: 0.8029\n",
            "Epoch 6/10\n",
            "1500/1500 [==============================] - 9s 6ms/step - loss: 0.5447 - accuracy: 0.8095 - val_loss: 0.5348 - val_accuracy: 0.8104\n",
            "Epoch 7/10\n",
            "1500/1500 [==============================] - 9s 6ms/step - loss: 0.5277 - accuracy: 0.8149 - val_loss: 0.5230 - val_accuracy: 0.8137\n",
            "Epoch 8/10\n",
            "1500/1500 [==============================] - 9s 6ms/step - loss: 0.5139 - accuracy: 0.8194 - val_loss: 0.5092 - val_accuracy: 0.8194\n",
            "Epoch 9/10\n",
            "1500/1500 [==============================] - 9s 6ms/step - loss: 0.5028 - accuracy: 0.8245 - val_loss: 0.4998 - val_accuracy: 0.8218\n",
            "Epoch 10/10\n",
            "1500/1500 [==============================] - 9s 6ms/step - loss: 0.4937 - accuracy: 0.8279 - val_loss: 0.4935 - val_accuracy: 0.8220\n",
            "1500/1500 [==============================] - 9s 6ms/step - loss: 0.7278 - accuracy: 0.7687 - val_loss: 0.5406 - val_accuracy: 0.8202\n"
          ],
          "name": "stdout"
        },
        {
          "output_type": "execute_result",
          "data": {
            "text/plain": [
              "<tensorflow.python.keras.callbacks.History at 0x7fe84998dfd0>"
            ]
          },
          "metadata": {
            "tags": []
          },
          "execution_count": 21
        }
      ]
    },
    {
      "cell_type": "code",
      "metadata": {
        "id": "aGKV9-rC9Z9L",
        "outputId": "57c93b60-a395-4b73-d99d-cee11d0bb571",
        "colab": {
          "base_uri": "https://localhost:8080/",
          "height": 228
        }
      },
      "source": [
        "model.summary()"
      ],
      "execution_count": 22,
      "outputs": [
        {
          "output_type": "stream",
          "text": [
            "Model: \"sequential_14\"\n",
            "_________________________________________________________________\n",
            "Layer (type)                 Output Shape              Param #   \n",
            "=================================================================\n",
            "dense_28 (Dense)             (None, 1024)              803840    \n",
            "_________________________________________________________________\n",
            "dense_29 (Dense)             (None, 10)                10250     \n",
            "=================================================================\n",
            "Total params: 814,090\n",
            "Trainable params: 814,090\n",
            "Non-trainable params: 0\n",
            "_________________________________________________________________\n"
          ],
          "name": "stdout"
        }
      ]
    },
    {
      "cell_type": "code",
      "metadata": {
        "id": "0aUkkGnv9cVA",
        "outputId": "7863a185-d1da-494b-a64d-30d46723dddd",
        "colab": {
          "base_uri": "https://localhost:8080/",
          "height": 333
        }
      },
      "source": [
        "model1.summary()"
      ],
      "execution_count": 23,
      "outputs": [
        {
          "output_type": "stream",
          "text": [
            "Model: \"functional_1\"\n",
            "_________________________________________________________________\n",
            "Layer (type)                 Output Shape              Param #   \n",
            "=================================================================\n",
            "input_1 (InputLayer)         [(None, 784)]             0         \n",
            "_________________________________________________________________\n",
            "dense_30 (Dense)             (None, 1024)              803840    \n",
            "_________________________________________________________________\n",
            "activation (Activation)      (None, 1024)              0         \n",
            "_________________________________________________________________\n",
            "dense_31 (Dense)             (None, 10)                10250     \n",
            "_________________________________________________________________\n",
            "activation_1 (Activation)    (None, 10)                0         \n",
            "=================================================================\n",
            "Total params: 814,090\n",
            "Trainable params: 814,090\n",
            "Non-trainable params: 0\n",
            "_________________________________________________________________\n"
          ],
          "name": "stdout"
        }
      ]
    },
    {
      "cell_type": "code",
      "metadata": {
        "id": "UfSuGVEn9d4m",
        "outputId": "c38522fe-cf09-442d-a21c-34e047b19967",
        "colab": {
          "base_uri": "https://localhost:8080/",
          "height": 406
        }
      },
      "source": [
        "import keras\n",
        "from keras.datasets import fashion_mnist\n",
        "from keras.models import Sequential, Input, Model\n",
        "from keras.layers import Dense, Dropout, Activation, Flatten, ELU\n",
        "from keras.utils import to_categorical\n",
        "\n",
        "(X_train, y_train), (X_test, y_test) = fashion_mnist.load_data()\n",
        "\n",
        "X_train = X_train.reshape(60000, 28*28)\n",
        "X_test = X_test.reshape(10000, 28*28)\n",
        "\n",
        "X_train = X_train.astype('float32')\n",
        "X_test = X_test.astype('float32')\n",
        "\n",
        "#preprocess\n",
        "X_train /=  255.0\n",
        "X_test /= 255.0\n",
        "\n",
        "y_train = to_categorical(y_train, 10)\n",
        "y_test = to_categorical(y_test, 10)\n",
        "\n",
        "#model build\n",
        "\n",
        "model = Sequential()\n",
        "model.add(Dense(1024, input_dim=784, activation=\"sigmoid\"))\n",
        "model.add(Dense(10, activation=\"softmax\"))\n",
        "\n",
        "\n",
        "\n",
        "\n",
        "#compile\n",
        "\n",
        "model.compile(optimizer='sgd', loss='categorical_crossentropy', metrics=['accuracy','mae','mse'])\n",
        "\n",
        "#train\n",
        "\n",
        "model.fit(X_train, y_train, epochs=10, validation_split=0.2, verbose=1)\n",
        "\n"
      ],
      "execution_count": 24,
      "outputs": [
        {
          "output_type": "stream",
          "text": [
            "Epoch 1/10\n",
            "1500/1500 [==============================] - 9s 6ms/step - loss: 1.1873 - accuracy: 0.6569 - mae: 0.1251 - mse: 0.0540 - val_loss: 0.8162 - val_accuracy: 0.7427 - val_mae: 0.0959 - val_mse: 0.0394\n",
            "Epoch 2/10\n",
            "1500/1500 [==============================] - 9s 6ms/step - loss: 0.7411 - accuracy: 0.7515 - mae: 0.0853 - mse: 0.0361 - val_loss: 0.6735 - val_accuracy: 0.7627 - val_mae: 0.0771 - val_mse: 0.0335\n",
            "Epoch 3/10\n",
            "1500/1500 [==============================] - 9s 6ms/step - loss: 0.6495 - accuracy: 0.7754 - mae: 0.0740 - mse: 0.0323 - val_loss: 0.6136 - val_accuracy: 0.7861 - val_mae: 0.0703 - val_mse: 0.0307\n",
            "Epoch 4/10\n",
            "1500/1500 [==============================] - 9s 6ms/step - loss: 0.6014 - accuracy: 0.7913 - mae: 0.0680 - mse: 0.0301 - val_loss: 0.5774 - val_accuracy: 0.7962 - val_mae: 0.0650 - val_mse: 0.0290\n",
            "Epoch 5/10\n",
            "1500/1500 [==============================] - 9s 6ms/step - loss: 0.5684 - accuracy: 0.8012 - mae: 0.0640 - mse: 0.0285 - val_loss: 0.5518 - val_accuracy: 0.8055 - val_mae: 0.0629 - val_mse: 0.0278\n",
            "Epoch 6/10\n",
            "1500/1500 [==============================] - 9s 6ms/step - loss: 0.5452 - accuracy: 0.8112 - mae: 0.0611 - mse: 0.0274 - val_loss: 0.5303 - val_accuracy: 0.8117 - val_mae: 0.0595 - val_mse: 0.0269\n",
            "Epoch 7/10\n",
            "1500/1500 [==============================] - 9s 6ms/step - loss: 0.5283 - accuracy: 0.8155 - mae: 0.0589 - mse: 0.0266 - val_loss: 0.5180 - val_accuracy: 0.8155 - val_mae: 0.0583 - val_mse: 0.0262\n",
            "Epoch 8/10\n",
            "1500/1500 [==============================] - 9s 6ms/step - loss: 0.5138 - accuracy: 0.8220 - mae: 0.0570 - mse: 0.0258 - val_loss: 0.5068 - val_accuracy: 0.8202 - val_mae: 0.0561 - val_mse: 0.0257\n",
            "Epoch 9/10\n",
            "1500/1500 [==============================] - 9s 6ms/step - loss: 0.5028 - accuracy: 0.8247 - mae: 0.0555 - mse: 0.0253 - val_loss: 0.4991 - val_accuracy: 0.8225 - val_mae: 0.0550 - val_mse: 0.0253\n",
            "Epoch 10/10\n",
            "1500/1500 [==============================] - 9s 6ms/step - loss: 0.4932 - accuracy: 0.8294 - mae: 0.0542 - mse: 0.0248 - val_loss: 0.4907 - val_accuracy: 0.8273 - val_mae: 0.0538 - val_mse: 0.0249\n"
          ],
          "name": "stdout"
        },
        {
          "output_type": "execute_result",
          "data": {
            "text/plain": [
              "<tensorflow.python.keras.callbacks.History at 0x7fe8488b8828>"
            ]
          },
          "metadata": {
            "tags": []
          },
          "execution_count": 24
        }
      ]
    },
    {
      "cell_type": "code",
      "metadata": {
        "id": "-YGCEMHY-ng1",
        "outputId": "a9d2a0a8-8ae7-4768-cf05-76a750330702",
        "colab": {
          "base_uri": "https://localhost:8080/",
          "height": 406
        }
      },
      "source": [
        "import keras\n",
        "from keras.datasets import fashion_mnist\n",
        "from keras.models import Sequential, Input, Model\n",
        "from keras.layers import Dense, Dropout, Activation, Flatten, ELU\n",
        "from keras.utils import to_categorical\n",
        "\n",
        "(X_train, y_train), (X_test, y_test) = fashion_mnist.load_data()\n",
        "\n",
        "X_train = X_train.reshape(60000, 28*28)\n",
        "X_test = X_test.reshape(10000, 28*28)\n",
        "\n",
        "X_train = X_train.astype('float32')\n",
        "X_test = X_test.astype('float32')\n",
        "\n",
        "#preprocess\n",
        "X_train /=  255.0\n",
        "X_test /= 255.0\n",
        "\n",
        "y_train = to_categorical(y_train, 10)\n",
        "y_test = to_categorical(y_test, 10)\n",
        "\n",
        "#model build\n",
        "\n",
        "model = Sequential()\n",
        "model.add(Dense(1024, input_dim=784, activation=\"sigmoid\"))\n",
        "model.add(Dense(10, activation=\"softmax\"))\n",
        "\n",
        "\n",
        "\n",
        "\n",
        "#compile\n",
        "\n",
        "model.compile(optimizer='sgd', loss='categorical_crossentropy', metrics=[\"binary_accuracy\"])\n",
        "\n",
        "#train\n",
        "\n",
        "model.fit(X_train, y_train, epochs=10, validation_split=0.2, verbose=1)\n",
        "\n"
      ],
      "execution_count": 25,
      "outputs": [
        {
          "output_type": "stream",
          "text": [
            "Epoch 1/10\n",
            "1500/1500 [==============================] - 9s 6ms/step - loss: 1.1923 - binary_accuracy: 0.9258 - val_loss: 0.8146 - val_binary_accuracy: 0.9470\n",
            "Epoch 2/10\n",
            "1500/1500 [==============================] - 9s 6ms/step - loss: 0.7413 - binary_accuracy: 0.9509 - val_loss: 0.6733 - val_binary_accuracy: 0.9546\n",
            "Epoch 3/10\n",
            "1500/1500 [==============================] - 9s 6ms/step - loss: 0.6489 - binary_accuracy: 0.9558 - val_loss: 0.6211 - val_binary_accuracy: 0.9577\n",
            "Epoch 4/10\n",
            "1500/1500 [==============================] - 9s 6ms/step - loss: 0.6002 - binary_accuracy: 0.9592 - val_loss: 0.5801 - val_binary_accuracy: 0.9602\n",
            "Epoch 5/10\n",
            "1500/1500 [==============================] - 9s 6ms/step - loss: 0.5684 - binary_accuracy: 0.9615 - val_loss: 0.5507 - val_binary_accuracy: 0.9622\n",
            "Epoch 6/10\n",
            "1500/1500 [==============================] - 9s 6ms/step - loss: 0.5450 - binary_accuracy: 0.9629 - val_loss: 0.5347 - val_binary_accuracy: 0.9633\n",
            "Epoch 7/10\n",
            "1500/1500 [==============================] - 9s 6ms/step - loss: 0.5273 - binary_accuracy: 0.9643 - val_loss: 0.5181 - val_binary_accuracy: 0.9642\n",
            "Epoch 8/10\n",
            "1500/1500 [==============================] - 9s 6ms/step - loss: 0.5132 - binary_accuracy: 0.9653 - val_loss: 0.5095 - val_binary_accuracy: 0.9648\n",
            "Epoch 9/10\n",
            "1500/1500 [==============================] - 9s 6ms/step - loss: 0.5027 - binary_accuracy: 0.9659 - val_loss: 0.5041 - val_binary_accuracy: 0.9651\n",
            "Epoch 10/10\n",
            "1500/1500 [==============================] - 9s 6ms/step - loss: 0.4929 - binary_accuracy: 0.9666 - val_loss: 0.4916 - val_binary_accuracy: 0.9659\n"
          ],
          "name": "stdout"
        },
        {
          "output_type": "execute_result",
          "data": {
            "text/plain": [
              "<tensorflow.python.keras.callbacks.History at 0x7fe8476d17b8>"
            ]
          },
          "metadata": {
            "tags": []
          },
          "execution_count": 25
        }
      ]
    },
    {
      "cell_type": "code",
      "metadata": {
        "id": "ayHFNzAt_O_r",
        "outputId": "4ce5ea89-cf28-4ec5-b358-2984fdf455c5",
        "colab": {
          "base_uri": "https://localhost:8080/",
          "height": 160
        }
      },
      "source": [
        "import keras\n",
        "from keras.datasets import fashion_mnist\n",
        "from keras.models import Sequential, Input, Model\n",
        "from keras.layers import Dense, Dropout, Activation, Flatten, ELU\n",
        "from keras.utils import to_categorical\n",
        "\n",
        "(X_train, y_train), (X_test, y_test) = fashion_mnist.load_data()\n",
        "\n",
        "X_train = X_train.reshape(60000, 28*28)\n",
        "X_test = X_test.reshape(10000, 28*28)\n",
        "\n",
        "X_train = X_train.astype('float32')\n",
        "X_test = X_test.astype('float32')\n",
        "\n",
        "#preprocess\n",
        "X_train /=  255.0\n",
        "X_test /= 255.0\n",
        "\n",
        "y_train = to_categorical(y_train, 10)\n",
        "y_test = to_categorical(y_test, 10)\n",
        "\n",
        "#model build\n",
        "\n",
        "model = Sequential()\n",
        "model.add(Dense(1024, input_dim=784, activation=\"sigmoid\"))\n",
        "model.add(Dense(10, activation=\"softmax\"))\n",
        "\n",
        "\n",
        "\n",
        "\n",
        "#compile\n",
        "\n",
        "model.compile(optimizer='sgd', loss='categorical_crossentropy', metrics=[\"categorical_accuracy\"])\n",
        "\n",
        "#train\n",
        "\n",
        "model.fit(X_train, y_train, epochs=3, validation_split=0.2, verbose=1)\n",
        "\n"
      ],
      "execution_count": 26,
      "outputs": [
        {
          "output_type": "stream",
          "text": [
            "Epoch 1/3\n",
            "1500/1500 [==============================] - 9s 6ms/step - loss: 1.1898 - categorical_accuracy: 0.6540 - val_loss: 0.8213 - val_categorical_accuracy: 0.7383\n",
            "Epoch 2/3\n",
            "1500/1500 [==============================] - 9s 6ms/step - loss: 0.7407 - categorical_accuracy: 0.7533 - val_loss: 0.6793 - val_categorical_accuracy: 0.7643\n",
            "Epoch 3/3\n",
            "1500/1500 [==============================] - 8s 6ms/step - loss: 0.6485 - categorical_accuracy: 0.7744 - val_loss: 0.6138 - val_categorical_accuracy: 0.7835\n"
          ],
          "name": "stdout"
        },
        {
          "output_type": "execute_result",
          "data": {
            "text/plain": [
              "<tensorflow.python.keras.callbacks.History at 0x7fe847f49f60>"
            ]
          },
          "metadata": {
            "tags": []
          },
          "execution_count": 26
        }
      ]
    },
    {
      "cell_type": "code",
      "metadata": {
        "id": "MZQip6mK_YEU",
        "outputId": "ae242bb9-26e3-4907-cb7f-14bf055e6047",
        "colab": {
          "base_uri": "https://localhost:8080/",
          "height": 406
        }
      },
      "source": [
        "import keras\n",
        "from keras.datasets import fashion_mnist\n",
        "from keras.models import Sequential, Input, Model\n",
        "from keras.layers import Dense, Dropout, Activation, Flatten, ELU\n",
        "from keras.utils import to_categorical\n",
        "\n",
        "(X_train, y_train), (X_test, y_test) = fashion_mnist.load_data()\n",
        "\n",
        "X_train = X_train.reshape(60000, 28*28)\n",
        "X_test = X_test.reshape(10000, 28*28)\n",
        "\n",
        "X_train = X_train.astype('float32')\n",
        "X_test = X_test.astype('float32')\n",
        "\n",
        "#preprocess\n",
        "X_train /=  255.0\n",
        "X_test /= 255.0\n",
        "\n",
        "y_train = to_categorical(y_train, 10)\n",
        "y_test = to_categorical(y_test, 10)\n",
        "\n",
        "#model build\n",
        "\n",
        "model = Sequential()\n",
        "model.add(Dense(1024, input_dim=784, activation=\"sigmoid\"))\n",
        "model.add(Dense(10, activation=\"softmax\"))\n",
        "\n",
        "\n",
        "\n",
        "\n",
        "#compile\n",
        "\n",
        "model.compile(optimizer='sgd', loss='categorical_crossentropy', metrics=[\"top_k_categorical_accuracy\"])\n",
        "\n",
        "#train\n",
        "\n",
        "model.fit(X_train, y_train, epochs=10, validation_split=0.2, verbose=1)\n",
        "\n"
      ],
      "execution_count": 27,
      "outputs": [
        {
          "output_type": "stream",
          "text": [
            "Epoch 1/10\n",
            "1500/1500 [==============================] - 8s 6ms/step - loss: 1.1907 - top_k_categorical_accuracy: 0.9654 - val_loss: 0.8192 - val_top_k_categorical_accuracy: 0.9923\n",
            "Epoch 2/10\n",
            "1500/1500 [==============================] - 8s 6ms/step - loss: 0.7417 - top_k_categorical_accuracy: 0.9919 - val_loss: 0.6747 - val_top_k_categorical_accuracy: 0.9936\n",
            "Epoch 3/10\n",
            "1500/1500 [==============================] - 9s 6ms/step - loss: 0.6493 - top_k_categorical_accuracy: 0.9929 - val_loss: 0.6207 - val_top_k_categorical_accuracy: 0.9950\n",
            "Epoch 4/10\n",
            "1500/1500 [==============================] - 9s 6ms/step - loss: 0.6004 - top_k_categorical_accuracy: 0.9941 - val_loss: 0.5761 - val_top_k_categorical_accuracy: 0.9956\n",
            "Epoch 5/10\n",
            "1500/1500 [==============================] - 9s 6ms/step - loss: 0.5678 - top_k_categorical_accuracy: 0.9945 - val_loss: 0.5484 - val_top_k_categorical_accuracy: 0.9958\n",
            "Epoch 6/10\n",
            "1500/1500 [==============================] - 9s 6ms/step - loss: 0.5446 - top_k_categorical_accuracy: 0.9948 - val_loss: 0.5348 - val_top_k_categorical_accuracy: 0.9960\n",
            "Epoch 7/10\n",
            "1500/1500 [==============================] - 9s 6ms/step - loss: 0.5274 - top_k_categorical_accuracy: 0.9948 - val_loss: 0.5224 - val_top_k_categorical_accuracy: 0.9962\n",
            "Epoch 8/10\n",
            "1500/1500 [==============================] - 9s 6ms/step - loss: 0.5133 - top_k_categorical_accuracy: 0.9949 - val_loss: 0.5048 - val_top_k_categorical_accuracy: 0.9958\n",
            "Epoch 9/10\n",
            "1500/1500 [==============================] - 9s 6ms/step - loss: 0.5024 - top_k_categorical_accuracy: 0.9951 - val_loss: 0.4963 - val_top_k_categorical_accuracy: 0.9957\n",
            "Epoch 10/10\n",
            "1500/1500 [==============================] - 9s 6ms/step - loss: 0.4927 - top_k_categorical_accuracy: 0.9952 - val_loss: 0.4912 - val_top_k_categorical_accuracy: 0.9955\n"
          ],
          "name": "stdout"
        },
        {
          "output_type": "execute_result",
          "data": {
            "text/plain": [
              "<tensorflow.python.keras.callbacks.History at 0x7fe847f27c50>"
            ]
          },
          "metadata": {
            "tags": []
          },
          "execution_count": 27
        }
      ]
    },
    {
      "cell_type": "code",
      "metadata": {
        "id": "jfSniYZb_v9M",
        "outputId": "96372b50-1900-467e-a89e-a7c147829f8d",
        "colab": {
          "base_uri": "https://localhost:8080/",
          "height": 406
        }
      },
      "source": [
        "import keras\n",
        "from keras.datasets import fashion_mnist\n",
        "from keras.models import Sequential, Input, Model\n",
        "from keras.layers import Dense, Dropout, Activation, Flatten, ELU\n",
        "from keras.utils import to_categorical\n",
        "\n",
        "(X_train, y_train), (X_test, y_test) = fashion_mnist.load_data()\n",
        "\n",
        "X_train = X_train.reshape(60000, 28*28)\n",
        "X_test = X_test.reshape(10000, 28*28)\n",
        "\n",
        "X_train = X_train.astype('float32')\n",
        "X_test = X_test.astype('float32')\n",
        "\n",
        "#preprocess\n",
        "X_train /=  255.0\n",
        "X_test /= 255.0\n",
        "\n",
        "y_train = to_categorical(y_train, 10)\n",
        "y_test = to_categorical(y_test, 10)\n",
        "\n",
        "#model build\n",
        "\n",
        "model = Sequential()\n",
        "model.add(Dense(1024, input_dim=784, activation=\"sigmoid\"))\n",
        "model.add(Dense(10, activation=\"softmax\"))\n",
        "\n",
        "\n",
        "\n",
        "\n",
        "#compile\n",
        "\n",
        "model.compile(optimizer='sgd', loss='categorical_crossentropy', metrics=[\"cosine_proximity\"])\n",
        "\n",
        "#train\n",
        "\n",
        "model.fit(X_train, y_train, epochs=10, validation_split=0.2, verbose=1)\n",
        "\n"
      ],
      "execution_count": 31,
      "outputs": [
        {
          "output_type": "stream",
          "text": [
            "Epoch 1/10\n",
            "1500/1500 [==============================] - 10s 6ms/step - loss: 1.1875 - cosine_proximity: 0.6743 - val_loss: 0.8126 - val_cosine_proximity: 0.7743\n",
            "Epoch 2/10\n",
            "1500/1500 [==============================] - 9s 6ms/step - loss: 0.7414 - cosine_proximity: 0.7891 - val_loss: 0.6793 - val_cosine_proximity: 0.8042\n",
            "Epoch 3/10\n",
            "1500/1500 [==============================] - 8s 6ms/step - loss: 0.6502 - cosine_proximity: 0.8113 - val_loss: 0.6134 - val_cosine_proximity: 0.8204\n",
            "Epoch 4/10\n",
            "1500/1500 [==============================] - 9s 6ms/step - loss: 0.6012 - cosine_proximity: 0.8246 - val_loss: 0.5789 - val_cosine_proximity: 0.8303\n",
            "Epoch 5/10\n",
            "1500/1500 [==============================] - 9s 6ms/step - loss: 0.5690 - cosine_proximity: 0.8339 - val_loss: 0.5560 - val_cosine_proximity: 0.8350\n",
            "Epoch 6/10\n",
            "1500/1500 [==============================] - 8s 6ms/step - loss: 0.5464 - cosine_proximity: 0.8403 - val_loss: 0.5456 - val_cosine_proximity: 0.8374\n",
            "Epoch 7/10\n",
            "1500/1500 [==============================] - 9s 6ms/step - loss: 0.5284 - cosine_proximity: 0.8456 - val_loss: 0.5290 - val_cosine_proximity: 0.8434\n",
            "Epoch 8/10\n",
            "1500/1500 [==============================] - 9s 6ms/step - loss: 0.5144 - cosine_proximity: 0.8497 - val_loss: 0.5095 - val_cosine_proximity: 0.8489\n",
            "Epoch 9/10\n",
            "1500/1500 [==============================] - 9s 6ms/step - loss: 0.5036 - cosine_proximity: 0.8530 - val_loss: 0.5036 - val_cosine_proximity: 0.8510\n",
            "Epoch 10/10\n",
            "1500/1500 [==============================] - 9s 6ms/step - loss: 0.4942 - cosine_proximity: 0.8554 - val_loss: 0.4889 - val_cosine_proximity: 0.8556\n"
          ],
          "name": "stdout"
        },
        {
          "output_type": "execute_result",
          "data": {
            "text/plain": [
              "<tensorflow.python.keras.callbacks.History at 0x7fe842dbd748>"
            ]
          },
          "metadata": {
            "tags": []
          },
          "execution_count": 31
        }
      ]
    },
    {
      "cell_type": "markdown",
      "metadata": {
        "id": "GPNpdJG1CQjV"
      },
      "source": [
        "#Loss"
      ]
    },
    {
      "cell_type": "code",
      "metadata": {
        "id": "A3sD4PWGCP2j",
        "outputId": "1020f2b7-57b8-4a81-f006-cd009d93995f",
        "colab": {
          "base_uri": "https://localhost:8080/",
          "height": 406
        }
      },
      "source": [
        "import keras\n",
        "from keras.datasets import fashion_mnist\n",
        "from keras.models import Sequential, Input, Model\n",
        "from keras.layers import Dense, Dropout, Activation, Flatten, ELU\n",
        "from keras.utils import to_categorical\n",
        "\n",
        "(X_train, y_train), (X_test, y_test) = fashion_mnist.load_data()\n",
        "\n",
        "X_train = X_train.reshape(60000, 28*28)\n",
        "X_test = X_test.reshape(10000, 28*28)\n",
        "\n",
        "X_train = X_train.astype('float32')\n",
        "X_test = X_test.astype('float32')\n",
        "\n",
        "#preprocess\n",
        "X_train /=  255.0\n",
        "X_test /= 255.0\n",
        "\n",
        "y_train = to_categorical(y_train, 10)\n",
        "y_test = to_categorical(y_test, 10)\n",
        "\n",
        "#model build\n",
        "\n",
        "model = Sequential()\n",
        "model.add(Dense(1024, input_dim=784, activation=\"sigmoid\"))\n",
        "model.add(Dense(10, activation=\"softmax\"))\n",
        "\n",
        "#compile\n",
        "model.compile(optimizer='sgd', loss='categorical_crossentropy', metrics=[\"accuracy\"])\n",
        "\n",
        "#train\n",
        "model.fit(X_train, y_train, epochs=10, validation_split=0.2, verbose=1)\n",
        "\n"
      ],
      "execution_count": 32,
      "outputs": [
        {
          "output_type": "stream",
          "text": [
            "Epoch 1/10\n",
            "1500/1500 [==============================] - 9s 6ms/step - loss: 1.2019 - accuracy: 0.6514 - val_loss: 0.8131 - val_accuracy: 0.7333\n",
            "Epoch 2/10\n",
            "1500/1500 [==============================] - 9s 6ms/step - loss: 0.7427 - accuracy: 0.7513 - val_loss: 0.6737 - val_accuracy: 0.7684\n",
            "Epoch 3/10\n",
            "1500/1500 [==============================] - 9s 6ms/step - loss: 0.6513 - accuracy: 0.7750 - val_loss: 0.6176 - val_accuracy: 0.7833\n",
            "Epoch 4/10\n",
            "1500/1500 [==============================] - 9s 6ms/step - loss: 0.6019 - accuracy: 0.7905 - val_loss: 0.5863 - val_accuracy: 0.7922\n",
            "Epoch 5/10\n",
            "1500/1500 [==============================] - 9s 6ms/step - loss: 0.5693 - accuracy: 0.8022 - val_loss: 0.5538 - val_accuracy: 0.8037\n",
            "Epoch 6/10\n",
            "1500/1500 [==============================] - 9s 6ms/step - loss: 0.5463 - accuracy: 0.8101 - val_loss: 0.5398 - val_accuracy: 0.8092\n",
            "Epoch 7/10\n",
            "1500/1500 [==============================] - 9s 6ms/step - loss: 0.5288 - accuracy: 0.8163 - val_loss: 0.5268 - val_accuracy: 0.8128\n",
            "Epoch 8/10\n",
            "1500/1500 [==============================] - 9s 6ms/step - loss: 0.5151 - accuracy: 0.8210 - val_loss: 0.5072 - val_accuracy: 0.8209\n",
            "Epoch 9/10\n",
            "1500/1500 [==============================] - 9s 6ms/step - loss: 0.5037 - accuracy: 0.8244 - val_loss: 0.5097 - val_accuracy: 0.8188\n",
            "Epoch 10/10\n",
            "1500/1500 [==============================] - 8s 6ms/step - loss: 0.4938 - accuracy: 0.8283 - val_loss: 0.4975 - val_accuracy: 0.8210\n"
          ],
          "name": "stdout"
        },
        {
          "output_type": "execute_result",
          "data": {
            "text/plain": [
              "<tensorflow.python.keras.callbacks.History at 0x7fe842c76ba8>"
            ]
          },
          "metadata": {
            "tags": []
          },
          "execution_count": 32
        }
      ]
    },
    {
      "cell_type": "markdown",
      "metadata": {
        "id": "FK_LbKWWEY72"
      },
      "source": [
        "#Callbacks"
      ]
    },
    {
      "cell_type": "code",
      "metadata": {
        "id": "2EWG0TmMEaTL",
        "outputId": "b6f1f82f-4203-430f-a986-c3d294ce14ae",
        "colab": {
          "base_uri": "https://localhost:8080/",
          "height": 758
        }
      },
      "source": [
        "import keras\n",
        "from keras.datasets import fashion_mnist\n",
        "from keras.models import Sequential, Input, Model\n",
        "from keras.layers import Dense, Dropout, Activation, Flatten, ELU\n",
        "from keras.utils import to_categorical\n",
        "from keras.callbacks import ModelCheckpoint, EarlyStopping\n",
        "\n",
        "(X_train, y_train), (X_test, y_test) = fashion_mnist.load_data()\n",
        "\n",
        "X_train = X_train.reshape(60000, 28*28)\n",
        "X_test = X_test.reshape(10000, 28*28)\n",
        "\n",
        "X_train = X_train.astype('float32')\n",
        "X_test = X_test.astype('float32')\n",
        "\n",
        "#preprocess\n",
        "X_train /=  255.0\n",
        "X_test /= 255.0\n",
        "\n",
        "y_train = to_categorical(y_train, 10)\n",
        "y_test = to_categorical(y_test, 10)\n",
        "\n",
        "#model build\n",
        "\n",
        "model = Sequential()\n",
        "model.add(Dense(1024, input_dim=784, activation=\"sigmoid\"))\n",
        "model.add(Dense(10, activation=\"softmax\"))\n",
        "\n",
        "#compile\n",
        "model.compile(optimizer='sgd', loss='categorical_crossentropy', metrics=[\"accuracy\"])\n",
        "\n",
        "\n",
        "#checkpoint\n",
        "filepath=\"weights.{epoch:02d}-{val_loss:.2f}.hdf5\"\n",
        "\n",
        "earlystopping = EarlyStopping(monitor='val_loss', verbose=1, patience=5, mode=\"min\")\n",
        "checkpoint = ModelCheckpoint(filepath, monitor='val_accuracy', verbose=1, save_best_only=True, mode=\"max\")\n",
        "\n",
        "\n",
        "#train\n",
        "model.fit(X_train, y_train, epochs=10, validation_split=0.2, verbose=1, callbacks=[earlystopping, checkpoint])\n",
        "\n"
      ],
      "execution_count": 34,
      "outputs": [
        {
          "output_type": "stream",
          "text": [
            "Epoch 1/10\n",
            "1500/1500 [==============================] - ETA: 0s - loss: 1.1912 - accuracy: 0.6542\n",
            "Epoch 00001: val_accuracy improved from -inf to 0.72925, saving model to weights.01-0.82.hdf5\n",
            "1500/1500 [==============================] - 9s 6ms/step - loss: 1.1912 - accuracy: 0.6542 - val_loss: 0.8203 - val_accuracy: 0.7293\n",
            "Epoch 2/10\n",
            "1494/1500 [============================>.] - ETA: 0s - loss: 0.7396 - accuracy: 0.7537\n",
            "Epoch 00002: val_accuracy improved from 0.72925 to 0.76783, saving model to weights.02-0.67.hdf5\n",
            "1500/1500 [==============================] - 9s 6ms/step - loss: 0.7395 - accuracy: 0.7538 - val_loss: 0.6717 - val_accuracy: 0.7678\n",
            "Epoch 3/10\n",
            "1498/1500 [============================>.] - ETA: 0s - loss: 0.6473 - accuracy: 0.7766\n",
            "Epoch 00003: val_accuracy improved from 0.76783 to 0.78900, saving model to weights.03-0.61.hdf5\n",
            "1500/1500 [==============================] - 9s 6ms/step - loss: 0.6474 - accuracy: 0.7765 - val_loss: 0.6132 - val_accuracy: 0.7890\n",
            "Epoch 4/10\n",
            "1493/1500 [============================>.] - ETA: 0s - loss: 0.5995 - accuracy: 0.7920\n",
            "Epoch 00004: val_accuracy improved from 0.78900 to 0.78925, saving model to weights.04-0.59.hdf5\n",
            "1500/1500 [==============================] - 9s 6ms/step - loss: 0.5993 - accuracy: 0.7920 - val_loss: 0.5902 - val_accuracy: 0.7893\n",
            "Epoch 5/10\n",
            "1495/1500 [============================>.] - ETA: 0s - loss: 0.5674 - accuracy: 0.8032\n",
            "Epoch 00005: val_accuracy improved from 0.78925 to 0.80667, saving model to weights.05-0.55.hdf5\n",
            "1500/1500 [==============================] - 9s 6ms/step - loss: 0.5672 - accuracy: 0.8032 - val_loss: 0.5526 - val_accuracy: 0.8067\n",
            "Epoch 6/10\n",
            "1499/1500 [============================>.] - ETA: 0s - loss: 0.5448 - accuracy: 0.8106\n",
            "Epoch 00006: val_accuracy improved from 0.80667 to 0.81025, saving model to weights.06-0.53.hdf5\n",
            "1500/1500 [==============================] - 9s 6ms/step - loss: 0.5447 - accuracy: 0.8106 - val_loss: 0.5344 - val_accuracy: 0.8102\n",
            "Epoch 7/10\n",
            "1497/1500 [============================>.] - ETA: 0s - loss: 0.5277 - accuracy: 0.8160\n",
            "Epoch 00007: val_accuracy improved from 0.81025 to 0.81617, saving model to weights.07-0.52.hdf5\n",
            "1500/1500 [==============================] - 9s 6ms/step - loss: 0.5277 - accuracy: 0.8161 - val_loss: 0.5220 - val_accuracy: 0.8162\n",
            "Epoch 8/10\n",
            "1491/1500 [============================>.] - ETA: 0s - loss: 0.5139 - accuracy: 0.8212\n",
            "Epoch 00008: val_accuracy improved from 0.81617 to 0.82008, saving model to weights.08-0.51.hdf5\n",
            "1500/1500 [==============================] - 9s 6ms/step - loss: 0.5138 - accuracy: 0.8212 - val_loss: 0.5052 - val_accuracy: 0.8201\n",
            "Epoch 9/10\n",
            "1498/1500 [============================>.] - ETA: 0s - loss: 0.5026 - accuracy: 0.8243\n",
            "Epoch 00009: val_accuracy improved from 0.82008 to 0.82275, saving model to weights.09-0.50.hdf5\n",
            "1500/1500 [==============================] - 9s 6ms/step - loss: 0.5025 - accuracy: 0.8243 - val_loss: 0.5009 - val_accuracy: 0.8227\n",
            "Epoch 10/10\n",
            "1497/1500 [============================>.] - ETA: 0s - loss: 0.4937 - accuracy: 0.8289\n",
            "Epoch 00010: val_accuracy improved from 0.82275 to 0.82425, saving model to weights.10-0.49.hdf5\n",
            "1500/1500 [==============================] - 9s 6ms/step - loss: 0.4936 - accuracy: 0.8290 - val_loss: 0.4899 - val_accuracy: 0.8242\n"
          ],
          "name": "stdout"
        },
        {
          "output_type": "execute_result",
          "data": {
            "text/plain": [
              "<tensorflow.python.keras.callbacks.History at 0x7fe842da96d8>"
            ]
          },
          "metadata": {
            "tags": []
          },
          "execution_count": 34
        }
      ]
    },
    {
      "cell_type": "markdown",
      "metadata": {
        "id": "A16p-x0hLGNO"
      },
      "source": [
        "#Load check pointed model"
      ]
    },
    {
      "cell_type": "code",
      "metadata": {
        "id": "YZPuEfmrK__t",
        "outputId": "3e4aeb24-1c00-450e-a1df-16e426718074",
        "colab": {
          "base_uri": "https://localhost:8080/",
          "height": 69
        }
      },
      "source": [
        "model_new = Sequential()\n",
        "model_new.add(Dense(1024, input_dim=784, activation=\"sigmoid\"))\n",
        "model_new.add(Dense(10, activation=\"softmax\"))\n",
        "\n",
        "model_new.load_weights(\"weights.10-0.49.hdf5\")\n",
        "\n",
        "model_new.compile(optimizer='sgd', loss='categorical_crossentropy', metrics=[\"accuracy\"])\n",
        "\n",
        "scores = model_new.evaluate(X_test, y_test, verbose=1)\n",
        "\n",
        "print(model_new.metrics_names)\n",
        "print(scores)"
      ],
      "execution_count": 36,
      "outputs": [
        {
          "output_type": "stream",
          "text": [
            "313/313 [==============================] - 1s 3ms/step - loss: 0.5139 - accuracy: 0.8154\n",
            "['loss', 'accuracy']\n",
            "[0.5138605237007141, 0.8154000043869019]\n"
          ],
          "name": "stdout"
        }
      ]
    },
    {
      "cell_type": "code",
      "metadata": {
        "id": "cOkCVZQAMmvq"
      },
      "source": [
        "from keras.models import load_model\n",
        "import numpy as np\n",
        "\n",
        "\n",
        "model_2 = load_model(\"weights.10-0.49.hdf5\")\n",
        "\n",
        "predictions = []\n",
        "\n",
        "X_test.shape\n",
        "\n",
        "for i in range(len(X_test)):\n",
        "    image = X_test[i].reshape((1, 784)).astype('float32')\n",
        "    pred = model_2.predict(image)\n",
        "    i = np.argmax(pred)\n",
        "    predictions.append(i)\n",
        "\n",
        "\n",
        "y_test1 = np.argmax(y_test, axis=1)\n",
        "\n",
        "from sklearn.metrics import accuracy_score\n",
        "print(accuracy_score(y_test1, predictions))"
      ],
      "execution_count": null,
      "outputs": []
    }
  ]
}