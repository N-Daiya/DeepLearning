{
  "nbformat": 4,
  "nbformat_minor": 0,
  "metadata": {
    "colab": {
      "name": "Tic Tac Toe using gym environment-NiveditaDaiya.ipynb",
      "provenance": [],
      "authorship_tag": "ABX9TyPVhmU9SxIwv5yHGD9/dggC",
      "include_colab_link": true
    },
    "kernelspec": {
      "name": "python3",
      "display_name": "Python 3"
    }
  },
  "cells": [
    {
      "cell_type": "markdown",
      "metadata": {
        "id": "view-in-github",
        "colab_type": "text"
      },
      "source": [
        "<a href=\"https://colab.research.google.com/github/N-Daiya/DeepLearning/blob/master/Tic_Tac_Toe_using_gym_environment_NiveditaDaiya.ipynb\" target=\"_parent\"><img src=\"https://colab.research.google.com/assets/colab-badge.svg\" alt=\"Open In Colab\"/></a>"
      ]
    },
    {
      "cell_type": "code",
      "metadata": {
        "id": "B90642EKHttw",
        "colab_type": "code",
        "colab": {
          "base_uri": "https://localhost:8080/",
          "height": 143
        },
        "outputId": "68cf6a77-ea58-439c-bea7-b0667df1173a"
      },
      "source": [
        "pip install gym"
      ],
      "execution_count": null,
      "outputs": [
        {
          "output_type": "stream",
          "text": [
            "Requirement already satisfied: gym in /usr/local/lib/python3.6/dist-packages (0.17.2)\n",
            "Requirement already satisfied: scipy in /usr/local/lib/python3.6/dist-packages (from gym) (1.4.1)\n",
            "Requirement already satisfied: cloudpickle<1.4.0,>=1.2.0 in /usr/local/lib/python3.6/dist-packages (from gym) (1.3.0)\n",
            "Requirement already satisfied: pyglet<=1.5.0,>=1.4.0 in /usr/local/lib/python3.6/dist-packages (from gym) (1.5.0)\n",
            "Requirement already satisfied: numpy>=1.10.4 in /usr/local/lib/python3.6/dist-packages (from gym) (1.18.5)\n",
            "Requirement already satisfied: future in /usr/local/lib/python3.6/dist-packages (from pyglet<=1.5.0,>=1.4.0->gym) (0.16.0)\n"
          ],
          "name": "stdout"
        }
      ]
    },
    {
      "cell_type": "code",
      "metadata": {
        "id": "mUTf3aONKBAA",
        "colab_type": "code",
        "colab": {
          "base_uri": "https://localhost:8080/",
          "height": 299
        },
        "outputId": "d0432dd8-7dff-407f-cfe7-e827af31fbbd"
      },
      "source": [
        "pip install gym-tictactoe"
      ],
      "execution_count": null,
      "outputs": [
        {
          "output_type": "stream",
          "text": [
            "Collecting gym-tictactoe\n",
            "  Downloading https://files.pythonhosted.org/packages/6e/29/368a5dc8abc95ced695c458fa5bf8175f5941ed8404b2f0337bc331506d2/gym_tictactoe-0.30-py3-none-any.whl\n",
            "Requirement already satisfied: matplotlib in /usr/local/lib/python3.6/dist-packages (from gym-tictactoe) (3.2.2)\n",
            "Requirement already satisfied: numpy in /usr/local/lib/python3.6/dist-packages (from gym-tictactoe) (1.18.5)\n",
            "Requirement already satisfied: gym in /usr/local/lib/python3.6/dist-packages (from gym-tictactoe) (0.17.2)\n",
            "Requirement already satisfied: pyparsing!=2.0.4,!=2.1.2,!=2.1.6,>=2.0.1 in /usr/local/lib/python3.6/dist-packages (from matplotlib->gym-tictactoe) (2.4.7)\n",
            "Requirement already satisfied: cycler>=0.10 in /usr/local/lib/python3.6/dist-packages (from matplotlib->gym-tictactoe) (0.10.0)\n",
            "Requirement already satisfied: kiwisolver>=1.0.1 in /usr/local/lib/python3.6/dist-packages (from matplotlib->gym-tictactoe) (1.2.0)\n",
            "Requirement already satisfied: python-dateutil>=2.1 in /usr/local/lib/python3.6/dist-packages (from matplotlib->gym-tictactoe) (2.8.1)\n",
            "Requirement already satisfied: cloudpickle<1.4.0,>=1.2.0 in /usr/local/lib/python3.6/dist-packages (from gym->gym-tictactoe) (1.3.0)\n",
            "Requirement already satisfied: pyglet<=1.5.0,>=1.4.0 in /usr/local/lib/python3.6/dist-packages (from gym->gym-tictactoe) (1.5.0)\n",
            "Requirement already satisfied: scipy in /usr/local/lib/python3.6/dist-packages (from gym->gym-tictactoe) (1.4.1)\n",
            "Requirement already satisfied: six in /usr/local/lib/python3.6/dist-packages (from cycler>=0.10->matplotlib->gym-tictactoe) (1.15.0)\n",
            "Requirement already satisfied: future in /usr/local/lib/python3.6/dist-packages (from pyglet<=1.5.0,>=1.4.0->gym->gym-tictactoe) (0.16.0)\n",
            "Installing collected packages: gym-tictactoe\n",
            "Successfully installed gym-tictactoe-0.30\n"
          ],
          "name": "stdout"
        }
      ]
    },
    {
      "cell_type": "code",
      "metadata": {
        "id": "6Jyk1v9vmC-_",
        "colab_type": "code",
        "colab": {
          "base_uri": "https://localhost:8080/",
          "height": 369
        },
        "outputId": "7d736e70-9048-431e-e1e0-988e4b52f3ca"
      },
      "source": [
        "import gym\n",
        "import gym_tictactoe\n",
        "\n",
        "def play_game(actions, step_fn=input):\n",
        "  env = gym.make('tictactoe-v0')\n",
        "  env.reset()\n",
        "\n",
        "  # Play actions in action profile\n",
        "  for action in actions:\n",
        "    print(env.step(action))\n",
        "    env.render()\n",
        "    if step_fn:\n",
        "      step_fn()\n",
        "  return env\n",
        "\n",
        "actions = ['1021', '2111', '1221', '2222', '1121']\n",
        "_ = play_game(actions, None)"
      ],
      "execution_count": null,
      "outputs": [
        {
          "output_type": "stream",
          "text": [
            "([[[0, 0, 0], [0, 0, 0], [0, 1, 0]], [[0, 0, 0], [0, 0, 0], [0, 0, 0]], [[0, 0, 0], [0, 0, 0], [0, 0, 0]]], 0, False, {'round': 1, 'next_player': 2})\n",
            "- - -    - - -    - - -    \n",
            "- - x    - - -    - - -    \n",
            "- - -    - - -    - - -    \n",
            "([[[0, 0, 0], [0, 0, 0], [0, 1, 0]], [[0, 0, 0], [0, 2, 0], [0, 0, 0]], [[0, 0, 0], [0, 0, 0], [0, 0, 0]]], 0, False, {'round': 2, 'next_player': 1})\n",
            "- - -    - - -    - - -    \n",
            "- - x    - o -    - - -    \n",
            "- - -    - - -    - - -    \n",
            "([[[0, 0, 0], [0, 0, 0], [0, 1, 0]], [[0, 0, 0], [0, 2, 0], [0, 0, 0]], [[0, 0, 0], [0, 0, 0], [0, 1, 0]]], 0, False, {'round': 3, 'next_player': 2})\n",
            "- - -    - - -    - - -    \n",
            "- - x    - o -    - - x    \n",
            "- - -    - - -    - - -    \n",
            "([[[0, 0, 0], [0, 0, 0], [0, 1, 0]], [[0, 0, 0], [0, 2, 0], [0, 0, 0]], [[0, 0, 0], [0, 0, 0], [0, 1, 2]]], 0, False, {'round': 4, 'next_player': 1})\n",
            "- - -    - - -    - - -    \n",
            "- - x    - o -    - - x    \n",
            "- - -    - - -    - - o    \n",
            "([[[0, 0, 0], [0, 0, 0], [0, 1, 0]], [[0, 0, 0], [0, 2, 0], [0, 1, 0]], [[0, 0, 0], [0, 0, 0], [0, 1, 2]]], 1, True, {'round': 5, 'next_player': 'NONE'})\n",
            "- - -    - - -    - - -    \n",
            "- - X    - o X    - - X    \n",
            "- - -    - - -    - - o    \n"
          ],
          "name": "stdout"
        }
      ]
    },
    {
      "cell_type": "code",
      "metadata": {
        "id": "AvjRyQhrGY3K",
        "colab_type": "code",
        "colab": {}
      },
      "source": [
        ""
      ],
      "execution_count": null,
      "outputs": []
    }
  ]
}