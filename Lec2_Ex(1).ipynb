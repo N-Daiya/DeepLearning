{
  "nbformat": 4,
  "nbformat_minor": 0,
  "metadata": {
    "colab": {
      "name": "Lec2_Ex(1).ipynb",
      "provenance": []
    },
    "kernelspec": {
      "name": "python3",
      "display_name": "Python 3"
    }
  },
  "cells": [
    {
      "cell_type": "code",
      "metadata": {
        "id": "fd-gShqdQCwL"
      },
      "source": [
        "import pandas as pd\n",
        "import numpy as np\n",
        "import matplotlib.pyplot as plt\n"
      ],
      "execution_count": null,
      "outputs": []
    },
    {
      "cell_type": "code",
      "metadata": {
        "id": "ze0s3M4kPzQH"
      },
      "source": [
        "# path of data \n",
        "path = 'https://s3-api.us-geo.objectstorage.softlayer.net/cf-courses-data/CognitiveClass/DA0101EN/automobileEDA.csv'\n",
        "df = pd.read_csv(path)\n",
        "df.head()"
      ],
      "execution_count": null,
      "outputs": []
    },
    {
      "cell_type": "code",
      "metadata": {
        "id": "SXtG6R5IQKbP"
      },
      "source": [
        "#learn model develpment, visualization of data and paramter tuning\n",
        "#price- response variable (y), dependent var\n",
        "\n",
        "from sklearn.linear_model import LinearRegression\n",
        "\n",
        "lm = LinearRegression()\n",
        "lm"
      ],
      "execution_count": null,
      "outputs": []
    },
    {
      "cell_type": "code",
      "metadata": {
        "id": "A0714S7lQ7O5"
      },
      "source": [
        "X = df[['highway-mpg']]\n",
        "Y = df[['price']]"
      ],
      "execution_count": null,
      "outputs": []
    },
    {
      "cell_type": "code",
      "metadata": {
        "id": "yQ2G2ynbRKiu"
      },
      "source": [
        "lm.fit(X, Y)"
      ],
      "execution_count": null,
      "outputs": []
    },
    {
      "cell_type": "code",
      "metadata": {
        "id": "B3f1K0MRRSHj"
      },
      "source": [
        "Yhat = lm.predict(X)\n",
        "Yhat"
      ],
      "execution_count": null,
      "outputs": []
    },
    {
      "cell_type": "code",
      "metadata": {
        "id": "qVLiaIcMRybL"
      },
      "source": [
        "lm.intercept_"
      ],
      "execution_count": null,
      "outputs": []
    },
    {
      "cell_type": "code",
      "metadata": {
        "id": "9DNRbUo0R2Ln"
      },
      "source": [
        "lm.coef_"
      ],
      "execution_count": null,
      "outputs": []
    },
    {
      "cell_type": "code",
      "metadata": {
        "id": "fQlfKn7_R8fe"
      },
      "source": [
        "#mathematical equation\n",
        "#price = 38423.3 - 821.7 * highway-price"
      ],
      "execution_count": null,
      "outputs": []
    },
    {
      "cell_type": "code",
      "metadata": {
        "id": "phsLYp-rSsZD"
      },
      "source": [
        "Z = df[['horsepower', 'curb-weight', 'engine-size', 'highway-mpg']]\n",
        "\n",
        "lm.fit(Z, df[['price']])"
      ],
      "execution_count": null,
      "outputs": []
    },
    {
      "cell_type": "code",
      "metadata": {
        "id": "3T8wbNS7TE8h"
      },
      "source": [
        "lm.intercept_"
      ],
      "execution_count": null,
      "outputs": []
    },
    {
      "cell_type": "code",
      "metadata": {
        "id": "zA_ZbNICTG7-"
      },
      "source": [
        "lm.coef_"
      ],
      "execution_count": null,
      "outputs": []
    },
    {
      "cell_type": "code",
      "metadata": {
        "id": "UayoWgSOTalp"
      },
      "source": [
        "import seaborn as sns\n"
      ],
      "execution_count": null,
      "outputs": []
    },
    {
      "cell_type": "code",
      "metadata": {
        "id": "g-iEvyhMTe_Q"
      },
      "source": [
        "sns.regplot(x=\"highway-mpg\", y=\"price\", data=df)"
      ],
      "execution_count": null,
      "outputs": []
    },
    {
      "cell_type": "code",
      "metadata": {
        "id": "swn5kHlQTxdp"
      },
      "source": [
        "sns.regplot(x=\"peak-rpm\",y=\"price\",data=df)"
      ],
      "execution_count": null,
      "outputs": []
    },
    {
      "cell_type": "code",
      "metadata": {
        "id": "DSM3sKUmUBSd"
      },
      "source": [
        "#residual plot - if the points are randomly spread around the x-axis then a linear model is ok for\n",
        "#this problem\n",
        "# residual = observed value - predicted value\n",
        "sns.residplot(df['peak-rpm'], df['price'])"
      ],
      "execution_count": null,
      "outputs": []
    },
    {
      "cell_type": "code",
      "metadata": {
        "id": "t8Ibj9s0U_3w"
      },
      "source": [
        "sns.residplot(df['highway-mpg'], df['price'])"
      ],
      "execution_count": null,
      "outputs": []
    },
    {
      "cell_type": "code",
      "metadata": {
        "id": "a8wEAwrcVZJq"
      },
      "source": [
        "Y_hat = lm.predict(Z)"
      ],
      "execution_count": null,
      "outputs": []
    },
    {
      "cell_type": "code",
      "metadata": {
        "id": "6mUddQsoViJK"
      },
      "source": [
        "width=10\n",
        "height=10\n",
        "plt.figure(figsize=(width,height))\n",
        "\n",
        "ax1 = sns.distplot(df['price'], hist=False, color='r', label='Actual y')\n",
        "sns.distplot(Yhat, hist=False, color='b', label='Predicted y', ax=ax1)\n",
        "\n",
        "#add title\n",
        "plt.title(\"Actual vs predicted\")\n",
        "#add x and y labels\n",
        "plt.xlabel('price')\n",
        "plt.ylabel('automobiles')\n",
        "\n",
        "#display\n",
        "plt.show()"
      ],
      "execution_count": null,
      "outputs": []
    },
    {
      "cell_type": "code",
      "metadata": {
        "id": "oVLCuPTMW6uZ"
      },
      "source": [
        "x = df['highway-mpg']\n",
        "y= df['price']\n",
        "\n",
        "f = np.polyfit(x,y,3)\n",
        "p=np.poly1d(f)\n",
        "print(p)"
      ],
      "execution_count": null,
      "outputs": []
    },
    {
      "cell_type": "code",
      "metadata": {
        "id": "fyB7khX7Xuin"
      },
      "source": [
        "#plot polynomial model\n",
        "\n",
        "x_new = np.linspace(15,55,100)\n",
        "y_new = p(x_new)\n",
        "\n",
        "\n",
        "plt.plot(x,y,'.',x_new, y_new, '-')\n",
        "\n",
        "#title\n",
        "plt.title('poly fit')\n",
        "#x and y labels\n",
        "plt.xlabel(\"highway-mpg\")\n",
        "plt.ylabel(\"price\")\n",
        "\n",
        "#show\n",
        "plt.show()"
      ],
      "execution_count": null,
      "outputs": []
    },
    {
      "cell_type": "code",
      "metadata": {
        "id": "pB9ZUoXsZLFr"
      },
      "source": [
        "from sklearn.preprocessing import PolynomialFeatures\n",
        "\n",
        "pr = PolynomialFeatures(degree=2)\n",
        "\n",
        "pr"
      ],
      "execution_count": null,
      "outputs": []
    },
    {
      "cell_type": "code",
      "metadata": {
        "id": "JNuTtzAvZZvg"
      },
      "source": [
        "\n",
        "Z_pred = pr.fit_transform(Z)"
      ],
      "execution_count": null,
      "outputs": []
    },
    {
      "cell_type": "code",
      "metadata": {
        "id": "lNZnav_QZiTT"
      },
      "source": [
        "from sklearn.pipeline import Pipeline\n",
        "from sklearn.preprocessing import StandardScaler\n",
        "\n",
        "Input = [('scale',StandardScaler()), ('polynomial', PolynomialFeatures(degree=2)), ('model', LinearRegression())]\n",
        "\n",
        "pipe = Pipeline(Input)\n",
        "\n",
        "pipe.fit(Z,y)\n",
        "\n",
        "\n",
        "Yhatpipe = pipe.predict(Z)"
      ],
      "execution_count": null,
      "outputs": []
    },
    {
      "cell_type": "code",
      "metadata": {
        "id": "BNsGCTA1ab-c"
      },
      "source": [
        "Yhatpipe"
      ],
      "execution_count": null,
      "outputs": []
    },
    {
      "cell_type": "code",
      "metadata": {
        "id": "wCaAtpn2Y6RJ"
      },
      "source": [
        "#Compares Root mean squared error ... Model evaluation \n",
        "#Return the coefficient of determination R^2 of the prediction.... Model evaluations\n",
        "\n",
        "#R^2 - The best possible score is 1.0 \n",
        "\n",
        "X = df[['highway-mpg']]\n",
        "Y = df[['price']]\n",
        "\n",
        "lm.fit(X,Y)\n",
        "lm.score(X,y)"
      ],
      "execution_count": null,
      "outputs": []
    },
    {
      "cell_type": "code",
      "metadata": {
        "id": "-JKguAYjbTAF"
      },
      "source": [
        "from sklearn.metrics import mean_squared_error\n",
        "\n",
        "Yhat = lm.predict(X)\n",
        "\n",
        "mse = mean_squared_error(df['price'],Yhat)"
      ],
      "execution_count": null,
      "outputs": []
    },
    {
      "cell_type": "code",
      "metadata": {
        "id": "LBwr_dkrbnfG"
      },
      "source": [
        "mse"
      ],
      "execution_count": null,
      "outputs": []
    },
    {
      "cell_type": "code",
      "metadata": {
        "id": "K1eVqN2acB3g"
      },
      "source": [
        "lm.fit(Z,df['price'])\n",
        "\n",
        "lm.score(Z,df['price'])"
      ],
      "execution_count": null,
      "outputs": []
    },
    {
      "cell_type": "code",
      "metadata": {
        "id": "Op6-fAf6ckH9"
      },
      "source": [
        "Yhat = lm.predict(Z)\n",
        "\n",
        "mse = mean_squared_error(df['price'],Yhat)"
      ],
      "execution_count": null,
      "outputs": []
    },
    {
      "cell_type": "code",
      "metadata": {
        "id": "cuecq5afcrGm"
      },
      "source": [
        "mse"
      ],
      "execution_count": null,
      "outputs": []
    },
    {
      "cell_type": "code",
      "metadata": {
        "id": "U5Xis3fUcv9b"
      },
      "source": [
        "from sklearn.metrics import r2_score\n",
        "\n",
        "x = df['highway-mpg']\n",
        "y= df['price']\n",
        "\n",
        "f = np.polyfit(x,y,3)\n",
        "p=np.poly1d(f)\n",
        "print(p)\n",
        "\n",
        "r2 = r2_score(y, p(x))\n",
        "\n",
        "r2"
      ],
      "execution_count": null,
      "outputs": []
    },
    {
      "cell_type": "code",
      "metadata": {
        "id": "ecXNKpwEdKUw"
      },
      "source": [
        "#polyfit\n",
        "mse = mean_squared_error(df['price'],p(x))\n",
        "mse"
      ],
      "execution_count": null,
      "outputs": []
    },
    {
      "cell_type": "code",
      "metadata": {
        "id": "NwgADlaQdfH7"
      },
      "source": [
        "#pipeline\n",
        "mse = mean_squared_error(df['price'],Yhatpipe)\n",
        "mse"
      ],
      "execution_count": null,
      "outputs": []
    }
  ]
}