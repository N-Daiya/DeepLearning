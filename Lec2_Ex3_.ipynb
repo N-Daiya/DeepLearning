{
  "nbformat": 4,
  "nbformat_minor": 0,
  "metadata": {
    "colab": {
      "name": "Lec2_Ex3 .ipynb",
      "provenance": [],
      "include_colab_link": true
    },
    "kernelspec": {
      "name": "python3",
      "display_name": "Python 3"
    }
  },
  "cells": [
    {
      "cell_type": "markdown",
      "metadata": {
        "id": "view-in-github",
        "colab_type": "text"
      },
      "source": [
        "<a href=\"https://colab.research.google.com/github/N-Daiya/DeepLearning/blob/cw/Lec2_Ex3_.ipynb\" target=\"_parent\"><img src=\"https://colab.research.google.com/assets/colab-badge.svg\" alt=\"Open In Colab\"/></a>"
      ]
    },
    {
      "cell_type": "code",
      "metadata": {
        "_uuid": "8f2839f25d086af736a60e9eeb907d3b93b6e0e5",
        "_cell_guid": "b1076dfc-b9ad-4769-8c92-a6c4dae69d19",
        "trusted": true,
        "id": "apXejf8NpEMz"
      },
      "source": [
        "import numpy as np\n",
        "import pandas as pd\n",
        "\n",
        "import matplotlib.pyplot as plt\n",
        "import seaborn as sns\n",
        "\n",
        "from sklearn.model_selection import train_test_split, cross_val_score\n",
        "from sklearn.preprocessing import StandardScaler\n",
        "\n",
        "from sklearn import linear_model\n",
        "from sklearn.model_selection import GridSearchCV, RandomizedSearchCV\n",
        "\n",
        "import warnings\n",
        "warnings.filterwarnings('ignore')\n",
        "\n",
        "np.random.seed(27)"
      ],
      "execution_count": null,
      "outputs": []
    },
    {
      "cell_type": "code",
      "metadata": {
        "_cell_guid": "79c7e3d0-c299-4dcb-8224-4455121ee9b0",
        "_uuid": "d629ff2d2480ee46fbb7e2d37f6b5fab8052498a",
        "trusted": true,
        "id": "3cB_8g2zpEM9"
      },
      "source": [
        "# setting up default plotting parameters\n",
        "%matplotlib inline\n",
        "\n",
        "plt.rcParams['figure.figsize'] = [20.0, 7.0]\n",
        "plt.rcParams.update({'font.size': 22,})\n",
        "\n",
        "sns.set_palette('viridis')\n",
        "sns.set_style('white')\n",
        "sns.set_context('talk', font_scale=0.8)"
      ],
      "execution_count": null,
      "outputs": []
    },
    {
      "cell_type": "code",
      "metadata": {
        "trusted": true,
        "_uuid": "f3368d6319e979c81c215f52454798c6bcec5810",
        "id": "7KpVSM8ZpENG"
      },
      "source": [
        "#-O All downloaded content is stored at filename\n",
        " \n",
        "!wget -O train.csv https://www.upscfever.com/datasets/train_ML.csv\n",
        "!wget -O test.csv https://www.upscfever.com/datasets/test_ML.csv\n",
        "\n",
        "train = pd.read_csv('train.csv')\n",
        "test = pd.read_csv('test.csv')\n",
        "\n",
        "print('Train Shape: ', train.shape)\n",
        "print('Test Shape: ', test.shape)\n",
        "\n",
        "train.head()"
      ],
      "execution_count": null,
      "outputs": []
    },
    {
      "cell_type": "code",
      "metadata": {
        "id": "dakXy7DWlOr-"
      },
      "source": [
        "#next step  - \n",
        "\n",
        "X_train = train.drop(['id','target'], axis=1)\n",
        "y_train = train['target']\n",
        "\n",
        "X_test = test.drop(['id'], axis=1)"
      ],
      "execution_count": null,
      "outputs": []
    },
    {
      "cell_type": "code",
      "metadata": {
        "id": "HWrNJM_jnP-o"
      },
      "source": [
        "#scaling\n",
        "scaler = StandardScaler()\n",
        "X_train = scaler.fit_transform(X_train)\n",
        "X_test = scaler.fit_transform(X_test)"
      ],
      "execution_count": null,
      "outputs": []
    },
    {
      "cell_type": "code",
      "metadata": {
        "id": "4zEfGadpnh0x"
      },
      "source": [
        "#define models\n",
        "\n",
        "ridge = linear_model.Ridge()\n",
        "\n",
        "models = [ridge]"
      ],
      "execution_count": null,
      "outputs": []
    },
    {
      "cell_type": "code",
      "metadata": {
        "id": "AxdRd8ZFntdA"
      },
      "source": [
        "def get_cv_score(model):\n",
        "    scores = cross_val_score(model, X_train, y_train, cv=5, scoring=\"roc_auc\")\n",
        "    print(\"CV mean\", np.mean(scores))\n",
        "    print(\"CV STD\", np.std(scores))"
      ],
      "execution_count": null,
      "outputs": []
    },
    {
      "cell_type": "code",
      "metadata": {
        "id": "KnlVl1l7xRd7"
      },
      "source": [
        "get_cv_score(ridge)"
      ],
      "execution_count": null,
      "outputs": []
    },
    {
      "cell_type": "code",
      "metadata": {
        "id": "T0p3UCmIoIvP"
      },
      "source": [
        "#grid search or random search\n",
        "#find hyper-parameters for ridge\n",
        "\n",
        "alpha = [0.1, 0.5,1,2,5,10]\n",
        "fit_intercept = [True, False]\n",
        "normalize = [True, False]\n",
        "solver = ['auto', 'svd', 'cholesky', 'lsqr', 'sparse_cg', 'sag', 'saga']\n",
        "\n",
        "paramgrid1 = dict(alpha=alpha, fit_intercept=fit_intercept, normalize=normalize, solver=solver)\n",
        "\n"
      ],
      "execution_count": null,
      "outputs": []
    },
    {
      "cell_type": "code",
      "metadata": {
        "id": "3i4Y-Wm9QoNm"
      },
      "source": [
        "random= RandomizedSearchCV(estimator=ridge,param_distributions=paramgrid1,scoring='roc_auc',n_jobs=-1,verbose=1)"
      ],
      "execution_count": 18,
      "outputs": []
    },
    {
      "cell_type": "code",
      "metadata": {
        "id": "TJ8wNExqPzxT",
        "outputId": "10f9d5ed-557b-4fd8-cf4d-7c0e9bdd2552",
        "colab": {
          "base_uri": "https://localhost:8080/",
          "height": 87
        }
      },
      "source": [
        "\n",
        "\n",
        "random_results = random.fit(X_train, y_train)\n",
        "\n",
        "random_results.best_params_\n",
        "random_results.best_score_\n"
      ],
      "execution_count": 20,
      "outputs": [
        {
          "output_type": "stream",
          "text": [
            "Fitting 5 folds for each of 10 candidates, totalling 50 fits\n"
          ],
          "name": "stdout"
        },
        {
          "output_type": "stream",
          "text": [
            "[Parallel(n_jobs=-1)]: Using backend LokyBackend with 2 concurrent workers.\n",
            "[Parallel(n_jobs=-1)]: Done  50 out of  50 | elapsed:    2.7s finished\n"
          ],
          "name": "stderr"
        },
        {
          "output_type": "execute_result",
          "data": {
            "text/plain": [
              "0.6880459186774976"
            ]
          },
          "metadata": {
            "tags": []
          },
          "execution_count": 20
        }
      ]
    },
    {
      "cell_type": "code",
      "metadata": {
        "id": "LKzrNYxnxk1e"
      },
      "source": [
        "grid = GridSearchCV(estimator=ridge,param_grid=paramgrid1, scoring='roc_auc', n_jobs=-1, verbose=1)\n",
        "\n",
        "grid_results = grid.fit(X_train, y_train)\n",
        "\n",
        "grid_results.best_params_\n",
        "grid_results.best_score_"
      ],
      "execution_count": null,
      "outputs": []
    }
  ]
}