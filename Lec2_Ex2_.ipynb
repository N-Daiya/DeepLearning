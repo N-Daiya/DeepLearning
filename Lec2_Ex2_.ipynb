{
  "nbformat": 4,
  "nbformat_minor": 0,
  "metadata": {
    "colab": {
      "name": "Lec2_Ex2 .ipynb",
      "provenance": [],
      "include_colab_link": true
    },
    "kernelspec": {
      "name": "python3",
      "display_name": "Python 3"
    }
  },
  "cells": [
    {
      "cell_type": "markdown",
      "metadata": {
        "id": "view-in-github",
        "colab_type": "text"
      },
      "source": [
        "<a href=\"https://colab.research.google.com/github/N-Daiya/DeepLearning/blob/cw/Lec2_Ex2_.ipynb\" target=\"_parent\"><img src=\"https://colab.research.google.com/assets/colab-badge.svg\" alt=\"Open In Colab\"/></a>"
      ]
    },
    {
      "cell_type": "code",
      "metadata": {
        "id": "d9iby2oBd6Rv"
      },
      "source": [
        "import pandas as pd\n",
        "import numpy as np\n",
        "\n",
        "! pip install ipywidgets\n",
        "from IPython.display import display\n",
        "from IPython.html import widgets \n",
        "from IPython.display import display\n",
        "from ipywidgets import interact, interactive, fixed, interact_manual\n",
        "\n",
        "def DistributionPlot(RedFunction, BlueFunction, RedName, BlueName, Title):\n",
        "    width = 12\n",
        "    height = 10\n",
        "    plt.figure(figsize=(width, height))\n",
        "\n",
        "    ax1 = sns.distplot(RedFunction, hist=False, color=\"r\", label=RedName)\n",
        "    ax2 = sns.distplot(BlueFunction, hist=False, color=\"b\", label=BlueName, ax=ax1)\n",
        "\n",
        "    plt.title(Title)\n",
        "    plt.xlabel('Price (in dollars)')\n",
        "    plt.ylabel('Proportion of Cars')\n",
        "\n",
        "    plt.show()\n",
        "    plt.close()\n",
        "\n",
        "\n",
        "def PollyPlot(xtrain, xtest, y_train, y_test, lr,poly_transform):\n",
        "    width = 12\n",
        "    height = 10\n",
        "    plt.figure(figsize=(width, height))\n",
        "    \n",
        "    \n",
        "    #training data \n",
        "    #testing data \n",
        "    # lr:  linear regression object \n",
        "    #poly_transform:  polynomial transformation object \n",
        " \n",
        "    xmax=max([xtrain.values.max(), xtest.values.max()])\n",
        "\n",
        "    xmin=min([xtrain.values.min(), xtest.values.min()])\n",
        "\n",
        "    x=np.arange(xmin, xmax, 0.1)\n",
        "\n",
        "\n",
        "    plt.plot(xtrain, y_train, 'ro', label='Training Data')\n",
        "    plt.plot(xtest, y_test, 'go', label='Test Data')\n",
        "    plt.plot(x, lr.predict(poly_transform.fit_transform(x.reshape(-1, 1))), label='Predicted Function')\n",
        "    plt.ylim([-10000, 60000])\n",
        "    plt.ylabel('Price')\n",
        "    plt.legend()\n"
      ],
      "execution_count": null,
      "outputs": []
    },
    {
      "cell_type": "code",
      "metadata": {
        "id": "FBA974breWkH"
      },
      "source": [
        "# Import clean data \n",
        "path = 'https://s3-api.us-geo.objectstorage.softlayer.net/cf-courses-data/CognitiveClass/DA0101EN/module_5_auto.csv'\n",
        "df = pd.read_csv(path)\n"
      ],
      "execution_count": null,
      "outputs": []
    },
    {
      "cell_type": "code",
      "metadata": {
        "id": "Y2fqEMOAfDDp"
      },
      "source": [
        "df.head()"
      ],
      "execution_count": null,
      "outputs": []
    },
    {
      "cell_type": "code",
      "metadata": {
        "id": "aoQIofKZeoxw"
      },
      "source": [
        "dataset = df._get_numeric_data()\n",
        "dataset.head()"
      ],
      "execution_count": null,
      "outputs": []
    },
    {
      "cell_type": "code",
      "metadata": {
        "id": "6t-5dekofOTO"
      },
      "source": [
        "#Get x and y\n",
        "\n",
        "y_data = dataset['price']\n",
        "x_data = dataset.drop('price',axis=1)"
      ],
      "execution_count": null,
      "outputs": []
    },
    {
      "cell_type": "code",
      "metadata": {
        "id": "HJrR2U59hkG6"
      },
      "source": [
        "x_data.head()"
      ],
      "execution_count": null,
      "outputs": []
    },
    {
      "cell_type": "code",
      "metadata": {
        "id": "x29VBChahAPp"
      },
      "source": [
        "\n",
        "x_data = x_data.drop('Unnamed: 0',1)\n"
      ],
      "execution_count": null,
      "outputs": []
    },
    {
      "cell_type": "code",
      "metadata": {
        "id": "Cgh4pp_mgscW"
      },
      "source": [
        "#training - 80%, test=20%\n",
        "#1million or more observations: train - 99%, test - 1% (Ref: deep leaning AI)\n",
        "\n",
        "from sklearn.model_selection import train_test_split\n",
        "\n",
        "x_train, x_test, y_train, y_test = train_test_split(x_data, y_data, test_size=0.2)"
      ],
      "execution_count": null,
      "outputs": []
    },
    {
      "cell_type": "code",
      "metadata": {
        "id": "UkVyz8eyiFIx"
      },
      "source": [
        "from sklearn.linear_model import LinearRegression\n",
        "lre = LinearRegression()\n",
        "\n",
        "lre.fit(x_train[['horsepower']], y_train)\n",
        "\n",
        "\n"
      ],
      "execution_count": null,
      "outputs": []
    },
    {
      "cell_type": "code",
      "metadata": {
        "id": "sJCKungKjIPj"
      },
      "source": [
        "lre.score(x_test[['horsepower']], y_test)"
      ],
      "execution_count": null,
      "outputs": []
    },
    {
      "cell_type": "code",
      "metadata": {
        "id": "h-HF4NFpjJsL"
      },
      "source": [
        "\n",
        "lre.score(x_train[['horsepower']], y_train)"
      ],
      "execution_count": null,
      "outputs": []
    },
    {
      "cell_type": "code",
      "metadata": {
        "id": "M6L46qgrjPyv"
      },
      "source": [
        "#k-cross fold\n",
        "from sklearn.model_selection import cross_val_score\n",
        "\n",
        "Scores = cross_val_score(lre, x_train[['horsepower']], y_train, cv=4)"
      ],
      "execution_count": null,
      "outputs": []
    },
    {
      "cell_type": "code",
      "metadata": {
        "id": "yIjz0eJOjmzK"
      },
      "source": [
        "#divide into 4 parts - a,b,c,d\n",
        "# a,b,c (train) / d- dev\n",
        "# a,b,d (train) / c- dev\n",
        "# d,b,c (train) / a- dev\n",
        "# a,c,d (train) / b- dev\n",
        "\n",
        "Scores"
      ],
      "execution_count": null,
      "outputs": []
    },
    {
      "cell_type": "code",
      "metadata": {
        "id": "49gNAqWvkF1P"
      },
      "source": [
        "Scores.mean()"
      ],
      "execution_count": null,
      "outputs": []
    },
    {
      "cell_type": "code",
      "metadata": {
        "id": "4uv3zxSakIQh"
      },
      "source": [
        "Scores.std()"
      ],
      "execution_count": null,
      "outputs": []
    }
  ]
}