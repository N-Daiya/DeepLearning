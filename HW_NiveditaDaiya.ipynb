{
  "nbformat": 4,
  "nbformat_minor": 0,
  "metadata": {
    "colab": {
      "name": "HW-NiveditaDaiya.ipynb",
      "provenance": [],
      "authorship_tag": "ABX9TyOzw7XW+eoQpSciZ4GeTC08",
      "include_colab_link": true
    },
    "kernelspec": {
      "name": "python3",
      "display_name": "Python 3"
    }
  },
  "cells": [
    {
      "cell_type": "markdown",
      "metadata": {
        "id": "view-in-github",
        "colab_type": "text"
      },
      "source": [
        "<a href=\"https://colab.research.google.com/github/N-Daiya/DeepLearning/blob/master/HW_NiveditaDaiya.ipynb\" target=\"_parent\"><img src=\"https://colab.research.google.com/assets/colab-badge.svg\" alt=\"Open In Colab\"/></a>"
      ]
    },
    {
      "cell_type": "code",
      "metadata": {
        "id": "3VWH8YDFQIiZ",
        "colab_type": "code",
        "colab": {}
      },
      "source": [
        "import numpy as np\n",
        "import pandas as pd"
      ],
      "execution_count": 30,
      "outputs": []
    },
    {
      "cell_type": "code",
      "metadata": {
        "id": "x5-p3QF9QK4s",
        "colab_type": "code",
        "colab": {}
      },
      "source": [
        "import keras\n",
        "import keras.utils\n",
        "\n",
        "from keras.models import Sequential\n",
        "from keras.layers import Dense,Dropout,Activation,Flatten\n",
        "from keras.utils import to_categorical"
      ],
      "execution_count": 31,
      "outputs": []
    },
    {
      "cell_type": "code",
      "metadata": {
        "id": "szjG0aygPsKF",
        "colab_type": "code",
        "colab": {
          "base_uri": "https://localhost:8080/",
          "height": 369
        },
        "outputId": "ed35f470-2015-4a3e-fc7e-d6da34b0a939"
      },
      "source": [
        "#MNISt model building\n",
        "from keras.datasets import mnist\n",
        "(x_train,y_train),(x_test,y_test)=mnist.load_data()\n",
        "\n",
        "x_train=x_train.reshape(60000,28*28)\n",
        "x_test=x_test.reshape(10000,28*28)\n",
        "\n",
        "\n",
        "x_train=x_train.astype('float32')\n",
        "x_test=x_test.astype('float32')\n",
        "x_train /= 255.0\n",
        "x_test /= 255.0\n",
        "\n",
        "y_train=to_categorical(y_train,10)\n",
        "y_test=to_categorical(y_test,10)\n",
        "\n",
        "\n",
        "\n",
        "initializers=keras.initializers.he_normal()\n",
        "model=Sequential()\n",
        "model.add(Dense(1024,input_dim=784,kernel_initializer='random_uniform',bias_initializer='zeros',activation='relu'))\n",
        "model.add(Dense(10,kernel_initializer='random_uniform',bias_initializer='zeros',activation='softmax'))\n",
        "\n",
        "#compile\n",
        "model.compile(optimizer='sgd',loss='categorical_crossentropy',metrics=['accuracy'])\n",
        "\n",
        "#train\n",
        "\n",
        "history=model.fit(x_train,y_train,epochs=10,validation_split=0.2,verbose=1)"
      ],
      "execution_count": 40,
      "outputs": [
        {
          "output_type": "stream",
          "text": [
            "Epoch 1/10\n",
            "1500/1500 [==============================] - 9s 6ms/step - loss: 0.7501 - accuracy: 0.8355 - val_loss: 0.3811 - val_accuracy: 0.9009\n",
            "Epoch 2/10\n",
            "1500/1500 [==============================] - 8s 6ms/step - loss: 0.3638 - accuracy: 0.9007 - val_loss: 0.3085 - val_accuracy: 0.9147\n",
            "Epoch 3/10\n",
            "1500/1500 [==============================] - 8s 6ms/step - loss: 0.3098 - accuracy: 0.9141 - val_loss: 0.2757 - val_accuracy: 0.9239\n",
            "Epoch 4/10\n",
            "1500/1500 [==============================] - 8s 6ms/step - loss: 0.2782 - accuracy: 0.9228 - val_loss: 0.2530 - val_accuracy: 0.9286\n",
            "Epoch 5/10\n",
            "1500/1500 [==============================] - 9s 6ms/step - loss: 0.2545 - accuracy: 0.9291 - val_loss: 0.2359 - val_accuracy: 0.9338\n",
            "Epoch 6/10\n",
            "1500/1500 [==============================] - 8s 6ms/step - loss: 0.2349 - accuracy: 0.9352 - val_loss: 0.2196 - val_accuracy: 0.9398\n",
            "Epoch 7/10\n",
            "1500/1500 [==============================] - 8s 6ms/step - loss: 0.2182 - accuracy: 0.9396 - val_loss: 0.2059 - val_accuracy: 0.9433\n",
            "Epoch 8/10\n",
            "1500/1500 [==============================] - 8s 6ms/step - loss: 0.2037 - accuracy: 0.9431 - val_loss: 0.1955 - val_accuracy: 0.9469\n",
            "Epoch 9/10\n",
            "1500/1500 [==============================] - 8s 6ms/step - loss: 0.1907 - accuracy: 0.9471 - val_loss: 0.1865 - val_accuracy: 0.9488\n",
            "Epoch 10/10\n",
            "1500/1500 [==============================] - 9s 6ms/step - loss: 0.1791 - accuracy: 0.9505 - val_loss: 0.1762 - val_accuracy: 0.9516\n"
          ],
          "name": "stdout"
        }
      ]
    },
    {
      "cell_type": "code",
      "metadata": {
        "id": "09jkXddOXieX",
        "colab_type": "code",
        "colab": {
          "base_uri": "https://localhost:8080/",
          "height": 313
        },
        "outputId": "3dd6d277-639d-49b6-c57c-2298a2940e51"
      },
      "source": [
        "import matplotlib.pyplot as plt\n",
        "plt.plot(history.history['accuracy'])\n",
        "plt.plot(history.history['val_accuracy'])\n",
        "plt.title('Model accuracy')\n",
        "plt.ylabel('Accuracy')\n",
        "plt.xlabel('Epochs')\n",
        "plt.legend(['Train','Validation'],loc='upper right')\n",
        "plt.show()\n",
        "\n",
        "test_acc = model.evaluate(x_test, y_test, verbose=2)"
      ],
      "execution_count": 41,
      "outputs": [
        {
          "output_type": "display_data",
          "data": {
            "image/png": "[encoded data removed]",
            "text/plain": [
              "<Figure size 432x288 with 1 Axes>"
            ]
          },
          "metadata": {
            "tags": [],
            "needs_background": "light"
          }
        },
        {
          "output_type": "stream",
          "text": [
            "313/313 - 1s - loss: 0.1755 - accuracy: 0.9505\n"
          ],
          "name": "stdout"
        }
      ]
    },
    {
      "cell_type": "code",
      "metadata": {
        "id": "obxXgyghcA2w",
        "colab_type": "code",
        "colab": {
          "base_uri": "https://localhost:8080/",
          "height": 741
        },
        "outputId": "16ede854-bdd7-47cb-d13c-88005949e19e"
      },
      "source": [
        "import tensorflow as tf\n",
        "\n",
        "from keras.datasets import cifar100\n",
        "(x_train,y_train),(x_test,y_test)=cifar100.load_data()\n",
        "\n",
        "x_train=x_train.reshape(50000,32*32*3)\n",
        "x_test=x_test.reshape(10000,32*32*3)\n",
        "\n",
        "\n",
        "x_train=x_train.astype('float32')\n",
        "x_test=x_test.astype('float32')\n",
        "x_train /= 255.0\n",
        "x_test /= 255.0\n",
        "\n",
        "y_train=to_categorical(y_train,100)\n",
        "y_test=to_categorical(y_test,100)\n",
        "\n",
        "#model build\n",
        "\n",
        "\n",
        "initializers=keras.initializers.he_normal()\n",
        "model=Sequential()\n",
        "model.add(Dense(1024,input_dim=3072,kernel_initializer='random_uniform',bias_initializer='zeros',activation='relu'))\n",
        "model.add(Dense(100,kernel_initializer='random_uniform',bias_initializer='zeros',activation='softmax'))\n",
        "\n",
        "\n",
        "#compile\n",
        "m=tf.keras.metrics.TopKCategoricalAccuracy()\n",
        "model.compile(optimizer='sgd',loss='categorical_crossentropy',metrics=['accuracy',m])\n",
        "\n",
        "#train\n",
        "\n",
        "history = model.fit(x_train,y_train,epochs=20,validation_split=0.2,verbose=1)\n"
      ],
      "execution_count": 48,
      "outputs": [
        {
          "output_type": "stream",
          "text": [
            "Epoch 1/20\n",
            "1250/1250 [==============================] - 25s 20ms/step - loss: 4.2297 - accuracy: 0.0695 - top_k_categorical_accuracy: 0.2154 - val_loss: 3.9974 - val_accuracy: 0.1021 - val_top_k_categorical_accuracy: 0.2784\n",
            "Epoch 2/20\n",
            "1250/1250 [==============================] - 24s 19ms/step - loss: 3.8791 - accuracy: 0.1208 - top_k_categorical_accuracy: 0.3246 - val_loss: 3.8161 - val_accuracy: 0.1387 - val_top_k_categorical_accuracy: 0.3432\n",
            "Epoch 3/20\n",
            "1250/1250 [==============================] - 27s 22ms/step - loss: 3.7280 - accuracy: 0.1506 - top_k_categorical_accuracy: 0.3736 - val_loss: 3.7264 - val_accuracy: 0.1496 - val_top_k_categorical_accuracy: 0.3709\n",
            "Epoch 4/20\n",
            "1250/1250 [==============================] - 25s 20ms/step - loss: 3.6298 - accuracy: 0.1670 - top_k_categorical_accuracy: 0.3984 - val_loss: 3.6623 - val_accuracy: 0.1627 - val_top_k_categorical_accuracy: 0.3888\n",
            "Epoch 5/20\n",
            "1250/1250 [==============================] - 24s 19ms/step - loss: 3.5543 - accuracy: 0.1819 - top_k_categorical_accuracy: 0.4189 - val_loss: 3.6255 - val_accuracy: 0.1686 - val_top_k_categorical_accuracy: 0.3955\n",
            "Epoch 6/20\n",
            "1250/1250 [==============================] - 24s 19ms/step - loss: 3.4935 - accuracy: 0.1928 - top_k_categorical_accuracy: 0.4371 - val_loss: 3.5824 - val_accuracy: 0.1760 - val_top_k_categorical_accuracy: 0.4073\n",
            "Epoch 7/20\n",
            "1250/1250 [==============================] - 24s 19ms/step - loss: 3.4395 - accuracy: 0.2019 - top_k_categorical_accuracy: 0.4497 - val_loss: 3.5400 - val_accuracy: 0.1837 - val_top_k_categorical_accuracy: 0.4175\n",
            "Epoch 8/20\n",
            "1250/1250 [==============================] - 24s 19ms/step - loss: 3.3909 - accuracy: 0.2121 - top_k_categorical_accuracy: 0.4630 - val_loss: 3.5099 - val_accuracy: 0.1884 - val_top_k_categorical_accuracy: 0.4240\n",
            "Epoch 9/20\n",
            "1250/1250 [==============================] - 24s 19ms/step - loss: 3.3453 - accuracy: 0.2196 - top_k_categorical_accuracy: 0.4782 - val_loss: 3.4756 - val_accuracy: 0.1983 - val_top_k_categorical_accuracy: 0.4352\n",
            "Epoch 10/20\n",
            "1250/1250 [==============================] - 24s 19ms/step - loss: 3.3039 - accuracy: 0.2262 - top_k_categorical_accuracy: 0.4854 - val_loss: 3.4577 - val_accuracy: 0.1994 - val_top_k_categorical_accuracy: 0.4451\n",
            "Epoch 11/20\n",
            "1250/1250 [==============================] - 24s 19ms/step - loss: 3.2638 - accuracy: 0.2356 - top_k_categorical_accuracy: 0.4970 - val_loss: 3.4386 - val_accuracy: 0.1996 - val_top_k_categorical_accuracy: 0.4453\n",
            "Epoch 12/20\n",
            "1250/1250 [==============================] - 24s 19ms/step - loss: 3.2252 - accuracy: 0.2431 - top_k_categorical_accuracy: 0.5070 - val_loss: 3.4083 - val_accuracy: 0.2011 - val_top_k_categorical_accuracy: 0.4562\n",
            "Epoch 13/20\n",
            "1250/1250 [==============================] - 25s 20ms/step - loss: 3.1897 - accuracy: 0.2487 - top_k_categorical_accuracy: 0.5153 - val_loss: 3.3971 - val_accuracy: 0.2077 - val_top_k_categorical_accuracy: 0.4572\n",
            "Epoch 14/20\n",
            "1250/1250 [==============================] - 25s 20ms/step - loss: 3.1543 - accuracy: 0.2562 - top_k_categorical_accuracy: 0.5254 - val_loss: 3.3806 - val_accuracy: 0.2084 - val_top_k_categorical_accuracy: 0.4639\n",
            "Epoch 15/20\n",
            "1250/1250 [==============================] - 22s 18ms/step - loss: 3.1197 - accuracy: 0.2623 - top_k_categorical_accuracy: 0.5326 - val_loss: 3.3516 - val_accuracy: 0.2184 - val_top_k_categorical_accuracy: 0.4729\n",
            "Epoch 16/20\n",
            "1250/1250 [==============================] - 22s 17ms/step - loss: 3.0863 - accuracy: 0.2672 - top_k_categorical_accuracy: 0.5434 - val_loss: 3.3417 - val_accuracy: 0.2153 - val_top_k_categorical_accuracy: 0.4739\n",
            "Epoch 17/20\n",
            "1250/1250 [==============================] - 22s 18ms/step - loss: 3.0547 - accuracy: 0.2718 - top_k_categorical_accuracy: 0.5501 - val_loss: 3.3369 - val_accuracy: 0.2161 - val_top_k_categorical_accuracy: 0.4742\n",
            "Epoch 18/20\n",
            "1250/1250 [==============================] - 22s 18ms/step - loss: 3.0242 - accuracy: 0.2803 - top_k_categorical_accuracy: 0.5573 - val_loss: 3.3369 - val_accuracy: 0.2139 - val_top_k_categorical_accuracy: 0.4783\n",
            "Epoch 19/20\n",
            "1250/1250 [==============================] - 22s 17ms/step - loss: 2.9907 - accuracy: 0.2879 - top_k_categorical_accuracy: 0.5641 - val_loss: 3.3175 - val_accuracy: 0.2189 - val_top_k_categorical_accuracy: 0.4790\n",
            "Epoch 20/20\n",
            "1250/1250 [==============================] - 21s 17ms/step - loss: 2.9609 - accuracy: 0.2916 - top_k_categorical_accuracy: 0.5727 - val_loss: 3.3197 - val_accuracy: 0.2176 - val_top_k_categorical_accuracy: 0.4815\n"
          ],
          "name": "stdout"
        }
      ]
    },
    {
      "cell_type": "code",
      "metadata": {
        "id": "v4j_gkpLcItL",
        "colab_type": "code",
        "colab": {
          "base_uri": "https://localhost:8080/",
          "height": 313
        },
        "outputId": "dc6de903-33af-4fa3-8f67-49e5615b48de"
      },
      "source": [
        "plt.plot(history.history['accuracy'])\n",
        "plt.plot(history.history['val_accuracy'])\n",
        "plt.title('Model accuracy')\n",
        "plt.ylabel('Accuracy')\n",
        "plt.xlabel('Epochs')\n",
        "plt.legend(['Train','Validation'],loc='upper right')\n",
        "plt.show()\n",
        "\n",
        "test_acc = model.evaluate(x_test, y_test, verbose=1)"
      ],
      "execution_count": 49,
      "outputs": [
        {
          "output_type": "display_data",
          "data": {
            "image/png": "[encoded data removed]",
            "text/plain": [
              "<Figure size 432x288 with 1 Axes>"
            ]
          },
          "metadata": {
            "tags": [],
            "needs_background": "light"
          }
        },
        {
          "output_type": "stream",
          "text": [
            "313/313 [==============================] - 2s 7ms/step - loss: 3.3172 - accuracy: 0.2207 - top_k_categorical_accuracy: 0.4865\n"
          ],
          "name": "stdout"
        }
      ]
    },
    {
      "cell_type": "code",
      "metadata": {
        "id": "VC7xBZPQ5w38",
        "colab_type": "code",
        "colab": {
          "base_uri": "https://localhost:8080/",
          "height": 369
        },
        "outputId": "2fda5b6a-f4ab-4baf-ba2a-25d262d9154b"
      },
      "source": [
        "from keras.datasets import fashion_mnist\n",
        "(x_train,y_train),(x_test,y_test)=fashion_mnist.load_data()\n",
        "\n",
        "x_train=x_train.reshape(60000,28*28)\n",
        "x_test=x_test.reshape(10000,28*28)\n",
        "\n",
        "\n",
        "x_train=x_train.astype('float32')\n",
        "x_test=x_test.astype('float32')\n",
        "x_train /= 255.0\n",
        "x_test /= 255.0\n",
        "\n",
        "y_train=to_categorical(y_train,10)\n",
        "y_test=to_categorical(y_test,10)\n",
        "\n",
        "#model build\n",
        "#pic at random from a normal dist with mean=0,stdev=sqrt(scale/n)\n",
        "#fan_in-no of incoming conn\n",
        "#fan-out=no of outgoing conn\n",
        "#fan-avg=avg of fan_in and fan_out\n",
        "#scale\n",
        "\n",
        "initializers=keras.initializers.he_normal()\n",
        "model=Sequential()\n",
        "model.add(Dense(1024,input_dim=784,kernel_initializer='random_uniform',bias_initializer='zeros',activation='relu'))\n",
        "model.add(Dense(10,kernel_initializer='random_uniform',bias_initializer='zeros',activation='softmax'))\n",
        "\n",
        "#compile\n",
        "model.compile(optimizer='sgd',loss='categorical_crossentropy',metrics=['accuracy'])\n",
        "\n",
        "#train\n",
        "\n",
        "history=model.fit(x_train,y_train,epochs=10,validation_split=0.2,verbose=1)\n"
      ],
      "execution_count": 45,
      "outputs": [
        {
          "output_type": "stream",
          "text": [
            "Epoch 1/10\n",
            "1500/1500 [==============================] - 9s 6ms/step - loss: 0.8023 - accuracy: 0.7505 - val_loss: 0.5751 - val_accuracy: 0.8097\n",
            "Epoch 2/10\n",
            "1500/1500 [==============================] - 9s 6ms/step - loss: 0.5347 - accuracy: 0.8221 - val_loss: 0.5026 - val_accuracy: 0.8299\n",
            "Epoch 3/10\n",
            "1500/1500 [==============================] - 9s 6ms/step - loss: 0.4824 - accuracy: 0.8350 - val_loss: 0.4680 - val_accuracy: 0.8357\n",
            "Epoch 4/10\n",
            "1500/1500 [==============================] - 9s 6ms/step - loss: 0.4546 - accuracy: 0.8440 - val_loss: 0.4477 - val_accuracy: 0.8443\n",
            "Epoch 5/10\n",
            "1500/1500 [==============================] - 9s 6ms/step - loss: 0.4345 - accuracy: 0.8504 - val_loss: 0.4396 - val_accuracy: 0.8453\n",
            "Epoch 6/10\n",
            "1500/1500 [==============================] - 9s 6ms/step - loss: 0.4195 - accuracy: 0.8554 - val_loss: 0.4260 - val_accuracy: 0.8514\n",
            "Epoch 7/10\n",
            "1500/1500 [==============================] - 9s 6ms/step - loss: 0.4070 - accuracy: 0.8611 - val_loss: 0.4157 - val_accuracy: 0.8567\n",
            "Epoch 8/10\n",
            "1500/1500 [==============================] - 9s 6ms/step - loss: 0.3957 - accuracy: 0.8640 - val_loss: 0.4002 - val_accuracy: 0.8608\n",
            "Epoch 9/10\n",
            "1500/1500 [==============================] - 9s 6ms/step - loss: 0.3863 - accuracy: 0.8668 - val_loss: 0.4001 - val_accuracy: 0.8607\n",
            "Epoch 10/10\n",
            "1500/1500 [==============================] - 9s 6ms/step - loss: 0.3775 - accuracy: 0.8699 - val_loss: 0.3925 - val_accuracy: 0.8636\n"
          ],
          "name": "stdout"
        }
      ]
    },
    {
      "cell_type": "code",
      "metadata": {
        "id": "0vVcyzUE52_Q",
        "colab_type": "code",
        "colab": {
          "base_uri": "https://localhost:8080/",
          "height": 313
        },
        "outputId": "bb7a0260-50f3-43c4-f4e7-bf929ae2fafd"
      },
      "source": [
        "plt.plot(history.history['accuracy'])\n",
        "plt.plot(history.history['val_accuracy'])\n",
        "plt.title('Model accuracy')\n",
        "plt.ylabel('Accuracy')\n",
        "plt.xlabel('Epochs')\n",
        "plt.legend(['Train','Validation'],loc='upper right')\n",
        "plt.show()\n",
        "\n",
        "test_acc = model.evaluate(x_test, y_test, verbose=2)"
      ],
      "execution_count": 46,
      "outputs": [
        {
          "output_type": "display_data",
          "data": {
            "image/png": "[encoded data removed]",
            "text/plain": [
              "<Figure size 432x288 with 1 Axes>"
            ]
          },
          "metadata": {
            "tags": [],
            "needs_background": "light"
          }
        },
        {
          "output_type": "stream",
          "text": [
            "313/313 - 1s - loss: 0.4170 - accuracy: 0.8522\n"
          ],
          "name": "stdout"
        }
      ]
    }
  ]
}