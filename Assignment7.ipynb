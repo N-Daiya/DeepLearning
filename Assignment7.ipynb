{
  "nbformat": 4,
  "nbformat_minor": 0,
  "metadata": {
    "colab": {
      "name": "Assignment7.ipynb",
      "provenance": [],
      "authorship_tag": "ABX9TyOpZzZHaXBmDK0iCCbmMpEJ",
      "include_colab_link": true
    },
    "kernelspec": {
      "name": "python3",
      "display_name": "Python 3"
    }
  },
  "cells": [
    {
      "cell_type": "markdown",
      "metadata": {
        "id": "view-in-github",
        "colab_type": "text"
      },
      "source": [
        "<a href=\"https://colab.research.google.com/github/N-Daiya/DeepLearning/blob/HW/Assignment7.ipynb\" target=\"_parent\"><img src=\"https://colab.research.google.com/assets/colab-badge.svg\" alt=\"Open In Colab\"/></a>"
      ]
    },
    {
      "cell_type": "code",
      "metadata": {
        "id": "LwuaUGqksJyS",
        "outputId": "b296d5af-2097-44b2-8875-e8f93c66c1c5",
        "colab": {
          "base_uri": "https://localhost:8080/"
        }
      },
      "source": [
        "import keras\n",
        "from keras.datasets import cifar10\n",
        "import numpy as np\n",
        "from keras.utils import to_categorical\n",
        "from keras.models import Sequential\n",
        "from keras.layers import Conv2D, MaxPooling2D, Flatten, Dense, AveragePooling2D, Dropout\n",
        "from keras.optimizers import SGD\n",
        "\n",
        "(x_train,y_train),(x_test,y_test)=cifar10.load_data()\n",
        "\n",
        "print(x_train.shape)\n",
        "print(y_train.shape)\n",
        "print(x_test.shape)\n",
        "print(y_test.shape)\n",
        "\n",
        "x_train=x_train.astype('float32')\n",
        "x_test=x_test.astype('float32')\n",
        "# Normalize pixel values to be between 0 and 1\n",
        "x_train,x_test=x_train/255.0,x_test/255.0\n",
        "\n",
        "y_train=to_categorical(y_train,10)\n",
        "y_test=to_categorical(y_test,10)\n",
        "\n",
        "    "
      ],
      "execution_count": 1,
      "outputs": [
        {
          "output_type": "stream",
          "text": [
            "Downloading data from https://www.cs.toronto.edu/~kriz/cifar-10-python.tar.gz\n",
            "170500096/170498071 [==============================] - 11s 0us/step\n",
            "(50000, 32, 32, 3)\n",
            "(50000, 1)\n",
            "(10000, 32, 32, 3)\n",
            "(10000, 1)\n"
          ],
          "name": "stdout"
        }
      ]
    },
    {
      "cell_type": "markdown",
      "metadata": {
        "id": "m-BIWxI0LLpI"
      },
      "source": [
        "LeNeT-5"
      ]
    },
    {
      "cell_type": "code",
      "metadata": {
        "id": "0eC-m0RVsjye"
      },
      "source": [
        "classifier=Sequential()\n",
        "classifier.add(Conv2D(filters=6,kernel_size=(5,5),strides=(1,1),padding=\"valid\",activation=\"sigmoid\",input_shape=(32,32,3)))\n",
        "classifier.add(MaxPooling2D(pool_size=(2,2)))\n",
        "classifier.add(Conv2D(filters=16,kernel_size=(5,5),strides=(1,1),padding=\"valid\",activation=\"sigmoid\"))\n",
        "classifier.add(MaxPooling2D(pool_size=(2,2)))\n",
        "classifier.add(Flatten())\n",
        "classifier.add(Dense(units=120,activation='sigmoid'))\n",
        "classifier.add(Dense(units=84,activation='sigmoid'))\n",
        "classifier.add(Dense(units=10,activation='softmax'))\n",
        "\n",
        "classifier.compile(loss='mse',metrics=['accuracy'],optimizer='adam')"
      ],
      "execution_count": 2,
      "outputs": []
    },
    {
      "cell_type": "code",
      "metadata": {
        "id": "3LXrEyePssSM",
        "outputId": "c22354ae-a84f-47a4-fe5f-3a18b0543fbc",
        "colab": {
          "base_uri": "https://localhost:8080/"
        }
      },
      "source": [
        "classifier.fit(x_train,y_train,epochs=100,batch_size=32,steps_per_epoch=100,validation_split=0.2)"
      ],
      "execution_count": 3,
      "outputs": [
        {
          "output_type": "stream",
          "text": [
            "Epoch 1/100\n",
            "100/100 [==============================] - 6s 63ms/step - loss: 0.0905 - accuracy: 0.0984 - val_loss: 0.0903 - val_accuracy: 0.0952\n",
            "Epoch 2/100\n",
            "100/100 [==============================] - 9s 94ms/step - loss: 0.0902 - accuracy: 0.1034 - val_loss: 0.0901 - val_accuracy: 0.1059\n",
            "Epoch 3/100\n",
            "100/100 [==============================] - 6s 62ms/step - loss: 0.0900 - accuracy: 0.1122 - val_loss: 0.0895 - val_accuracy: 0.1314\n",
            "Epoch 4/100\n",
            "100/100 [==============================] - 6s 60ms/step - loss: 0.0881 - accuracy: 0.1737 - val_loss: 0.0866 - val_accuracy: 0.1682\n",
            "Epoch 5/100\n",
            "100/100 [==============================] - 6s 60ms/step - loss: 0.0862 - accuracy: 0.1931 - val_loss: 0.0854 - val_accuracy: 0.2119\n",
            "Epoch 6/100\n",
            "100/100 [==============================] - 6s 60ms/step - loss: 0.0850 - accuracy: 0.2234 - val_loss: 0.0851 - val_accuracy: 0.2285\n",
            "Epoch 7/100\n",
            "100/100 [==============================] - 6s 60ms/step - loss: 0.0847 - accuracy: 0.2334 - val_loss: 0.0847 - val_accuracy: 0.2333\n",
            "Epoch 8/100\n",
            "100/100 [==============================] - 6s 60ms/step - loss: 0.0843 - accuracy: 0.2381 - val_loss: 0.0842 - val_accuracy: 0.2287\n",
            "Epoch 9/100\n",
            "100/100 [==============================] - 6s 60ms/step - loss: 0.0840 - accuracy: 0.2384 - val_loss: 0.0839 - val_accuracy: 0.2391\n",
            "Epoch 10/100\n",
            "100/100 [==============================] - 6s 61ms/step - loss: 0.0841 - accuracy: 0.2528 - val_loss: 0.0834 - val_accuracy: 0.2608\n",
            "Epoch 11/100\n",
            "100/100 [==============================] - 6s 60ms/step - loss: 0.0837 - accuracy: 0.2581 - val_loss: 0.0834 - val_accuracy: 0.2511\n",
            "Epoch 12/100\n",
            "100/100 [==============================] - 6s 60ms/step - loss: 0.0832 - accuracy: 0.2587 - val_loss: 0.0827 - val_accuracy: 0.2610\n",
            "Epoch 13/100\n",
            "100/100 [==============================] - 6s 60ms/step - loss: 0.0827 - accuracy: 0.2628 - val_loss: 0.0829 - val_accuracy: 0.2726\n",
            "Epoch 14/100\n",
            "100/100 [==============================] - 6s 60ms/step - loss: 0.0827 - accuracy: 0.2706 - val_loss: 0.0826 - val_accuracy: 0.2707\n",
            "Epoch 15/100\n",
            "100/100 [==============================] - 6s 61ms/step - loss: 0.0825 - accuracy: 0.2703 - val_loss: 0.0825 - val_accuracy: 0.2704\n",
            "Epoch 16/100\n",
            "100/100 [==============================] - 6s 61ms/step - loss: 0.0828 - accuracy: 0.2634 - val_loss: 0.0821 - val_accuracy: 0.2734\n",
            "Epoch 17/100\n",
            "100/100 [==============================] - 6s 61ms/step - loss: 0.0813 - accuracy: 0.2831 - val_loss: 0.0819 - val_accuracy: 0.2836\n",
            "Epoch 18/100\n",
            "100/100 [==============================] - 6s 61ms/step - loss: 0.0820 - accuracy: 0.2766 - val_loss: 0.0818 - val_accuracy: 0.2855\n",
            "Epoch 19/100\n",
            "100/100 [==============================] - 6s 61ms/step - loss: 0.0810 - accuracy: 0.2916 - val_loss: 0.0817 - val_accuracy: 0.2827\n",
            "Epoch 20/100\n",
            "100/100 [==============================] - 6s 61ms/step - loss: 0.0815 - accuracy: 0.2931 - val_loss: 0.0813 - val_accuracy: 0.2916\n",
            "Epoch 21/100\n",
            "100/100 [==============================] - 6s 61ms/step - loss: 0.0817 - accuracy: 0.2778 - val_loss: 0.0813 - val_accuracy: 0.2872\n",
            "Epoch 22/100\n",
            "100/100 [==============================] - 6s 61ms/step - loss: 0.0802 - accuracy: 0.3050 - val_loss: 0.0816 - val_accuracy: 0.2871\n",
            "Epoch 23/100\n",
            "100/100 [==============================] - 6s 61ms/step - loss: 0.0814 - accuracy: 0.2872 - val_loss: 0.0804 - val_accuracy: 0.3190\n",
            "Epoch 24/100\n",
            "100/100 [==============================] - 6s 61ms/step - loss: 0.0802 - accuracy: 0.3088 - val_loss: 0.0800 - val_accuracy: 0.3176\n",
            "Epoch 25/100\n",
            "100/100 [==============================] - 6s 61ms/step - loss: 0.0795 - accuracy: 0.3269 - val_loss: 0.0796 - val_accuracy: 0.3144\n",
            "Epoch 26/100\n",
            "100/100 [==============================] - 6s 61ms/step - loss: 0.0795 - accuracy: 0.3175 - val_loss: 0.0790 - val_accuracy: 0.3233\n",
            "Epoch 27/100\n",
            "100/100 [==============================] - 6s 61ms/step - loss: 0.0783 - accuracy: 0.3347 - val_loss: 0.0783 - val_accuracy: 0.3295\n",
            "Epoch 28/100\n",
            "100/100 [==============================] - 6s 61ms/step - loss: 0.0781 - accuracy: 0.3341 - val_loss: 0.0780 - val_accuracy: 0.3391\n",
            "Epoch 29/100\n",
            "100/100 [==============================] - 6s 61ms/step - loss: 0.0781 - accuracy: 0.3319 - val_loss: 0.0776 - val_accuracy: 0.3500\n",
            "Epoch 30/100\n",
            "100/100 [==============================] - 6s 61ms/step - loss: 0.0781 - accuracy: 0.3409 - val_loss: 0.0778 - val_accuracy: 0.3427\n",
            "Epoch 31/100\n",
            "100/100 [==============================] - 6s 61ms/step - loss: 0.0776 - accuracy: 0.3522 - val_loss: 0.0775 - val_accuracy: 0.3461\n",
            "Epoch 32/100\n",
            "100/100 [==============================] - 6s 61ms/step - loss: 0.0764 - accuracy: 0.3575 - val_loss: 0.0765 - val_accuracy: 0.3592\n",
            "Epoch 33/100\n",
            "100/100 [==============================] - 6s 61ms/step - loss: 0.0762 - accuracy: 0.3609 - val_loss: 0.0762 - val_accuracy: 0.3680\n",
            "Epoch 34/100\n",
            "100/100 [==============================] - 6s 61ms/step - loss: 0.0758 - accuracy: 0.3700 - val_loss: 0.0769 - val_accuracy: 0.3524\n",
            "Epoch 35/100\n",
            "100/100 [==============================] - 6s 62ms/step - loss: 0.0760 - accuracy: 0.3647 - val_loss: 0.0758 - val_accuracy: 0.3654\n",
            "Epoch 36/100\n",
            "100/100 [==============================] - 6s 62ms/step - loss: 0.0761 - accuracy: 0.3684 - val_loss: 0.0760 - val_accuracy: 0.3653\n",
            "Epoch 37/100\n",
            "100/100 [==============================] - 6s 61ms/step - loss: 0.0749 - accuracy: 0.3803 - val_loss: 0.0751 - val_accuracy: 0.3760\n",
            "Epoch 38/100\n",
            "100/100 [==============================] - 6s 61ms/step - loss: 0.0745 - accuracy: 0.3819 - val_loss: 0.0753 - val_accuracy: 0.3703\n",
            "Epoch 39/100\n",
            "100/100 [==============================] - 6s 61ms/step - loss: 0.0759 - accuracy: 0.3753 - val_loss: 0.0746 - val_accuracy: 0.3831\n",
            "Epoch 40/100\n",
            "100/100 [==============================] - 6s 61ms/step - loss: 0.0752 - accuracy: 0.3688 - val_loss: 0.0754 - val_accuracy: 0.3728\n",
            "Epoch 41/100\n",
            "100/100 [==============================] - 6s 61ms/step - loss: 0.0730 - accuracy: 0.4013 - val_loss: 0.0746 - val_accuracy: 0.3795\n",
            "Epoch 42/100\n",
            "100/100 [==============================] - 6s 61ms/step - loss: 0.0746 - accuracy: 0.3762 - val_loss: 0.0744 - val_accuracy: 0.3869\n",
            "Epoch 43/100\n",
            "100/100 [==============================] - 6s 61ms/step - loss: 0.0746 - accuracy: 0.3828 - val_loss: 0.0743 - val_accuracy: 0.3817\n",
            "Epoch 44/100\n",
            "100/100 [==============================] - 6s 61ms/step - loss: 0.0738 - accuracy: 0.3875 - val_loss: 0.0750 - val_accuracy: 0.3748\n",
            "Epoch 45/100\n",
            "100/100 [==============================] - 6s 61ms/step - loss: 0.0738 - accuracy: 0.3950 - val_loss: 0.0735 - val_accuracy: 0.3976\n",
            "Epoch 46/100\n",
            "100/100 [==============================] - 6s 61ms/step - loss: 0.0738 - accuracy: 0.3950 - val_loss: 0.0734 - val_accuracy: 0.3972\n",
            "Epoch 47/100\n",
            "100/100 [==============================] - 6s 61ms/step - loss: 0.0727 - accuracy: 0.3963 - val_loss: 0.0735 - val_accuracy: 0.3997\n",
            "Epoch 48/100\n",
            "100/100 [==============================] - 6s 61ms/step - loss: 0.0733 - accuracy: 0.3994 - val_loss: 0.0729 - val_accuracy: 0.3972\n",
            "Epoch 49/100\n",
            "100/100 [==============================] - 6s 61ms/step - loss: 0.0728 - accuracy: 0.3994 - val_loss: 0.0730 - val_accuracy: 0.3969\n",
            "Epoch 50/100\n",
            "100/100 [==============================] - 6s 61ms/step - loss: 0.0726 - accuracy: 0.4125 - val_loss: 0.0725 - val_accuracy: 0.4078\n",
            "Epoch 51/100\n",
            "100/100 [==============================] - 6s 61ms/step - loss: 0.0715 - accuracy: 0.4206 - val_loss: 0.0721 - val_accuracy: 0.4109\n",
            "Epoch 52/100\n",
            "100/100 [==============================] - 6s 62ms/step - loss: 0.0716 - accuracy: 0.4097 - val_loss: 0.0734 - val_accuracy: 0.3965\n",
            "Epoch 53/100\n",
            "100/100 [==============================] - 6s 61ms/step - loss: 0.0712 - accuracy: 0.4178 - val_loss: 0.0721 - val_accuracy: 0.4096\n",
            "Epoch 54/100\n",
            "100/100 [==============================] - 6s 61ms/step - loss: 0.0729 - accuracy: 0.3969 - val_loss: 0.0727 - val_accuracy: 0.4051\n",
            "Epoch 55/100\n",
            "100/100 [==============================] - 6s 61ms/step - loss: 0.0719 - accuracy: 0.3975 - val_loss: 0.0715 - val_accuracy: 0.4203\n",
            "Epoch 56/100\n",
            "100/100 [==============================] - 6s 61ms/step - loss: 0.0712 - accuracy: 0.4306 - val_loss: 0.0718 - val_accuracy: 0.4122\n",
            "Epoch 57/100\n",
            "100/100 [==============================] - 6s 61ms/step - loss: 0.0715 - accuracy: 0.4219 - val_loss: 0.0727 - val_accuracy: 0.4042\n",
            "Epoch 58/100\n",
            "100/100 [==============================] - 6s 61ms/step - loss: 0.0712 - accuracy: 0.4263 - val_loss: 0.0719 - val_accuracy: 0.4089\n",
            "Epoch 59/100\n",
            "100/100 [==============================] - 6s 61ms/step - loss: 0.0707 - accuracy: 0.4247 - val_loss: 0.0732 - val_accuracy: 0.3990\n",
            "Epoch 60/100\n",
            "100/100 [==============================] - 6s 61ms/step - loss: 0.0714 - accuracy: 0.4131 - val_loss: 0.0720 - val_accuracy: 0.4083\n",
            "Epoch 61/100\n",
            "100/100 [==============================] - 6s 61ms/step - loss: 0.0706 - accuracy: 0.4334 - val_loss: 0.0711 - val_accuracy: 0.4202\n",
            "Epoch 62/100\n",
            "100/100 [==============================] - 6s 61ms/step - loss: 0.0707 - accuracy: 0.4228 - val_loss: 0.0705 - val_accuracy: 0.4280\n",
            "Epoch 63/100\n",
            "100/100 [==============================] - 6s 61ms/step - loss: 0.0708 - accuracy: 0.4316 - val_loss: 0.0711 - val_accuracy: 0.4175\n",
            "Epoch 64/100\n",
            "100/100 [==============================] - 6s 61ms/step - loss: 0.0709 - accuracy: 0.4181 - val_loss: 0.0722 - val_accuracy: 0.4038\n",
            "Epoch 65/100\n",
            "100/100 [==============================] - 6s 61ms/step - loss: 0.0707 - accuracy: 0.4275 - val_loss: 0.0704 - val_accuracy: 0.4231\n",
            "Epoch 66/100\n",
            "100/100 [==============================] - 6s 61ms/step - loss: 0.0688 - accuracy: 0.4497 - val_loss: 0.0707 - val_accuracy: 0.4242\n",
            "Epoch 67/100\n",
            "100/100 [==============================] - 6s 61ms/step - loss: 0.0687 - accuracy: 0.4441 - val_loss: 0.0703 - val_accuracy: 0.4254\n",
            "Epoch 68/100\n",
            "100/100 [==============================] - 6s 61ms/step - loss: 0.0698 - accuracy: 0.4428 - val_loss: 0.0697 - val_accuracy: 0.4334\n",
            "Epoch 69/100\n",
            "100/100 [==============================] - 6s 61ms/step - loss: 0.0692 - accuracy: 0.4319 - val_loss: 0.0693 - val_accuracy: 0.4388\n",
            "Epoch 70/100\n",
            "100/100 [==============================] - 6s 61ms/step - loss: 0.0698 - accuracy: 0.4356 - val_loss: 0.0703 - val_accuracy: 0.4262\n",
            "Epoch 71/100\n",
            "100/100 [==============================] - 6s 61ms/step - loss: 0.0691 - accuracy: 0.4431 - val_loss: 0.0693 - val_accuracy: 0.4396\n",
            "Epoch 72/100\n",
            "100/100 [==============================] - 6s 61ms/step - loss: 0.0686 - accuracy: 0.4531 - val_loss: 0.0692 - val_accuracy: 0.4424\n",
            "Epoch 73/100\n",
            "100/100 [==============================] - 6s 61ms/step - loss: 0.0687 - accuracy: 0.4450 - val_loss: 0.0688 - val_accuracy: 0.4427\n",
            "Epoch 74/100\n",
            "100/100 [==============================] - 6s 61ms/step - loss: 0.0679 - accuracy: 0.4641 - val_loss: 0.0690 - val_accuracy: 0.4391\n",
            "Epoch 75/100\n",
            "100/100 [==============================] - 6s 61ms/step - loss: 0.0684 - accuracy: 0.4472 - val_loss: 0.0691 - val_accuracy: 0.4410\n",
            "Epoch 76/100\n",
            "100/100 [==============================] - 6s 61ms/step - loss: 0.0672 - accuracy: 0.4591 - val_loss: 0.0685 - val_accuracy: 0.4465\n",
            "Epoch 77/100\n",
            "100/100 [==============================] - 6s 61ms/step - loss: 0.0675 - accuracy: 0.4606 - val_loss: 0.0691 - val_accuracy: 0.4440\n",
            "Epoch 78/100\n",
            "100/100 [==============================] - 6s 61ms/step - loss: 0.0681 - accuracy: 0.4509 - val_loss: 0.0691 - val_accuracy: 0.4382\n",
            "Epoch 79/100\n",
            "100/100 [==============================] - 6s 61ms/step - loss: 0.0682 - accuracy: 0.4475 - val_loss: 0.0707 - val_accuracy: 0.4228\n",
            "Epoch 80/100\n",
            "100/100 [==============================] - 6s 61ms/step - loss: 0.0676 - accuracy: 0.4638 - val_loss: 0.0683 - val_accuracy: 0.4472\n",
            "Epoch 81/100\n",
            "100/100 [==============================] - 6s 61ms/step - loss: 0.0670 - accuracy: 0.4650 - val_loss: 0.0679 - val_accuracy: 0.4518\n",
            "Epoch 82/100\n",
            "100/100 [==============================] - 6s 61ms/step - loss: 0.0690 - accuracy: 0.4472 - val_loss: 0.0684 - val_accuracy: 0.4434\n",
            "Epoch 83/100\n",
            "100/100 [==============================] - 6s 61ms/step - loss: 0.0667 - accuracy: 0.4656 - val_loss: 0.0683 - val_accuracy: 0.4464\n",
            "Epoch 84/100\n",
            "100/100 [==============================] - 6s 61ms/step - loss: 0.0678 - accuracy: 0.4550 - val_loss: 0.0676 - val_accuracy: 0.4543\n",
            "Epoch 85/100\n",
            "100/100 [==============================] - 6s 61ms/step - loss: 0.0681 - accuracy: 0.4528 - val_loss: 0.0677 - val_accuracy: 0.4575\n",
            "Epoch 86/100\n",
            "100/100 [==============================] - 6s 62ms/step - loss: 0.0669 - accuracy: 0.4616 - val_loss: 0.0675 - val_accuracy: 0.4598\n",
            "Epoch 87/100\n",
            "100/100 [==============================] - 6s 62ms/step - loss: 0.0673 - accuracy: 0.4556 - val_loss: 0.0683 - val_accuracy: 0.4503\n",
            "Epoch 88/100\n",
            "100/100 [==============================] - 6s 62ms/step - loss: 0.0678 - accuracy: 0.4584 - val_loss: 0.0675 - val_accuracy: 0.4619\n",
            "Epoch 89/100\n",
            "100/100 [==============================] - 6s 61ms/step - loss: 0.0652 - accuracy: 0.4856 - val_loss: 0.0675 - val_accuracy: 0.4549\n",
            "Epoch 90/100\n",
            "100/100 [==============================] - 6s 61ms/step - loss: 0.0656 - accuracy: 0.4803 - val_loss: 0.0682 - val_accuracy: 0.4518\n",
            "Epoch 91/100\n",
            "100/100 [==============================] - 6s 61ms/step - loss: 0.0654 - accuracy: 0.4800 - val_loss: 0.0674 - val_accuracy: 0.4530\n",
            "Epoch 92/100\n",
            "100/100 [==============================] - 6s 61ms/step - loss: 0.0658 - accuracy: 0.4772 - val_loss: 0.0666 - val_accuracy: 0.4704\n",
            "Epoch 93/100\n",
            "100/100 [==============================] - 6s 61ms/step - loss: 0.0658 - accuracy: 0.4806 - val_loss: 0.0669 - val_accuracy: 0.4643\n",
            "Epoch 94/100\n",
            "100/100 [==============================] - 6s 61ms/step - loss: 0.0664 - accuracy: 0.4750 - val_loss: 0.0659 - val_accuracy: 0.4774\n",
            "Epoch 95/100\n",
            "100/100 [==============================] - 6s 61ms/step - loss: 0.0657 - accuracy: 0.4750 - val_loss: 0.0661 - val_accuracy: 0.4745\n",
            "Epoch 96/100\n",
            "100/100 [==============================] - 6s 61ms/step - loss: 0.0655 - accuracy: 0.4816 - val_loss: 0.0662 - val_accuracy: 0.4738\n",
            "Epoch 97/100\n",
            "100/100 [==============================] - 6s 61ms/step - loss: 0.0665 - accuracy: 0.4747 - val_loss: 0.0672 - val_accuracy: 0.4593\n",
            "Epoch 98/100\n",
            "100/100 [==============================] - 6s 61ms/step - loss: 0.0661 - accuracy: 0.4900 - val_loss: 0.0659 - val_accuracy: 0.4734\n",
            "Epoch 99/100\n",
            "100/100 [==============================] - 6s 61ms/step - loss: 0.0646 - accuracy: 0.4863 - val_loss: 0.0671 - val_accuracy: 0.4550\n",
            "Epoch 100/100\n",
            "100/100 [==============================] - 7s 68ms/step - loss: 0.0646 - accuracy: 0.4866 - val_loss: 0.0668 - val_accuracy: 0.4651\n"
          ],
          "name": "stdout"
        },
        {
          "output_type": "execute_result",
          "data": {
            "text/plain": [
              "<tensorflow.python.keras.callbacks.History at 0x7fd035627710>"
            ]
          },
          "metadata": {
            "tags": []
          },
          "execution_count": 3
        }
      ]
    },
    {
      "cell_type": "markdown",
      "metadata": {
        "id": "P3zTG1UzMFVx"
      },
      "source": [
        "##AlexNet\n"
      ]
    },
    {
      "cell_type": "code",
      "metadata": {
        "id": "9bL4F3HBLorT"
      },
      "source": [
        "model_alex=Sequential()\n",
        "model_alex.add(Conv2D(filters=96,kernel_size=(11,11),strides=(4,4),padding=\"same\",activation=\"relu\",input_shape=(32,32,3)))\n",
        "#model_alex.add(Conv2D(filters=64,kernel_size=(3,3),strides=(2,2),padding=\"same\",activation=\"relu\"))\n",
        "model_alex.add(MaxPooling2D(pool_size=(2,2), strides=(2,2), padding=\"valid\"))\n",
        "\n",
        "model_alex.add(Conv2D(filters=256,kernel_size=(11,11),strides=(1,1),padding=\"same\",activation=\"relu\"))\n",
        "#model_alex.add(Conv2D(filters=128,kernel_size=(3,3),strides=(2,2),padding=\"same\",activation=\"relu\"))\n",
        "model_alex.add(MaxPooling2D(pool_size=(2,2), strides=(2,2), padding=\"valid\"))\n",
        "\n",
        "model_alex.add(Conv2D(filters=384,kernel_size=(3,3),strides=(1,1),padding=\"same\",activation=\"relu\"))\n",
        "model_alex.add(Conv2D(filters=384,kernel_size=(3,3),strides=(1,1),padding=\"same\",activation=\"relu\"))\n",
        "model_alex.add(Conv2D(filters=256,kernel_size=(3,3),strides=(1,1),padding=\"same\",activation=\"relu\"))\n",
        "model_alex.add(MaxPooling2D(pool_size=(2,2), strides=(2,2), padding=\"valid\"))\n",
        "\n",
        "model_alex.add(Flatten())\n",
        "model_alex.add(Dense(units=4096,input_shape=(32*32*3,),activation='relu'))\n",
        "model_alex.add(Dropout(0.4))\n",
        "model_alex.add(Dense(units=4096,activation='relu'))\n",
        "model_alex.add(Dropout(0.4))\n",
        "model_alex.add(Dense(units=1000,activation='relu'))\n",
        "model_alex.add(Dropout(0.4))\n",
        "model_alex.add(Dense(units=10,activation='softmax'))\n",
        "\n",
        "\n",
        "model_alex.compile(loss='categorical_crossentropy',metrics=['accuracy'],optimizer='adam')"
      ],
      "execution_count": 4,
      "outputs": []
    },
    {
      "cell_type": "code",
      "metadata": {
        "id": "phHQVEijL8LD",
        "outputId": "448fc23a-78b4-4897-913d-6163d949392e",
        "colab": {
          "base_uri": "https://localhost:8080/"
        }
      },
      "source": [
        "steps = int(x_train.shape[0] / 64)\n",
        "model_alex.fit(x_train,y_train,epochs=70,batch_size=32,steps_per_epoch=100,validation_data=(x_test,y_test),verbose = 1)#,steps_per_epoch=1000"
      ],
      "execution_count": 5,
      "outputs": [
        {
          "output_type": "stream",
          "text": [
            "Epoch 1/70\n",
            "100/100 [==============================] - 123s 1s/step - loss: 2.3062 - accuracy: 0.0969 - val_loss: 2.3029 - val_accuracy: 0.1000\n",
            "Epoch 2/70\n",
            "100/100 [==============================] - 123s 1s/step - loss: 2.3036 - accuracy: 0.0916 - val_loss: 2.3029 - val_accuracy: 0.1000\n",
            "Epoch 3/70\n",
            "100/100 [==============================] - 123s 1s/step - loss: 2.3028 - accuracy: 0.1084 - val_loss: 2.3031 - val_accuracy: 0.1000\n",
            "Epoch 4/70\n",
            "100/100 [==============================] - 124s 1s/step - loss: 2.3028 - accuracy: 0.1066 - val_loss: 2.3032 - val_accuracy: 0.1000\n",
            "Epoch 5/70\n",
            "100/100 [==============================] - 128s 1s/step - loss: 2.3025 - accuracy: 0.1100 - val_loss: 2.3033 - val_accuracy: 0.1000\n",
            "Epoch 6/70\n",
            "100/100 [==============================] - 125s 1s/step - loss: 2.3035 - accuracy: 0.0994 - val_loss: 2.3027 - val_accuracy: 0.1000\n",
            "Epoch 7/70\n",
            "100/100 [==============================] - 126s 1s/step - loss: 2.3027 - accuracy: 0.1066 - val_loss: 2.3029 - val_accuracy: 0.1000\n",
            "Epoch 8/70\n",
            "100/100 [==============================] - 125s 1s/step - loss: 2.3033 - accuracy: 0.1028 - val_loss: 2.3027 - val_accuracy: 0.1000\n",
            "Epoch 9/70\n",
            "100/100 [==============================] - 125s 1s/step - loss: 2.3028 - accuracy: 0.1050 - val_loss: 2.3027 - val_accuracy: 0.1000\n",
            "Epoch 10/70\n",
            "100/100 [==============================] - 125s 1s/step - loss: 2.3025 - accuracy: 0.0950 - val_loss: 2.3029 - val_accuracy: 0.1000\n",
            "Epoch 11/70\n",
            "100/100 [==============================] - 125s 1s/step - loss: 2.3027 - accuracy: 0.1031 - val_loss: 2.3029 - val_accuracy: 0.1000\n",
            "Epoch 12/70\n",
            "100/100 [==============================] - 125s 1s/step - loss: 2.3034 - accuracy: 0.1037 - val_loss: 2.3027 - val_accuracy: 0.1000\n",
            "Epoch 13/70\n",
            "100/100 [==============================] - 125s 1s/step - loss: 2.3029 - accuracy: 0.1031 - val_loss: 2.3027 - val_accuracy: 0.1000\n",
            "Epoch 14/70\n",
            "100/100 [==============================] - 127s 1s/step - loss: 2.3033 - accuracy: 0.0903 - val_loss: 2.3027 - val_accuracy: 0.1000\n",
            "Epoch 15/70\n",
            "100/100 [==============================] - 126s 1s/step - loss: 2.3027 - accuracy: 0.0950 - val_loss: 2.3027 - val_accuracy: 0.1000\n",
            "Epoch 16/70\n",
            "100/100 [==============================] - 127s 1s/step - loss: 2.3026 - accuracy: 0.0967 - val_loss: 2.3027 - val_accuracy: 0.1000\n",
            "Epoch 17/70\n",
            "100/100 [==============================] - 127s 1s/step - loss: 2.3029 - accuracy: 0.1050 - val_loss: 2.3028 - val_accuracy: 0.1000\n",
            "Epoch 18/70\n",
            "100/100 [==============================] - 126s 1s/step - loss: 2.3026 - accuracy: 0.0941 - val_loss: 2.3028 - val_accuracy: 0.1000\n",
            "Epoch 19/70\n",
            "100/100 [==============================] - 127s 1s/step - loss: 2.3024 - accuracy: 0.1081 - val_loss: 2.3029 - val_accuracy: 0.1000\n",
            "Epoch 20/70\n",
            "100/100 [==============================] - 126s 1s/step - loss: 2.3035 - accuracy: 0.0941 - val_loss: 2.3027 - val_accuracy: 0.1000\n",
            "Epoch 21/70\n",
            "100/100 [==============================] - 127s 1s/step - loss: 2.3031 - accuracy: 0.0959 - val_loss: 2.3026 - val_accuracy: 0.1000\n",
            "Epoch 22/70\n",
            "100/100 [==============================] - 127s 1s/step - loss: 2.3025 - accuracy: 0.1037 - val_loss: 2.3027 - val_accuracy: 0.1000\n",
            "Epoch 23/70\n",
            "100/100 [==============================] - 125s 1s/step - loss: 2.3033 - accuracy: 0.0897 - val_loss: 2.3026 - val_accuracy: 0.1000\n",
            "Epoch 24/70\n",
            "100/100 [==============================] - 129s 1s/step - loss: 2.3029 - accuracy: 0.0950 - val_loss: 2.3026 - val_accuracy: 0.1000\n",
            "Epoch 25/70\n",
            "100/100 [==============================] - 127s 1s/step - loss: 2.3024 - accuracy: 0.1044 - val_loss: 2.3027 - val_accuracy: 0.1000\n",
            "Epoch 26/70\n",
            "100/100 [==============================] - 126s 1s/step - loss: 2.3029 - accuracy: 0.0981 - val_loss: 2.3027 - val_accuracy: 0.1000\n",
            "Epoch 27/70\n",
            "100/100 [==============================] - 127s 1s/step - loss: 2.3029 - accuracy: 0.0959 - val_loss: 2.3027 - val_accuracy: 0.1000\n",
            "Epoch 28/70\n",
            "100/100 [==============================] - 126s 1s/step - loss: 2.3027 - accuracy: 0.0978 - val_loss: 2.3027 - val_accuracy: 0.1000\n",
            "Epoch 29/70\n",
            "100/100 [==============================] - 132s 1s/step - loss: 2.3030 - accuracy: 0.1022 - val_loss: 2.3027 - val_accuracy: 0.1000\n",
            "Epoch 30/70\n",
            "100/100 [==============================] - 127s 1s/step - loss: 2.3028 - accuracy: 0.1047 - val_loss: 2.3027 - val_accuracy: 0.1000\n",
            "Epoch 31/70\n",
            "100/100 [==============================] - 127s 1s/step - loss: 2.3027 - accuracy: 0.1044 - val_loss: 2.3027 - val_accuracy: 0.1000\n",
            "Epoch 32/70\n",
            "100/100 [==============================] - 127s 1s/step - loss: 2.3029 - accuracy: 0.0948 - val_loss: 2.3026 - val_accuracy: 0.1000\n",
            "Epoch 33/70\n",
            "100/100 [==============================] - 127s 1s/step - loss: 2.3027 - accuracy: 0.1003 - val_loss: 2.3027 - val_accuracy: 0.1000\n",
            "Epoch 34/70\n",
            "100/100 [==============================] - 130s 1s/step - loss: 2.3028 - accuracy: 0.0962 - val_loss: 2.3026 - val_accuracy: 0.1000\n",
            "Epoch 35/70\n",
            "100/100 [==============================] - 127s 1s/step - loss: 2.3027 - accuracy: 0.0966 - val_loss: 2.3027 - val_accuracy: 0.1000\n",
            "Epoch 36/70\n",
            "100/100 [==============================] - 127s 1s/step - loss: 2.3029 - accuracy: 0.0938 - val_loss: 2.3026 - val_accuracy: 0.1000\n",
            "Epoch 37/70\n",
            "100/100 [==============================] - 127s 1s/step - loss: 2.3027 - accuracy: 0.1003 - val_loss: 2.3026 - val_accuracy: 0.1000\n",
            "Epoch 38/70\n",
            "100/100 [==============================] - 126s 1s/step - loss: 2.3028 - accuracy: 0.1028 - val_loss: 2.3027 - val_accuracy: 0.1000\n",
            "Epoch 39/70\n",
            "100/100 [==============================] - 129s 1s/step - loss: 2.3027 - accuracy: 0.1000 - val_loss: 2.3027 - val_accuracy: 0.1000\n",
            "Epoch 40/70\n",
            "100/100 [==============================] - 127s 1s/step - loss: 2.3029 - accuracy: 0.0909 - val_loss: 2.3026 - val_accuracy: 0.1000\n",
            "Epoch 41/70\n",
            "100/100 [==============================] - 127s 1s/step - loss: 2.3028 - accuracy: 0.1022 - val_loss: 2.3026 - val_accuracy: 0.1000\n",
            "Epoch 42/70\n",
            "100/100 [==============================] - 127s 1s/step - loss: 2.3024 - accuracy: 0.1047 - val_loss: 2.3027 - val_accuracy: 0.1000\n",
            "Epoch 43/70\n",
            "100/100 [==============================] - 127s 1s/step - loss: 2.3031 - accuracy: 0.0991 - val_loss: 2.3026 - val_accuracy: 0.1000\n",
            "Epoch 44/70\n",
            "100/100 [==============================] - 126s 1s/step - loss: 2.3029 - accuracy: 0.0975 - val_loss: 2.3026 - val_accuracy: 0.1000\n",
            "Epoch 45/70\n",
            "100/100 [==============================] - 126s 1s/step - loss: 2.3024 - accuracy: 0.0966 - val_loss: 2.3027 - val_accuracy: 0.1000\n",
            "Epoch 46/70\n",
            "100/100 [==============================] - 127s 1s/step - loss: 2.3029 - accuracy: 0.1009 - val_loss: 2.3027 - val_accuracy: 0.1000\n",
            "Epoch 47/70\n",
            "100/100 [==============================] - 125s 1s/step - loss: 2.3028 - accuracy: 0.0901 - val_loss: 2.3027 - val_accuracy: 0.1000\n",
            "Epoch 48/70\n",
            "100/100 [==============================] - 126s 1s/step - loss: 2.3029 - accuracy: 0.0975 - val_loss: 2.3026 - val_accuracy: 0.1000\n",
            "Epoch 49/70\n",
            "100/100 [==============================] - 126s 1s/step - loss: 2.3030 - accuracy: 0.0988 - val_loss: 2.3026 - val_accuracy: 0.1000\n",
            "Epoch 50/70\n",
            "100/100 [==============================] - 125s 1s/step - loss: 2.3026 - accuracy: 0.1044 - val_loss: 2.3026 - val_accuracy: 0.1000\n",
            "Epoch 51/70\n",
            "100/100 [==============================] - 125s 1s/step - loss: 2.3027 - accuracy: 0.1003 - val_loss: 2.3027 - val_accuracy: 0.1000\n",
            "Epoch 52/70\n",
            "100/100 [==============================] - 126s 1s/step - loss: 2.3024 - accuracy: 0.1044 - val_loss: 2.3027 - val_accuracy: 0.1000\n",
            "Epoch 53/70\n",
            "100/100 [==============================] - 126s 1s/step - loss: 2.3029 - accuracy: 0.1028 - val_loss: 2.3027 - val_accuracy: 0.1000\n",
            "Epoch 54/70\n",
            "100/100 [==============================] - 126s 1s/step - loss: 2.3028 - accuracy: 0.1013 - val_loss: 2.3027 - val_accuracy: 0.1000\n",
            "Epoch 55/70\n",
            "100/100 [==============================] - 127s 1s/step - loss: 2.3031 - accuracy: 0.0947 - val_loss: 2.3026 - val_accuracy: 0.1000\n",
            "Epoch 56/70\n",
            "100/100 [==============================] - 127s 1s/step - loss: 2.3028 - accuracy: 0.0978 - val_loss: 2.3026 - val_accuracy: 0.1000\n",
            "Epoch 57/70\n",
            "100/100 [==============================] - 129s 1s/step - loss: 2.3028 - accuracy: 0.0994 - val_loss: 2.3026 - val_accuracy: 0.1000\n",
            "Epoch 58/70\n",
            "100/100 [==============================] - 127s 1s/step - loss: 2.3029 - accuracy: 0.0972 - val_loss: 2.3026 - val_accuracy: 0.1000\n",
            "Epoch 59/70\n",
            "100/100 [==============================] - 127s 1s/step - loss: 2.3029 - accuracy: 0.0959 - val_loss: 2.3026 - val_accuracy: 0.1000\n",
            "Epoch 60/70\n",
            "100/100 [==============================] - 126s 1s/step - loss: 2.3026 - accuracy: 0.1066 - val_loss: 2.3026 - val_accuracy: 0.1000\n",
            "Epoch 61/70\n",
            "100/100 [==============================] - 126s 1s/step - loss: 2.3028 - accuracy: 0.1000 - val_loss: 2.3026 - val_accuracy: 0.1000\n",
            "Epoch 62/70\n",
            "100/100 [==============================] - 128s 1s/step - loss: 2.3028 - accuracy: 0.0972 - val_loss: 2.3026 - val_accuracy: 0.1000\n",
            "Epoch 63/70\n",
            "100/100 [==============================] - 125s 1s/step - loss: 2.3025 - accuracy: 0.1055 - val_loss: 2.3027 - val_accuracy: 0.1000\n",
            "Epoch 64/70\n",
            "100/100 [==============================] - 125s 1s/step - loss: 2.3032 - accuracy: 0.0916 - val_loss: 2.3026 - val_accuracy: 0.1000\n",
            "Epoch 65/70\n",
            "100/100 [==============================] - 125s 1s/step - loss: 2.3029 - accuracy: 0.0972 - val_loss: 2.3026 - val_accuracy: 0.1000\n",
            "Epoch 66/70\n",
            "100/100 [==============================] - 124s 1s/step - loss: 2.3026 - accuracy: 0.0947 - val_loss: 2.3026 - val_accuracy: 0.1000\n",
            "Epoch 67/70\n",
            "100/100 [==============================] - 127s 1s/step - loss: 2.3028 - accuracy: 0.1009 - val_loss: 2.3027 - val_accuracy: 0.1000\n",
            "Epoch 68/70\n",
            "100/100 [==============================] - 126s 1s/step - loss: 2.3028 - accuracy: 0.1050 - val_loss: 2.3026 - val_accuracy: 0.1000\n",
            "Epoch 69/70\n",
            "100/100 [==============================] - 125s 1s/step - loss: 2.3027 - accuracy: 0.1047 - val_loss: 2.3027 - val_accuracy: 0.1000\n",
            "Epoch 70/70\n",
            "100/100 [==============================] - 126s 1s/step - loss: 2.3032 - accuracy: 0.0853 - val_loss: 2.3026 - val_accuracy: 0.1000\n"
          ],
          "name": "stdout"
        },
        {
          "output_type": "execute_result",
          "data": {
            "text/plain": [
              "<tensorflow.python.keras.callbacks.History at 0x7fd031e525c0>"
            ]
          },
          "metadata": {
            "tags": []
          },
          "execution_count": 5
        }
      ]
    },
    {
      "cell_type": "markdown",
      "metadata": {
        "id": "3xOsi5ejL-Ds"
      },
      "source": [
        "##VGG-16"
      ]
    },
    {
      "cell_type": "code",
      "metadata": {
        "id": "VBMTNfPfswQA"
      },
      "source": [
        "model_vgg=Sequential()\n",
        "\n",
        "model_vgg.add(Conv2D(filters=64,kernel_size=(3,3),strides=(2,2),padding=\"same\",activation=\"relu\",input_shape=(32,32,3)))\n",
        "model_vgg.add(Conv2D(filters=64,kernel_size=(3,3),strides=(2,2),padding=\"same\",activation=\"relu\"))\n",
        "model_vgg.add(MaxPooling2D(pool_size=(2,2)))\n",
        "\n",
        "model_vgg.add(Conv2D(filters=128,kernel_size=(3,3),strides=(2,2),padding=\"same\",activation=\"relu\"))\n",
        "model_vgg.add(Conv2D(filters=128,kernel_size=(3,3),strides=(2,2),padding=\"same\",activation=\"relu\"))\n",
        "model_vgg.add(MaxPooling2D(pool_size=(2,2),padding=\"same\"))\n",
        "\n",
        "model_vgg.add(Conv2D(filters=256,kernel_size=(3,3),strides=(2,2),padding=\"same\",activation=\"relu\"))\n",
        "model_vgg.add(Conv2D(filters=256,kernel_size=(3,3),strides=(2,2),padding=\"same\",activation=\"relu\"))\n",
        "model_vgg.add(Conv2D(filters=256,kernel_size=(3,3),strides=(2,2),padding=\"same\",activation=\"relu\"))\n",
        "model_vgg.add(MaxPooling2D(pool_size=(2,2),padding=\"same\"))\n",
        "\n",
        "model_vgg.add(Conv2D(filters=512,kernel_size=(3,3),strides=(1,1),padding=\"same\",activation=\"relu\"))\n",
        "model_vgg.add(Conv2D(filters=512,kernel_size=(3,3),strides=(1,1),padding=\"same\",activation=\"relu\"))\n",
        "model_vgg.add(Conv2D(filters=512,kernel_size=(3,3),strides=(1,1),padding=\"same\",activation=\"relu\"))\n",
        "model_vgg.add(MaxPooling2D(pool_size=(2,2),padding=\"same\"))\n",
        "\n",
        "model_vgg.add(Conv2D(filters=512,kernel_size=(3,3),strides=(1,1),padding=\"same\",activation=\"relu\"))\n",
        "model_vgg.add(Conv2D(filters=512,kernel_size=(3,3),strides=(1,1),padding=\"same\",activation=\"relu\"))\n",
        "model_vgg.add(Conv2D(filters=512,kernel_size=(3,3),strides=(1,1),padding=\"same\",activation=\"relu\"))\n",
        "model_vgg.add(MaxPooling2D(pool_size=(2,2),padding=\"same\"))\n",
        "model_vgg.add(Flatten())\n",
        "model_vgg.add(Dense(units=128,activation='relu'))\n",
        "#model_vgg.add(Dense(units=64,activation='relu'))\n",
        "model_vgg.add(Dense(units=10,activation='softmax'))\n",
        "\n",
        "opt = SGD(lr = 0.1, momentum = 0.7)\n",
        "model_vgg.compile(loss='categorical_crossentropy',metrics=['accuracy'],optimizer=opt)"
      ],
      "execution_count": 7,
      "outputs": []
    },
    {
      "cell_type": "code",
      "metadata": {
        "id": "-zVsZz3hQ2-0",
        "outputId": "e20e7115-dc72-4885-f9b5-a0bee6a33d7c",
        "colab": {
          "base_uri": "https://localhost:8080/",
          "height": 349
        }
      },
      "source": [
        "steps = int(x_train.shape[0] / 64)\n",
        "model_vgg.fit(x_train,y_train,epochs=50,batch_size=32,steps_per_epoch=steps,validation_data=(x_test,y_test),verbose = 1)"
      ],
      "execution_count": 8,
      "outputs": [
        {
          "output_type": "stream",
          "text": [
            "263/781 [=========>....................] - ETA: 11:14 - loss: 2.3047 - accuracy: 0.0993"
          ],
          "name": "stdout"
        },
        {
          "output_type": "error",
          "ename": "KeyboardInterrupt",
          "evalue": "ignored",
          "traceback": [
            "\u001b[0;31m---------------------------------------------------------------------------\u001b[0m",
            "\u001b[0;31mKeyboardInterrupt\u001b[0m                         Traceback (most recent call last)",
            "\u001b[0;32m<ipython-input-8-c9daf2d962c5>\u001b[0m in \u001b[0;36m<module>\u001b[0;34m()\u001b[0m\n\u001b[1;32m      1\u001b[0m \u001b[0msteps\u001b[0m \u001b[0;34m=\u001b[0m \u001b[0mint\u001b[0m\u001b[0;34m(\u001b[0m\u001b[0mx_train\u001b[0m\u001b[0;34m.\u001b[0m\u001b[0mshape\u001b[0m\u001b[0;34m[\u001b[0m\u001b[0;36m0\u001b[0m\u001b[0;34m]\u001b[0m \u001b[0;34m/\u001b[0m \u001b[0;36m64\u001b[0m\u001b[0;34m)\u001b[0m\u001b[0;34m\u001b[0m\u001b[0;34m\u001b[0m\u001b[0m\n\u001b[0;32m----> 2\u001b[0;31m \u001b[0mmodel_vgg\u001b[0m\u001b[0;34m.\u001b[0m\u001b[0mfit\u001b[0m\u001b[0;34m(\u001b[0m\u001b[0mx_train\u001b[0m\u001b[0;34m,\u001b[0m\u001b[0my_train\u001b[0m\u001b[0;34m,\u001b[0m\u001b[0mepochs\u001b[0m\u001b[0;34m=\u001b[0m\u001b[0;36m50\u001b[0m\u001b[0;34m,\u001b[0m\u001b[0mbatch_size\u001b[0m\u001b[0;34m=\u001b[0m\u001b[0;36m32\u001b[0m\u001b[0;34m,\u001b[0m\u001b[0msteps_per_epoch\u001b[0m\u001b[0;34m=\u001b[0m\u001b[0msteps\u001b[0m\u001b[0;34m,\u001b[0m\u001b[0mvalidation_data\u001b[0m\u001b[0;34m=\u001b[0m\u001b[0;34m(\u001b[0m\u001b[0mx_test\u001b[0m\u001b[0;34m,\u001b[0m\u001b[0my_test\u001b[0m\u001b[0;34m)\u001b[0m\u001b[0;34m,\u001b[0m\u001b[0mverbose\u001b[0m \u001b[0;34m=\u001b[0m \u001b[0;36m1\u001b[0m\u001b[0;34m)\u001b[0m\u001b[0;34m\u001b[0m\u001b[0;34m\u001b[0m\u001b[0m\n\u001b[0m",
            "\u001b[0;32m/usr/local/lib/python3.6/dist-packages/tensorflow/python/keras/engine/training.py\u001b[0m in \u001b[0;36m_method_wrapper\u001b[0;34m(self, *args, **kwargs)\u001b[0m\n\u001b[1;32m    106\u001b[0m   \u001b[0;32mdef\u001b[0m \u001b[0m_method_wrapper\u001b[0m\u001b[0;34m(\u001b[0m\u001b[0mself\u001b[0m\u001b[0;34m,\u001b[0m \u001b[0;34m*\u001b[0m\u001b[0margs\u001b[0m\u001b[0;34m,\u001b[0m \u001b[0;34m**\u001b[0m\u001b[0mkwargs\u001b[0m\u001b[0;34m)\u001b[0m\u001b[0;34m:\u001b[0m\u001b[0;34m\u001b[0m\u001b[0;34m\u001b[0m\u001b[0m\n\u001b[1;32m    107\u001b[0m     \u001b[0;32mif\u001b[0m \u001b[0;32mnot\u001b[0m \u001b[0mself\u001b[0m\u001b[0;34m.\u001b[0m\u001b[0m_in_multi_worker_mode\u001b[0m\u001b[0;34m(\u001b[0m\u001b[0;34m)\u001b[0m\u001b[0;34m:\u001b[0m  \u001b[0;31m# pylint: disable=protected-access\u001b[0m\u001b[0;34m\u001b[0m\u001b[0;34m\u001b[0m\u001b[0m\n\u001b[0;32m--> 108\u001b[0;31m       \u001b[0;32mreturn\u001b[0m \u001b[0mmethod\u001b[0m\u001b[0;34m(\u001b[0m\u001b[0mself\u001b[0m\u001b[0;34m,\u001b[0m \u001b[0;34m*\u001b[0m\u001b[0margs\u001b[0m\u001b[0;34m,\u001b[0m \u001b[0;34m**\u001b[0m\u001b[0mkwargs\u001b[0m\u001b[0;34m)\u001b[0m\u001b[0;34m\u001b[0m\u001b[0;34m\u001b[0m\u001b[0m\n\u001b[0m\u001b[1;32m    109\u001b[0m \u001b[0;34m\u001b[0m\u001b[0m\n\u001b[1;32m    110\u001b[0m     \u001b[0;31m# Running inside `run_distribute_coordinator` already.\u001b[0m\u001b[0;34m\u001b[0m\u001b[0;34m\u001b[0m\u001b[0;34m\u001b[0m\u001b[0m\n",
            "\u001b[0;32m/usr/local/lib/python3.6/dist-packages/tensorflow/python/keras/engine/training.py\u001b[0m in \u001b[0;36mfit\u001b[0;34m(self, x, y, batch_size, epochs, verbose, callbacks, validation_split, validation_data, shuffle, class_weight, sample_weight, initial_epoch, steps_per_epoch, validation_steps, validation_batch_size, validation_freq, max_queue_size, workers, use_multiprocessing)\u001b[0m\n\u001b[1;32m   1096\u001b[0m                 batch_size=batch_size):\n\u001b[1;32m   1097\u001b[0m               \u001b[0mcallbacks\u001b[0m\u001b[0;34m.\u001b[0m\u001b[0mon_train_batch_begin\u001b[0m\u001b[0;34m(\u001b[0m\u001b[0mstep\u001b[0m\u001b[0;34m)\u001b[0m\u001b[0;34m\u001b[0m\u001b[0;34m\u001b[0m\u001b[0m\n\u001b[0;32m-> 1098\u001b[0;31m               \u001b[0mtmp_logs\u001b[0m \u001b[0;34m=\u001b[0m \u001b[0mtrain_function\u001b[0m\u001b[0;34m(\u001b[0m\u001b[0miterator\u001b[0m\u001b[0;34m)\u001b[0m\u001b[0;34m\u001b[0m\u001b[0;34m\u001b[0m\u001b[0m\n\u001b[0m\u001b[1;32m   1099\u001b[0m               \u001b[0;32mif\u001b[0m \u001b[0mdata_handler\u001b[0m\u001b[0;34m.\u001b[0m\u001b[0mshould_sync\u001b[0m\u001b[0;34m:\u001b[0m\u001b[0;34m\u001b[0m\u001b[0;34m\u001b[0m\u001b[0m\n\u001b[1;32m   1100\u001b[0m                 \u001b[0mcontext\u001b[0m\u001b[0;34m.\u001b[0m\u001b[0masync_wait\u001b[0m\u001b[0;34m(\u001b[0m\u001b[0;34m)\u001b[0m\u001b[0;34m\u001b[0m\u001b[0;34m\u001b[0m\u001b[0m\n",
            "\u001b[0;32m/usr/local/lib/python3.6/dist-packages/tensorflow/python/eager/def_function.py\u001b[0m in \u001b[0;36m__call__\u001b[0;34m(self, *args, **kwds)\u001b[0m\n\u001b[1;32m    778\u001b[0m       \u001b[0;32melse\u001b[0m\u001b[0;34m:\u001b[0m\u001b[0;34m\u001b[0m\u001b[0;34m\u001b[0m\u001b[0m\n\u001b[1;32m    779\u001b[0m         \u001b[0mcompiler\u001b[0m \u001b[0;34m=\u001b[0m \u001b[0;34m\"nonXla\"\u001b[0m\u001b[0;34m\u001b[0m\u001b[0;34m\u001b[0m\u001b[0m\n\u001b[0;32m--> 780\u001b[0;31m         \u001b[0mresult\u001b[0m \u001b[0;34m=\u001b[0m \u001b[0mself\u001b[0m\u001b[0;34m.\u001b[0m\u001b[0m_call\u001b[0m\u001b[0;34m(\u001b[0m\u001b[0;34m*\u001b[0m\u001b[0margs\u001b[0m\u001b[0;34m,\u001b[0m \u001b[0;34m**\u001b[0m\u001b[0mkwds\u001b[0m\u001b[0;34m)\u001b[0m\u001b[0;34m\u001b[0m\u001b[0;34m\u001b[0m\u001b[0m\n\u001b[0m\u001b[1;32m    781\u001b[0m \u001b[0;34m\u001b[0m\u001b[0m\n\u001b[1;32m    782\u001b[0m       \u001b[0mnew_tracing_count\u001b[0m \u001b[0;34m=\u001b[0m \u001b[0mself\u001b[0m\u001b[0;34m.\u001b[0m\u001b[0m_get_tracing_count\u001b[0m\u001b[0;34m(\u001b[0m\u001b[0;34m)\u001b[0m\u001b[0;34m\u001b[0m\u001b[0;34m\u001b[0m\u001b[0m\n",
            "\u001b[0;32m/usr/local/lib/python3.6/dist-packages/tensorflow/python/eager/def_function.py\u001b[0m in \u001b[0;36m_call\u001b[0;34m(self, *args, **kwds)\u001b[0m\n\u001b[1;32m    805\u001b[0m       \u001b[0;31m# In this case we have created variables on the first call, so we run the\u001b[0m\u001b[0;34m\u001b[0m\u001b[0;34m\u001b[0m\u001b[0;34m\u001b[0m\u001b[0m\n\u001b[1;32m    806\u001b[0m       \u001b[0;31m# defunned version which is guaranteed to never create variables.\u001b[0m\u001b[0;34m\u001b[0m\u001b[0;34m\u001b[0m\u001b[0;34m\u001b[0m\u001b[0m\n\u001b[0;32m--> 807\u001b[0;31m       \u001b[0;32mreturn\u001b[0m \u001b[0mself\u001b[0m\u001b[0;34m.\u001b[0m\u001b[0m_stateless_fn\u001b[0m\u001b[0;34m(\u001b[0m\u001b[0;34m*\u001b[0m\u001b[0margs\u001b[0m\u001b[0;34m,\u001b[0m \u001b[0;34m**\u001b[0m\u001b[0mkwds\u001b[0m\u001b[0;34m)\u001b[0m  \u001b[0;31m# pylint: disable=not-callable\u001b[0m\u001b[0;34m\u001b[0m\u001b[0;34m\u001b[0m\u001b[0m\n\u001b[0m\u001b[1;32m    808\u001b[0m     \u001b[0;32melif\u001b[0m \u001b[0mself\u001b[0m\u001b[0;34m.\u001b[0m\u001b[0m_stateful_fn\u001b[0m \u001b[0;32mis\u001b[0m \u001b[0;32mnot\u001b[0m \u001b[0;32mNone\u001b[0m\u001b[0;34m:\u001b[0m\u001b[0;34m\u001b[0m\u001b[0;34m\u001b[0m\u001b[0m\n\u001b[1;32m    809\u001b[0m       \u001b[0;31m# Release the lock early so that multiple threads can perform the call\u001b[0m\u001b[0;34m\u001b[0m\u001b[0;34m\u001b[0m\u001b[0;34m\u001b[0m\u001b[0m\n",
            "\u001b[0;32m/usr/local/lib/python3.6/dist-packages/tensorflow/python/eager/function.py\u001b[0m in \u001b[0;36m__call__\u001b[0;34m(self, *args, **kwargs)\u001b[0m\n\u001b[1;32m   2827\u001b[0m     \u001b[0;32mwith\u001b[0m \u001b[0mself\u001b[0m\u001b[0;34m.\u001b[0m\u001b[0m_lock\u001b[0m\u001b[0;34m:\u001b[0m\u001b[0;34m\u001b[0m\u001b[0;34m\u001b[0m\u001b[0m\n\u001b[1;32m   2828\u001b[0m       \u001b[0mgraph_function\u001b[0m\u001b[0;34m,\u001b[0m \u001b[0margs\u001b[0m\u001b[0;34m,\u001b[0m \u001b[0mkwargs\u001b[0m \u001b[0;34m=\u001b[0m \u001b[0mself\u001b[0m\u001b[0;34m.\u001b[0m\u001b[0m_maybe_define_function\u001b[0m\u001b[0;34m(\u001b[0m\u001b[0margs\u001b[0m\u001b[0;34m,\u001b[0m \u001b[0mkwargs\u001b[0m\u001b[0;34m)\u001b[0m\u001b[0;34m\u001b[0m\u001b[0;34m\u001b[0m\u001b[0m\n\u001b[0;32m-> 2829\u001b[0;31m     \u001b[0;32mreturn\u001b[0m \u001b[0mgraph_function\u001b[0m\u001b[0;34m.\u001b[0m\u001b[0m_filtered_call\u001b[0m\u001b[0;34m(\u001b[0m\u001b[0margs\u001b[0m\u001b[0;34m,\u001b[0m \u001b[0mkwargs\u001b[0m\u001b[0;34m)\u001b[0m  \u001b[0;31m# pylint: disable=protected-access\u001b[0m\u001b[0;34m\u001b[0m\u001b[0;34m\u001b[0m\u001b[0m\n\u001b[0m\u001b[1;32m   2830\u001b[0m \u001b[0;34m\u001b[0m\u001b[0m\n\u001b[1;32m   2831\u001b[0m   \u001b[0;34m@\u001b[0m\u001b[0mproperty\u001b[0m\u001b[0;34m\u001b[0m\u001b[0;34m\u001b[0m\u001b[0m\n",
            "\u001b[0;32m/usr/local/lib/python3.6/dist-packages/tensorflow/python/eager/function.py\u001b[0m in \u001b[0;36m_filtered_call\u001b[0;34m(self, args, kwargs, cancellation_manager)\u001b[0m\n\u001b[1;32m   1846\u001b[0m                            resource_variable_ops.BaseResourceVariable))],\n\u001b[1;32m   1847\u001b[0m         \u001b[0mcaptured_inputs\u001b[0m\u001b[0;34m=\u001b[0m\u001b[0mself\u001b[0m\u001b[0;34m.\u001b[0m\u001b[0mcaptured_inputs\u001b[0m\u001b[0;34m,\u001b[0m\u001b[0;34m\u001b[0m\u001b[0;34m\u001b[0m\u001b[0m\n\u001b[0;32m-> 1848\u001b[0;31m         cancellation_manager=cancellation_manager)\n\u001b[0m\u001b[1;32m   1849\u001b[0m \u001b[0;34m\u001b[0m\u001b[0m\n\u001b[1;32m   1850\u001b[0m   \u001b[0;32mdef\u001b[0m \u001b[0m_call_flat\u001b[0m\u001b[0;34m(\u001b[0m\u001b[0mself\u001b[0m\u001b[0;34m,\u001b[0m \u001b[0margs\u001b[0m\u001b[0;34m,\u001b[0m \u001b[0mcaptured_inputs\u001b[0m\u001b[0;34m,\u001b[0m \u001b[0mcancellation_manager\u001b[0m\u001b[0;34m=\u001b[0m\u001b[0;32mNone\u001b[0m\u001b[0;34m)\u001b[0m\u001b[0;34m:\u001b[0m\u001b[0;34m\u001b[0m\u001b[0;34m\u001b[0m\u001b[0m\n",
            "\u001b[0;32m/usr/local/lib/python3.6/dist-packages/tensorflow/python/eager/function.py\u001b[0m in \u001b[0;36m_call_flat\u001b[0;34m(self, args, captured_inputs, cancellation_manager)\u001b[0m\n\u001b[1;32m   1922\u001b[0m       \u001b[0;31m# No tape is watching; skip to running the function.\u001b[0m\u001b[0;34m\u001b[0m\u001b[0;34m\u001b[0m\u001b[0;34m\u001b[0m\u001b[0m\n\u001b[1;32m   1923\u001b[0m       return self._build_call_outputs(self._inference_function.call(\n\u001b[0;32m-> 1924\u001b[0;31m           ctx, args, cancellation_manager=cancellation_manager))\n\u001b[0m\u001b[1;32m   1925\u001b[0m     forward_backward = self._select_forward_and_backward_functions(\n\u001b[1;32m   1926\u001b[0m         \u001b[0margs\u001b[0m\u001b[0;34m,\u001b[0m\u001b[0;34m\u001b[0m\u001b[0;34m\u001b[0m\u001b[0m\n",
            "\u001b[0;32m/usr/local/lib/python3.6/dist-packages/tensorflow/python/eager/function.py\u001b[0m in \u001b[0;36mcall\u001b[0;34m(self, ctx, args, cancellation_manager)\u001b[0m\n\u001b[1;32m    548\u001b[0m               \u001b[0minputs\u001b[0m\u001b[0;34m=\u001b[0m\u001b[0margs\u001b[0m\u001b[0;34m,\u001b[0m\u001b[0;34m\u001b[0m\u001b[0;34m\u001b[0m\u001b[0m\n\u001b[1;32m    549\u001b[0m               \u001b[0mattrs\u001b[0m\u001b[0;34m=\u001b[0m\u001b[0mattrs\u001b[0m\u001b[0;34m,\u001b[0m\u001b[0;34m\u001b[0m\u001b[0;34m\u001b[0m\u001b[0m\n\u001b[0;32m--> 550\u001b[0;31m               ctx=ctx)\n\u001b[0m\u001b[1;32m    551\u001b[0m         \u001b[0;32melse\u001b[0m\u001b[0;34m:\u001b[0m\u001b[0;34m\u001b[0m\u001b[0;34m\u001b[0m\u001b[0m\n\u001b[1;32m    552\u001b[0m           outputs = execute.execute_with_cancellation(\n",
            "\u001b[0;32m/usr/local/lib/python3.6/dist-packages/tensorflow/python/eager/execute.py\u001b[0m in \u001b[0;36mquick_execute\u001b[0;34m(op_name, num_outputs, inputs, attrs, ctx, name)\u001b[0m\n\u001b[1;32m     58\u001b[0m     \u001b[0mctx\u001b[0m\u001b[0;34m.\u001b[0m\u001b[0mensure_initialized\u001b[0m\u001b[0;34m(\u001b[0m\u001b[0;34m)\u001b[0m\u001b[0;34m\u001b[0m\u001b[0;34m\u001b[0m\u001b[0m\n\u001b[1;32m     59\u001b[0m     tensors = pywrap_tfe.TFE_Py_Execute(ctx._handle, device_name, op_name,\n\u001b[0;32m---> 60\u001b[0;31m                                         inputs, attrs, num_outputs)\n\u001b[0m\u001b[1;32m     61\u001b[0m   \u001b[0;32mexcept\u001b[0m \u001b[0mcore\u001b[0m\u001b[0;34m.\u001b[0m\u001b[0m_NotOkStatusException\u001b[0m \u001b[0;32mas\u001b[0m \u001b[0me\u001b[0m\u001b[0;34m:\u001b[0m\u001b[0;34m\u001b[0m\u001b[0;34m\u001b[0m\u001b[0m\n\u001b[1;32m     62\u001b[0m     \u001b[0;32mif\u001b[0m \u001b[0mname\u001b[0m \u001b[0;32mis\u001b[0m \u001b[0;32mnot\u001b[0m \u001b[0;32mNone\u001b[0m\u001b[0;34m:\u001b[0m\u001b[0;34m\u001b[0m\u001b[0;34m\u001b[0m\u001b[0m\n",
            "\u001b[0;31mKeyboardInterrupt\u001b[0m: "
          ]
        }
      ]
    },
    {
      "cell_type": "markdown",
      "metadata": {
        "id": "gQ3bR6gwBtse"
      },
      "source": [
        ""
      ]
    }
  ]
}